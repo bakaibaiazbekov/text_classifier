{
 "cells": [
  {
   "cell_type": "code",
   "execution_count": 1,
   "metadata": {},
   "outputs": [],
   "source": [
    "setwd(\"/Users/bakaibaiazbekov/Documents/unsorted\")"
   ]
  },
  {
   "cell_type": "code",
   "execution_count": 4,
   "metadata": {
    "jupyter": {
     "outputs_hidden": true
    }
   },
   "outputs": [
    {
     "name": "stderr",
     "output_type": "stream",
     "text": [
      "── \u001b[1mAttaching packages\u001b[22m ─────────────────────────────────────── tidyverse 1.3.0 ──\n",
      "\n",
      "\u001b[32m✔\u001b[39m \u001b[34mggplot2\u001b[39m 3.2.1     \u001b[32m✔\u001b[39m \u001b[34mpurrr  \u001b[39m 0.3.3\n",
      "\u001b[32m✔\u001b[39m \u001b[34mtibble \u001b[39m 2.1.3     \u001b[32m✔\u001b[39m \u001b[34mdplyr  \u001b[39m 0.8.3\n",
      "\u001b[32m✔\u001b[39m \u001b[34mtidyr  \u001b[39m 1.0.0     \u001b[32m✔\u001b[39m \u001b[34mstringr\u001b[39m 1.4.0\n",
      "\u001b[32m✔\u001b[39m \u001b[34mreadr  \u001b[39m 1.3.1     \u001b[32m✔\u001b[39m \u001b[34mforcats\u001b[39m 0.4.0\n",
      "\n",
      "── \u001b[1mConflicts\u001b[22m ────────────────────────────────────────── tidyverse_conflicts() ──\n",
      "\u001b[31m✖\u001b[39m \u001b[34mdplyr\u001b[39m::\u001b[32mfilter()\u001b[39m masks \u001b[34mstats\u001b[39m::filter()\n",
      "\u001b[31m✖\u001b[39m \u001b[34mdplyr\u001b[39m::\u001b[32mlag()\u001b[39m    masks \u001b[34mstats\u001b[39m::lag()\n",
      "\n"
     ]
    }
   ],
   "source": [
    "#install.packages('tidyverse')\n",
    "library(tidyverse)\n",
    "#library(stringdist)"
   ]
  },
  {
   "cell_type": "code",
   "execution_count": 5,
   "metadata": {
    "jupyter": {
     "outputs_hidden": true
    }
   },
   "outputs": [
    {
     "name": "stderr",
     "output_type": "stream",
     "text": [
      "Using ',' as decimal and '.' as grouping mark. Use read_delim() for more control.\n",
      "\n",
      "Parsed with column specification:\n",
      "cols(\n",
      "  dim1 = \u001b[32mcol_double()\u001b[39m,\n",
      "  dim2 = \u001b[32mcol_double()\u001b[39m,\n",
      "  CLU15 = \u001b[32mcol_double()\u001b[39m,\n",
      "  CLU14 = \u001b[32mcol_double()\u001b[39m,\n",
      "  CLU13 = \u001b[32mcol_double()\u001b[39m,\n",
      "  CLU12 = \u001b[32mcol_double()\u001b[39m,\n",
      "  CLU11 = \u001b[32mcol_double()\u001b[39m,\n",
      "  CLU10 = \u001b[32mcol_double()\u001b[39m,\n",
      "  CLU9 = \u001b[32mcol_double()\u001b[39m,\n",
      "  CLU8 = \u001b[32mcol_double()\u001b[39m,\n",
      "  CLU7 = \u001b[32mcol_double()\u001b[39m,\n",
      "  CLU6 = \u001b[32mcol_double()\u001b[39m,\n",
      "  CLU5 = \u001b[32mcol_double()\u001b[39m,\n",
      "  item_num = \u001b[32mcol_double()\u001b[39m,\n",
      "  item_text = \u001b[31mcol_character()\u001b[39m\n",
      ")\n",
      "\n",
      "Using ',' as decimal and '.' as grouping mark. Use read_delim() for more control.\n",
      "\n",
      "Warning message:\n",
      "“Missing column names filled in: 'X3' [3], 'X4' [4], 'X5' [5]”\n",
      "Parsed with column specification:\n",
      "cols(\n",
      "  unsorted_id = \u001b[31mcol_character()\u001b[39m,\n",
      "  unsorted_content = \u001b[31mcol_character()\u001b[39m,\n",
      "  X3 = \u001b[33mcol_logical()\u001b[39m,\n",
      "  X4 = \u001b[33mcol_logical()\u001b[39m,\n",
      "  X5 = \u001b[33mcol_logical()\u001b[39m\n",
      ")\n",
      "\n",
      "Using ',' as decimal and '.' as grouping mark. Use read_delim() for more control.\n",
      "\n",
      "Parsed with column specification:\n",
      "cols(\n",
      "  `Label ID` = \u001b[32mcol_double()\u001b[39m,\n",
      "  `Label text` = \u001b[31mcol_character()\u001b[39m,\n",
      "  dim1 = \u001b[32mcol_double()\u001b[39m,\n",
      "  dim2 = \u001b[32mcol_double()\u001b[39m,\n",
      "  `Distance to center` = \u001b[32mcol_double()\u001b[39m,\n",
      "  `cluster #` = \u001b[32mcol_double()\u001b[39m\n",
      ")\n",
      "\n"
     ]
    },
    {
     "data": {
      "text/html": [
       "<table>\n",
       "<caption>A tibble: 6 × 15</caption>\n",
       "<thead>\n",
       "\t<tr><th scope=col>dim1</th><th scope=col>dim2</th><th scope=col>CLU15</th><th scope=col>CLU14</th><th scope=col>CLU13</th><th scope=col>CLU12</th><th scope=col>CLU11</th><th scope=col>CLU10</th><th scope=col>CLU9</th><th scope=col>CLU8</th><th scope=col>CLU7</th><th scope=col>CLU6</th><th scope=col>CLU5</th><th scope=col>item_num</th><th scope=col>item_text</th></tr>\n",
       "\t<tr><th scope=col>&lt;dbl&gt;</th><th scope=col>&lt;dbl&gt;</th><th scope=col>&lt;dbl&gt;</th><th scope=col>&lt;dbl&gt;</th><th scope=col>&lt;dbl&gt;</th><th scope=col>&lt;dbl&gt;</th><th scope=col>&lt;dbl&gt;</th><th scope=col>&lt;dbl&gt;</th><th scope=col>&lt;dbl&gt;</th><th scope=col>&lt;dbl&gt;</th><th scope=col>&lt;dbl&gt;</th><th scope=col>&lt;dbl&gt;</th><th scope=col>&lt;dbl&gt;</th><th scope=col>&lt;dbl&gt;</th><th scope=col>&lt;chr&gt;</th></tr>\n",
       "</thead>\n",
       "<tbody>\n",
       "\t<tr><td> 0.16485037</td><td>-0.6427448</td><td>1</td><td>1</td><td>1</td><td>1</td><td>1</td><td>1</td><td>1</td><td>1</td><td>1</td><td>1</td><td>1</td><td>1</td><td>1. Challenge the audience to question their practice                                                                                                             </td></tr>\n",
       "\t<tr><td> 0.32164576</td><td> 0.7572175</td><td>2</td><td>2</td><td>2</td><td>2</td><td>2</td><td>2</td><td>2</td><td>2</td><td>2</td><td>2</td><td>2</td><td>2</td><td>2. Cover novel therapies, techniques, and concepts                                                                                                               </td></tr>\n",
       "\t<tr><td> 0.52631264</td><td>-0.1798007</td><td>3</td><td>3</td><td>3</td><td>3</td><td>3</td><td>3</td><td>3</td><td>3</td><td>3</td><td>3</td><td>3</td><td>3</td><td>3. Provide a forum for topics of  health and education that are relevant to this organization and to the community at large.                                     </td></tr>\n",
       "\t<tr><td>-0.06026326</td><td>-0.4164893</td><td>1</td><td>1</td><td>1</td><td>1</td><td>1</td><td>1</td><td>1</td><td>1</td><td>1</td><td>1</td><td>1</td><td>4</td><td>4. Presentations in which clinical issues are discussed in a case presentation format by specialists and allowing for the opportunity for comments and questions.</td></tr>\n",
       "\t<tr><td>-0.50168592</td><td> 0.6736931</td><td>4</td><td>4</td><td>4</td><td>4</td><td>4</td><td>4</td><td>4</td><td>4</td><td>4</td><td>4</td><td>4</td><td>5</td><td>5. Cover areas from this organization's strategic plan.                                                                                                          </td></tr>\n",
       "\t<tr><td> 0.10648422</td><td> 0.5826680</td><td>2</td><td>2</td><td>2</td><td>2</td><td>2</td><td>2</td><td>2</td><td>2</td><td>2</td><td>2</td><td>2</td><td>6</td><td>6. Present speakers and ideas that are \"out of the box\" such as the recent one about the beauty of patients with chronic medical problems.                       </td></tr>\n",
       "</tbody>\n",
       "</table>\n"
      ],
      "text/latex": [
       "A tibble: 6 × 15\n",
       "\\begin{tabular}{lllllllllllllll}\n",
       " dim1 & dim2 & CLU15 & CLU14 & CLU13 & CLU12 & CLU11 & CLU10 & CLU9 & CLU8 & CLU7 & CLU6 & CLU5 & item\\_num & item\\_text\\\\\n",
       " <dbl> & <dbl> & <dbl> & <dbl> & <dbl> & <dbl> & <dbl> & <dbl> & <dbl> & <dbl> & <dbl> & <dbl> & <dbl> & <dbl> & <chr>\\\\\n",
       "\\hline\n",
       "\t  0.16485037 & -0.6427448 & 1 & 1 & 1 & 1 & 1 & 1 & 1 & 1 & 1 & 1 & 1 & 1 & 1. Challenge the audience to question their practice                                                                                                             \\\\\n",
       "\t  0.32164576 &  0.7572175 & 2 & 2 & 2 & 2 & 2 & 2 & 2 & 2 & 2 & 2 & 2 & 2 & 2. Cover novel therapies, techniques, and concepts                                                                                                               \\\\\n",
       "\t  0.52631264 & -0.1798007 & 3 & 3 & 3 & 3 & 3 & 3 & 3 & 3 & 3 & 3 & 3 & 3 & 3. Provide a forum for topics of  health and education that are relevant to this organization and to the community at large.                                     \\\\\n",
       "\t -0.06026326 & -0.4164893 & 1 & 1 & 1 & 1 & 1 & 1 & 1 & 1 & 1 & 1 & 1 & 4 & 4. Presentations in which clinical issues are discussed in a case presentation format by specialists and allowing for the opportunity for comments and questions.\\\\\n",
       "\t -0.50168592 &  0.6736931 & 4 & 4 & 4 & 4 & 4 & 4 & 4 & 4 & 4 & 4 & 4 & 5 & 5. Cover areas from this organization's strategic plan.                                                                                                          \\\\\n",
       "\t  0.10648422 &  0.5826680 & 2 & 2 & 2 & 2 & 2 & 2 & 2 & 2 & 2 & 2 & 2 & 6 & 6. Present speakers and ideas that are \"out of the box\" such as the recent one about the beauty of patients with chronic medical problems.                       \\\\\n",
       "\\end{tabular}\n"
      ],
      "text/markdown": [
       "\n",
       "A tibble: 6 × 15\n",
       "\n",
       "| dim1 &lt;dbl&gt; | dim2 &lt;dbl&gt; | CLU15 &lt;dbl&gt; | CLU14 &lt;dbl&gt; | CLU13 &lt;dbl&gt; | CLU12 &lt;dbl&gt; | CLU11 &lt;dbl&gt; | CLU10 &lt;dbl&gt; | CLU9 &lt;dbl&gt; | CLU8 &lt;dbl&gt; | CLU7 &lt;dbl&gt; | CLU6 &lt;dbl&gt; | CLU5 &lt;dbl&gt; | item_num &lt;dbl&gt; | item_text &lt;chr&gt; |\n",
       "|---|---|---|---|---|---|---|---|---|---|---|---|---|---|---|\n",
       "|  0.16485037 | -0.6427448 | 1 | 1 | 1 | 1 | 1 | 1 | 1 | 1 | 1 | 1 | 1 | 1 | 1. Challenge the audience to question their practice                                                                                                              |\n",
       "|  0.32164576 |  0.7572175 | 2 | 2 | 2 | 2 | 2 | 2 | 2 | 2 | 2 | 2 | 2 | 2 | 2. Cover novel therapies, techniques, and concepts                                                                                                                |\n",
       "|  0.52631264 | -0.1798007 | 3 | 3 | 3 | 3 | 3 | 3 | 3 | 3 | 3 | 3 | 3 | 3 | 3. Provide a forum for topics of  health and education that are relevant to this organization and to the community at large.                                      |\n",
       "| -0.06026326 | -0.4164893 | 1 | 1 | 1 | 1 | 1 | 1 | 1 | 1 | 1 | 1 | 1 | 4 | 4. Presentations in which clinical issues are discussed in a case presentation format by specialists and allowing for the opportunity for comments and questions. |\n",
       "| -0.50168592 |  0.6736931 | 4 | 4 | 4 | 4 | 4 | 4 | 4 | 4 | 4 | 4 | 4 | 5 | 5. Cover areas from this organization's strategic plan.                                                                                                           |\n",
       "|  0.10648422 |  0.5826680 | 2 | 2 | 2 | 2 | 2 | 2 | 2 | 2 | 2 | 2 | 2 | 6 | 6. Present speakers and ideas that are \"out of the box\" such as the recent one about the beauty of patients with chronic medical problems.                        |\n",
       "\n"
      ],
      "text/plain": [
       "  dim1        dim2       CLU15 CLU14 CLU13 CLU12 CLU11 CLU10 CLU9 CLU8 CLU7\n",
       "1  0.16485037 -0.6427448 1     1     1     1     1     1     1    1    1   \n",
       "2  0.32164576  0.7572175 2     2     2     2     2     2     2    2    2   \n",
       "3  0.52631264 -0.1798007 3     3     3     3     3     3     3    3    3   \n",
       "4 -0.06026326 -0.4164893 1     1     1     1     1     1     1    1    1   \n",
       "5 -0.50168592  0.6736931 4     4     4     4     4     4     4    4    4   \n",
       "6  0.10648422  0.5826680 2     2     2     2     2     2     2    2    2   \n",
       "  CLU6 CLU5 item_num\n",
       "1 1    1    1       \n",
       "2 2    2    2       \n",
       "3 3    3    3       \n",
       "4 1    1    4       \n",
       "5 4    4    5       \n",
       "6 2    2    6       \n",
       "  item_text                                                                                                                                                        \n",
       "1 1. Challenge the audience to question their practice                                                                                                             \n",
       "2 2. Cover novel therapies, techniques, and concepts                                                                                                               \n",
       "3 3. Provide a forum for topics of  health and education that are relevant to this organization and to the community at large.                                     \n",
       "4 4. Presentations in which clinical issues are discussed in a case presentation format by specialists and allowing for the opportunity for comments and questions.\n",
       "5 5. Cover areas from this organization's strategic plan.                                                                                                          \n",
       "6 6. Present speakers and ideas that are \"out of the box\" such as the recent one about the beauty of patients with chronic medical problems.                       "
      ]
     },
     "metadata": {},
     "output_type": "display_data"
    },
    {
     "data": {
      "text/html": [
       "<table>\n",
       "<caption>A tibble: 6 × 5</caption>\n",
       "<thead>\n",
       "\t<tr><th scope=col>unsorted_id</th><th scope=col>unsorted_content</th><th scope=col>X3</th><th scope=col>X4</th><th scope=col>X5</th></tr>\n",
       "\t<tr><th scope=col>&lt;chr&gt;</th><th scope=col>&lt;chr&gt;</th><th scope=col>&lt;lgl&gt;</th><th scope=col>&lt;lgl&gt;</th><th scope=col>&lt;lgl&gt;</th></tr>\n",
       "</thead>\n",
       "<tbody>\n",
       "\t<tr><td>41 </td><td>Be interesting and easy to learn from.          </td><td>NA</td><td>NA</td><td>NA</td></tr>\n",
       "\t<tr><td>93 </td><td>Give quality lectures                           </td><td>NA</td><td>NA</td><td>NA</td></tr>\n",
       "\t<tr><td>59 </td><td>Have an engaging speaker.                       </td><td>NA</td><td>NA</td><td>NA</td></tr>\n",
       "\t<tr><td>122</td><td>Bring national figures to present               </td><td>NA</td><td>NA</td><td>NA</td></tr>\n",
       "\t<tr><td>139</td><td>Get national and international speaker/experts  </td><td>NA</td><td>NA</td><td>NA</td></tr>\n",
       "\t<tr><td>160</td><td>Include some of the best speakers in the country</td><td>NA</td><td>NA</td><td>NA</td></tr>\n",
       "</tbody>\n",
       "</table>\n"
      ],
      "text/latex": [
       "A tibble: 6 × 5\n",
       "\\begin{tabular}{lllll}\n",
       " unsorted\\_id & unsorted\\_content & X3 & X4 & X5\\\\\n",
       " <chr> & <chr> & <lgl> & <lgl> & <lgl>\\\\\n",
       "\\hline\n",
       "\t 41  & Be interesting and easy to learn from.           & NA & NA & NA\\\\\n",
       "\t 93  & Give quality lectures                            & NA & NA & NA\\\\\n",
       "\t 59  & Have an engaging speaker.                        & NA & NA & NA\\\\\n",
       "\t 122 & Bring national figures to present                & NA & NA & NA\\\\\n",
       "\t 139 & Get national and international speaker/experts   & NA & NA & NA\\\\\n",
       "\t 160 & Include some of the best speakers in the country & NA & NA & NA\\\\\n",
       "\\end{tabular}\n"
      ],
      "text/markdown": [
       "\n",
       "A tibble: 6 × 5\n",
       "\n",
       "| unsorted_id &lt;chr&gt; | unsorted_content &lt;chr&gt; | X3 &lt;lgl&gt; | X4 &lt;lgl&gt; | X5 &lt;lgl&gt; |\n",
       "|---|---|---|---|---|\n",
       "| 41  | Be interesting and easy to learn from.           | NA | NA | NA |\n",
       "| 93  | Give quality lectures                            | NA | NA | NA |\n",
       "| 59  | Have an engaging speaker.                        | NA | NA | NA |\n",
       "| 122 | Bring national figures to present                | NA | NA | NA |\n",
       "| 139 | Get national and international speaker/experts   | NA | NA | NA |\n",
       "| 160 | Include some of the best speakers in the country | NA | NA | NA |\n",
       "\n"
      ],
      "text/plain": [
       "  unsorted_id unsorted_content                                 X3 X4 X5\n",
       "1 41          Be interesting and easy to learn from.           NA NA NA\n",
       "2 93          Give quality lectures                            NA NA NA\n",
       "3 59          Have an engaging speaker.                        NA NA NA\n",
       "4 122         Bring national figures to present                NA NA NA\n",
       "5 139         Get national and international speaker/experts   NA NA NA\n",
       "6 160         Include some of the best speakers in the country NA NA NA"
      ]
     },
     "metadata": {},
     "output_type": "display_data"
    }
   ],
   "source": [
    "output <- read_csv2(\"output-Table 1.csv\")\n",
    "unsorted <- read_csv2(\"unsorted-Table 1.csv\")\n",
    "clu5 <- read_csv2(\"clu5 top labels-Table 1.csv\")\n",
    "\n",
    "head(output)\n",
    "head(unsorted)"
   ]
  },
  {
   "cell_type": "code",
   "execution_count": 6,
   "metadata": {},
   "outputs": [],
   "source": [
    "output$dim1 <- round(output$dim1, 4)\n",
    "output$dim2 <- round(output$dim2, 4)"
   ]
  },
  {
   "cell_type": "code",
   "execution_count": 7,
   "metadata": {},
   "outputs": [
    {
     "data": {
      "image/png": "[encoded data removed]",
      "text/plain": [
       "plot without title"
      ]
     },
     "metadata": {
      "image/png": {
       "height": 420,
       "width": 420
      }
     },
     "output_type": "display_data"
    }
   ],
   "source": [
    "ggplot(output,aes(x = dim1, y = dim2, color = CLU5, label = CLU5)) + geom_point() + geom_text(aes(label=CLU5),hjust=0, vjust=0)"
   ]
  },
  {
   "cell_type": "code",
   "execution_count": 9,
   "metadata": {
    "jupyter": {
     "outputs_hidden": true
    }
   },
   "outputs": [
    {
     "name": "stderr",
     "output_type": "stream",
     "text": [
      "Loading required package: NLP\n",
      "\n",
      "\n",
      "Attaching package: ‘NLP’\n",
      "\n",
      "\n",
      "The following object is masked from ‘package:ggplot2’:\n",
      "\n",
      "    annotate\n",
      "\n",
      "\n"
     ]
    }
   ],
   "source": [
    "#install.packages(c('tm', 'SnowballC','NLP'))\n",
    "library(tm)\n",
    "library(SnowballC)\n",
    "library(NLP)"
   ]
  },
  {
   "cell_type": "code",
   "execution_count": 10,
   "metadata": {},
   "outputs": [
    {
     "name": "stdout",
     "output_type": "stream",
     "text": [
      " chr [1:81] \"Be interesting and easy to learn from.\" ...\n"
     ]
    }
   ],
   "source": [
    "str(unsorted$unsorted_content)"
   ]
  },
  {
   "cell_type": "markdown",
   "metadata": {},
   "source": [
    "# Pre-processing the Data"
   ]
  },
  {
   "cell_type": "code",
   "execution_count": 11,
   "metadata": {},
   "outputs": [],
   "source": [
    "# Create corpus\n",
    " \n",
    "corpus = VCorpus(VectorSource(unsorted$unsorted_content))\n",
    "# corpus$content"
   ]
  },
  {
   "cell_type": "code",
   "execution_count": 12,
   "metadata": {},
   "outputs": [
    {
     "data": {
      "text/html": [
       "'Be interesting and easy to learn from.'"
      ],
      "text/latex": [
       "'Be interesting and easy to learn from.'"
      ],
      "text/markdown": [
       "'Be interesting and easy to learn from.'"
      ],
      "text/plain": [
       "[1] \"Be interesting and easy to learn from.\""
      ]
     },
     "metadata": {},
     "output_type": "display_data"
    }
   ],
   "source": [
    "strwrap(corpus[[1]])"
   ]
  },
  {
   "cell_type": "code",
   "execution_count": 13,
   "metadata": {},
   "outputs": [],
   "source": [
    "# Convert to lower-case\n",
    "\n",
    "corpus = tm_map(corpus, content_transformer(tolower))\n",
    "corpus = tm_map(corpus, removeNumbers)\n",
    "corpus = tm_map(corpus, removePunctuation)\n",
    "corpus = tm_map(corpus, stripWhitespace)"
   ]
  },
  {
   "cell_type": "code",
   "execution_count": 14,
   "metadata": {},
   "outputs": [
    {
     "data": {
      "text/html": [
       "'be interesting and easy to learn from'"
      ],
      "text/latex": [
       "'be interesting and easy to learn from'"
      ],
      "text/markdown": [
       "'be interesting and easy to learn from'"
      ],
      "text/plain": [
       "[1] \"be interesting and easy to learn from\""
      ]
     },
     "metadata": {},
     "output_type": "display_data"
    }
   ],
   "source": [
    "strwrap(corpus[[1]])"
   ]
  },
  {
   "cell_type": "code",
   "execution_count": 15,
   "metadata": {},
   "outputs": [
    {
     "data": {
      "text/html": [
       "'interesting easy learn'"
      ],
      "text/latex": [
       "'interesting easy learn'"
      ],
      "text/markdown": [
       "'interesting easy learn'"
      ],
      "text/plain": [
       "[1] \"interesting easy learn\""
      ]
     },
     "metadata": {},
     "output_type": "display_data"
    }
   ],
   "source": [
    "# Remove stopwords and apple\n",
    "\n",
    "corpus = tm_map(corpus, removeWords, stopwords(\"english\"))\n",
    "\n",
    "strwrap(corpus[[1]])\n"
   ]
  },
  {
   "cell_type": "markdown",
   "metadata": {},
   "source": [
    "# Clustering Unsupervised Analysis"
   ]
  },
  {
   "cell_type": "code",
   "execution_count": 16,
   "metadata": {},
   "outputs": [
    {
     "data": {
      "text/plain": [
       "<<DocumentTermMatrix (documents: 81, terms: 271)>>\n",
       "Non-/sparse entries: 474/21477\n",
       "Sparsity           : 98%\n",
       "Maximal term length: 26\n",
       "Weighting          : term frequency (tf)"
      ]
     },
     "metadata": {},
     "output_type": "display_data"
    }
   ],
   "source": [
    "mat <- DocumentTermMatrix(corpus)\n",
    "mat"
   ]
  },
  {
   "cell_type": "code",
   "execution_count": 17,
   "metadata": {
    "jupyter": {
     "outputs_hidden": true
    }
   },
   "outputs": [
    {
     "data": {
      "text/html": [
       "<table>\n",
       "<caption>A matrix: 81 × 271 of type dbl</caption>\n",
       "<thead>\n",
       "\t<tr><th></th><th scope=col>access</th><th scope=col>accessattend</th><th scope=col>accessible</th><th scope=col>address</th><th scope=col>adult</th><th scope=col>advance</th><th scope=col>affects</th><th scope=col>amount</th><th scope=col>applicable</th><th scope=col>approach</th><th scope=col>⋯</th><th scope=col>updated</th><th scope=col>use</th><th scope=col>variety</th><th scope=col>way</th><th scope=col>well</th><th scope=col>wellknown</th><th scope=col>wide</th><th scope=col>widely</th><th scope=col>will</th><th scope=col>work</th></tr>\n",
       "</thead>\n",
       "<tbody>\n",
       "\t<tr><th scope=row>1</th><td>0</td><td>0.000000</td><td>0.0000000</td><td>0</td><td>0</td><td>0</td><td>0</td><td>0</td><td>0.0000000</td><td>0</td><td>⋯</td><td>0.0000000</td><td>0.0000000</td><td>0</td><td>0</td><td>0.0000000</td><td>0.000000</td><td>0</td><td>0.0000000</td><td>0</td><td>0</td></tr>\n",
       "\t<tr><th scope=row>2</th><td>0</td><td>0.000000</td><td>0.0000000</td><td>0</td><td>0</td><td>0</td><td>0</td><td>0</td><td>0.0000000</td><td>0</td><td>⋯</td><td>0.0000000</td><td>0.0000000</td><td>0</td><td>0</td><td>0.0000000</td><td>0.000000</td><td>0</td><td>0.0000000</td><td>0</td><td>0</td></tr>\n",
       "\t<tr><th scope=row>3</th><td>0</td><td>0.000000</td><td>0.0000000</td><td>0</td><td>0</td><td>0</td><td>0</td><td>0</td><td>0.0000000</td><td>0</td><td>⋯</td><td>0.0000000</td><td>0.0000000</td><td>0</td><td>0</td><td>0.0000000</td><td>0.000000</td><td>0</td><td>0.0000000</td><td>0</td><td>0</td></tr>\n",
       "\t<tr><th scope=row>4</th><td>0</td><td>0.000000</td><td>0.0000000</td><td>0</td><td>0</td><td>0</td><td>0</td><td>0</td><td>0.0000000</td><td>0</td><td>⋯</td><td>0.0000000</td><td>0.0000000</td><td>0</td><td>0</td><td>0.0000000</td><td>0.000000</td><td>0</td><td>0.0000000</td><td>0</td><td>0</td></tr>\n",
       "\t<tr><th scope=row>5</th><td>0</td><td>0.000000</td><td>0.0000000</td><td>0</td><td>0</td><td>0</td><td>0</td><td>0</td><td>0.0000000</td><td>0</td><td>⋯</td><td>0.0000000</td><td>0.0000000</td><td>0</td><td>0</td><td>0.0000000</td><td>0.000000</td><td>0</td><td>0.0000000</td><td>0</td><td>0</td></tr>\n",
       "\t<tr><th scope=row>6</th><td>0</td><td>0.000000</td><td>0.0000000</td><td>0</td><td>0</td><td>0</td><td>0</td><td>0</td><td>0.0000000</td><td>0</td><td>⋯</td><td>0.0000000</td><td>0.0000000</td><td>0</td><td>0</td><td>0.0000000</td><td>0.000000</td><td>0</td><td>0.0000000</td><td>0</td><td>0</td></tr>\n",
       "\t<tr><th scope=row>7</th><td>0</td><td>0.000000</td><td>0.0000000</td><td>0</td><td>0</td><td>0</td><td>0</td><td>0</td><td>0.0000000</td><td>0</td><td>⋯</td><td>0.0000000</td><td>0.0000000</td><td>0</td><td>0</td><td>0.0000000</td><td>0.000000</td><td>0</td><td>0.0000000</td><td>0</td><td>0</td></tr>\n",
       "\t<tr><th scope=row>8</th><td>0</td><td>0.000000</td><td>0.0000000</td><td>0</td><td>0</td><td>0</td><td>0</td><td>0</td><td>0.0000000</td><td>0</td><td>⋯</td><td>0.0000000</td><td>0.0000000</td><td>0</td><td>0</td><td>0.0000000</td><td>1.584963</td><td>0</td><td>0.0000000</td><td>0</td><td>0</td></tr>\n",
       "\t<tr><th scope=row>9</th><td>0</td><td>0.000000</td><td>0.0000000</td><td>0</td><td>0</td><td>0</td><td>0</td><td>0</td><td>0.0000000</td><td>0</td><td>⋯</td><td>0.0000000</td><td>0.0000000</td><td>0</td><td>0</td><td>0.0000000</td><td>0.000000</td><td>0</td><td>0.0000000</td><td>0</td><td>0</td></tr>\n",
       "\t<tr><th scope=row>10</th><td>0</td><td>0.000000</td><td>0.0000000</td><td>0</td><td>0</td><td>0</td><td>0</td><td>0</td><td>0.0000000</td><td>0</td><td>⋯</td><td>0.0000000</td><td>0.0000000</td><td>0</td><td>0</td><td>0.0000000</td><td>0.000000</td><td>0</td><td>0.0000000</td><td>0</td><td>0</td></tr>\n",
       "\t<tr><th scope=row>11</th><td>0</td><td>0.000000</td><td>0.0000000</td><td>0</td><td>0</td><td>0</td><td>0</td><td>0</td><td>0.0000000</td><td>0</td><td>⋯</td><td>0.0000000</td><td>0.0000000</td><td>0</td><td>0</td><td>0.0000000</td><td>0.000000</td><td>0</td><td>0.0000000</td><td>0</td><td>0</td></tr>\n",
       "\t<tr><th scope=row>12</th><td>0</td><td>0.000000</td><td>0.0000000</td><td>0</td><td>0</td><td>0</td><td>0</td><td>0</td><td>0.0000000</td><td>0</td><td>⋯</td><td>0.0000000</td><td>0.0000000</td><td>0</td><td>0</td><td>0.0000000</td><td>0.000000</td><td>0</td><td>0.0000000</td><td>0</td><td>0</td></tr>\n",
       "\t<tr><th scope=row>13</th><td>0</td><td>0.000000</td><td>0.0000000</td><td>0</td><td>0</td><td>0</td><td>0</td><td>0</td><td>0.0000000</td><td>0</td><td>⋯</td><td>0.0000000</td><td>0.0000000</td><td>0</td><td>0</td><td>0.0000000</td><td>0.000000</td><td>0</td><td>0.0000000</td><td>0</td><td>0</td></tr>\n",
       "\t<tr><th scope=row>14</th><td>0</td><td>0.000000</td><td>0.0000000</td><td>0</td><td>0</td><td>0</td><td>0</td><td>0</td><td>0.0000000</td><td>0</td><td>⋯</td><td>0.0000000</td><td>0.0000000</td><td>0</td><td>0</td><td>0.0000000</td><td>0.000000</td><td>0</td><td>0.0000000</td><td>0</td><td>0</td></tr>\n",
       "\t<tr><th scope=row>15</th><td>0</td><td>0.000000</td><td>0.0000000</td><td>0</td><td>0</td><td>0</td><td>0</td><td>0</td><td>0.0000000</td><td>0</td><td>⋯</td><td>0.9056929</td><td>0.0000000</td><td>0</td><td>0</td><td>0.0000000</td><td>0.000000</td><td>0</td><td>0.0000000</td><td>0</td><td>0</td></tr>\n",
       "\t<tr><th scope=row>16</th><td>0</td><td>0.000000</td><td>0.0000000</td><td>0</td><td>0</td><td>0</td><td>0</td><td>0</td><td>0.0000000</td><td>0</td><td>⋯</td><td>0.0000000</td><td>0.0000000</td><td>0</td><td>0</td><td>0.0000000</td><td>0.000000</td><td>0</td><td>0.0000000</td><td>0</td><td>0</td></tr>\n",
       "\t<tr><th scope=row>17</th><td>0</td><td>0.000000</td><td>0.0000000</td><td>0</td><td>0</td><td>0</td><td>0</td><td>0</td><td>0.0000000</td><td>0</td><td>⋯</td><td>0.0000000</td><td>0.0000000</td><td>0</td><td>0</td><td>0.0000000</td><td>0.000000</td><td>0</td><td>0.0000000</td><td>0</td><td>0</td></tr>\n",
       "\t<tr><th scope=row>18</th><td>0</td><td>0.000000</td><td>0.0000000</td><td>0</td><td>0</td><td>0</td><td>0</td><td>0</td><td>0.0000000</td><td>0</td><td>⋯</td><td>0.0000000</td><td>0.0000000</td><td>0</td><td>0</td><td>0.0000000</td><td>0.000000</td><td>0</td><td>0.0000000</td><td>0</td><td>0</td></tr>\n",
       "\t<tr><th scope=row>19</th><td>0</td><td>0.000000</td><td>0.0000000</td><td>0</td><td>0</td><td>0</td><td>0</td><td>0</td><td>0.0000000</td><td>0</td><td>⋯</td><td>0.0000000</td><td>0.0000000</td><td>0</td><td>0</td><td>0.0000000</td><td>0.000000</td><td>0</td><td>0.0000000</td><td>0</td><td>0</td></tr>\n",
       "\t<tr><th scope=row>20</th><td>0</td><td>0.000000</td><td>0.0000000</td><td>0</td><td>0</td><td>0</td><td>0</td><td>0</td><td>0.0000000</td><td>0</td><td>⋯</td><td>0.0000000</td><td>0.0000000</td><td>0</td><td>0</td><td>0.0000000</td><td>0.000000</td><td>0</td><td>0.0000000</td><td>0</td><td>0</td></tr>\n",
       "\t<tr><th scope=row>21</th><td>0</td><td>0.000000</td><td>0.0000000</td><td>0</td><td>0</td><td>0</td><td>0</td><td>0</td><td>0.0000000</td><td>0</td><td>⋯</td><td>0.0000000</td><td>0.0000000</td><td>0</td><td>0</td><td>0.0000000</td><td>0.000000</td><td>0</td><td>0.0000000</td><td>0</td><td>0</td></tr>\n",
       "\t<tr><th scope=row>22</th><td>0</td><td>0.000000</td><td>0.0000000</td><td>0</td><td>0</td><td>0</td><td>0</td><td>0</td><td>1.1887219</td><td>0</td><td>⋯</td><td>0.0000000</td><td>0.0000000</td><td>0</td><td>0</td><td>0.0000000</td><td>0.000000</td><td>0</td><td>0.0000000</td><td>0</td><td>0</td></tr>\n",
       "\t<tr><th scope=row>23</th><td>0</td><td>0.000000</td><td>0.0000000</td><td>0</td><td>0</td><td>0</td><td>0</td><td>0</td><td>0.0000000</td><td>0</td><td>⋯</td><td>0.0000000</td><td>0.0000000</td><td>0</td><td>0</td><td>0.0000000</td><td>0.000000</td><td>0</td><td>0.0000000</td><td>0</td><td>0</td></tr>\n",
       "\t<tr><th scope=row>24</th><td>0</td><td>0.000000</td><td>0.0000000</td><td>0</td><td>0</td><td>0</td><td>0</td><td>0</td><td>0.0000000</td><td>0</td><td>⋯</td><td>0.0000000</td><td>0.0000000</td><td>0</td><td>0</td><td>0.0000000</td><td>0.000000</td><td>0</td><td>0.0000000</td><td>0</td><td>0</td></tr>\n",
       "\t<tr><th scope=row>25</th><td>0</td><td>0.000000</td><td>0.0000000</td><td>0</td><td>0</td><td>0</td><td>0</td><td>0</td><td>0.0000000</td><td>0</td><td>⋯</td><td>0.0000000</td><td>0.0000000</td><td>0</td><td>0</td><td>0.0000000</td><td>0.000000</td><td>0</td><td>0.0000000</td><td>0</td><td>0</td></tr>\n",
       "\t<tr><th scope=row>26</th><td>0</td><td>0.000000</td><td>0.0000000</td><td>0</td><td>0</td><td>0</td><td>0</td><td>0</td><td>0.3396348</td><td>0</td><td>⋯</td><td>0.0000000</td><td>0.3396348</td><td>0</td><td>0</td><td>0.0000000</td><td>0.000000</td><td>0</td><td>0.0000000</td><td>0</td><td>0</td></tr>\n",
       "\t<tr><th scope=row>27</th><td>0</td><td>0.000000</td><td>0.0000000</td><td>0</td><td>0</td><td>0</td><td>0</td><td>0</td><td>0.6792696</td><td>0</td><td>⋯</td><td>0.0000000</td><td>0.0000000</td><td>0</td><td>0</td><td>0.0000000</td><td>0.000000</td><td>0</td><td>0.9056929</td><td>0</td><td>0</td></tr>\n",
       "\t<tr><th scope=row>28</th><td>0</td><td>0.000000</td><td>0.7628357</td><td>0</td><td>0</td><td>0</td><td>0</td><td>0</td><td>0.0000000</td><td>0</td><td>⋯</td><td>0.0000000</td><td>0.0000000</td><td>0</td><td>0</td><td>0.6199786</td><td>0.000000</td><td>0</td><td>0.0000000</td><td>0</td><td>0</td></tr>\n",
       "\t<tr><th scope=row>29</th><td>0</td><td>0.000000</td><td>1.0679700</td><td>0</td><td>0</td><td>0</td><td>0</td><td>0</td><td>0.0000000</td><td>0</td><td>⋯</td><td>0.0000000</td><td>0.0000000</td><td>0</td><td>0</td><td>0.0000000</td><td>0.000000</td><td>0</td><td>0.0000000</td><td>0</td><td>0</td></tr>\n",
       "\t<tr><th scope=row>30</th><td>0</td><td>3.169925</td><td>0.0000000</td><td>0</td><td>0</td><td>0</td><td>0</td><td>0</td><td>0.0000000</td><td>0</td><td>⋯</td><td>0.0000000</td><td>0.0000000</td><td>0</td><td>0</td><td>0.0000000</td><td>0.000000</td><td>0</td><td>0.0000000</td><td>0</td><td>0</td></tr>\n",
       "\t<tr><th scope=row>⋮</th><td>⋮</td><td>⋮</td><td>⋮</td><td>⋮</td><td>⋮</td><td>⋮</td><td>⋮</td><td>⋮</td><td>⋮</td><td>⋮</td><td>⋱</td><td>⋮</td><td>⋮</td><td>⋮</td><td>⋮</td><td>⋮</td><td>⋮</td><td>⋮</td><td>⋮</td><td>⋮</td><td>⋮</td></tr>\n",
       "\t<tr><th scope=row>52</th><td>0</td><td>0</td><td>0</td><td>0.000000</td><td>0</td><td>0</td><td>0</td><td>0.000000</td><td>0</td><td>0.0000000</td><td>⋯</td><td>0</td><td>0.000000</td><td>0.000000</td><td>0</td><td>0.3338346</td><td>0</td><td>0.000000</td><td>0</td><td>0.0000000</td><td>0.0000000</td></tr>\n",
       "\t<tr><th scope=row>53</th><td>0</td><td>0</td><td>0</td><td>0.000000</td><td>0</td><td>0</td><td>0</td><td>0.000000</td><td>0</td><td>0.0000000</td><td>⋯</td><td>0</td><td>0.000000</td><td>0.000000</td><td>0</td><td>0.0000000</td><td>0</td><td>0.000000</td><td>0</td><td>0.0000000</td><td>0.0000000</td></tr>\n",
       "\t<tr><th scope=row>54</th><td>0</td><td>0</td><td>0</td><td>0.000000</td><td>0</td><td>0</td><td>0</td><td>0.000000</td><td>0</td><td>0.4226567</td><td>⋯</td><td>0</td><td>0.000000</td><td>0.000000</td><td>0</td><td>0.0000000</td><td>0</td><td>0.000000</td><td>0</td><td>0.0000000</td><td>0.0000000</td></tr>\n",
       "\t<tr><th scope=row>55</th><td>0</td><td>0</td><td>0</td><td>0.000000</td><td>0</td><td>0</td><td>0</td><td>0.000000</td><td>0</td><td>0.0000000</td><td>⋯</td><td>0</td><td>1.188722</td><td>0.000000</td><td>0</td><td>0.0000000</td><td>0</td><td>0.000000</td><td>0</td><td>0.0000000</td><td>0.0000000</td></tr>\n",
       "\t<tr><th scope=row>56</th><td>0</td><td>0</td><td>0</td><td>0.000000</td><td>0</td><td>0</td><td>0</td><td>0.000000</td><td>0</td><td>0.0000000</td><td>⋯</td><td>0</td><td>0.000000</td><td>0.000000</td><td>0</td><td>0.0000000</td><td>0</td><td>1.334963</td><td>0</td><td>0.0000000</td><td>0.0000000</td></tr>\n",
       "\t<tr><th scope=row>57</th><td>0</td><td>0</td><td>0</td><td>0.000000</td><td>0</td><td>0</td><td>0</td><td>0.000000</td><td>0</td><td>0.0000000</td><td>⋯</td><td>0</td><td>0.000000</td><td>0.000000</td><td>0</td><td>0.0000000</td><td>0</td><td>0.000000</td><td>0</td><td>0.0000000</td><td>0.0000000</td></tr>\n",
       "\t<tr><th scope=row>58</th><td>0</td><td>0</td><td>0</td><td>0.000000</td><td>0</td><td>0</td><td>0</td><td>0.000000</td><td>0</td><td>0.0000000</td><td>⋯</td><td>0</td><td>0.000000</td><td>1.334963</td><td>0</td><td>0.0000000</td><td>0</td><td>1.334963</td><td>0</td><td>0.0000000</td><td>0.0000000</td></tr>\n",
       "\t<tr><th scope=row>59</th><td>0</td><td>0</td><td>0</td><td>0.000000</td><td>0</td><td>0</td><td>0</td><td>0.000000</td><td>0</td><td>0.0000000</td><td>⋯</td><td>0</td><td>0.000000</td><td>0.000000</td><td>0</td><td>0.0000000</td><td>0</td><td>0.000000</td><td>0</td><td>0.0000000</td><td>0.0000000</td></tr>\n",
       "\t<tr><th scope=row>60</th><td>0</td><td>0</td><td>0</td><td>0.000000</td><td>0</td><td>0</td><td>0</td><td>0.000000</td><td>0</td><td>0.0000000</td><td>⋯</td><td>0</td><td>0.000000</td><td>0.000000</td><td>0</td><td>1.4466167</td><td>0</td><td>0.000000</td><td>0</td><td>0.0000000</td><td>0.0000000</td></tr>\n",
       "\t<tr><th scope=row>61</th><td>0</td><td>0</td><td>0</td><td>0.000000</td><td>0</td><td>0</td><td>0</td><td>0.000000</td><td>0</td><td>0.0000000</td><td>⋯</td><td>0</td><td>0.000000</td><td>0.000000</td><td>0</td><td>0.0000000</td><td>0</td><td>0.000000</td><td>0</td><td>0.0000000</td><td>0.0000000</td></tr>\n",
       "\t<tr><th scope=row>62</th><td>0</td><td>0</td><td>0</td><td>0.000000</td><td>0</td><td>0</td><td>0</td><td>0.000000</td><td>0</td><td>0.0000000</td><td>⋯</td><td>0</td><td>0.000000</td><td>0.000000</td><td>0</td><td>0.0000000</td><td>0</td><td>0.000000</td><td>0</td><td>0.0000000</td><td>0.0000000</td></tr>\n",
       "\t<tr><th scope=row>63</th><td>0</td><td>0</td><td>0</td><td>0.000000</td><td>0</td><td>0</td><td>0</td><td>1.584963</td><td>0</td><td>0.0000000</td><td>⋯</td><td>0</td><td>0.000000</td><td>0.000000</td><td>0</td><td>0.0000000</td><td>0</td><td>0.000000</td><td>0</td><td>0.0000000</td><td>0.0000000</td></tr>\n",
       "\t<tr><th scope=row>64</th><td>0</td><td>0</td><td>0</td><td>0.000000</td><td>0</td><td>0</td><td>0</td><td>0.000000</td><td>0</td><td>0.0000000</td><td>⋯</td><td>0</td><td>0.000000</td><td>0.000000</td><td>0</td><td>0.0000000</td><td>0</td><td>0.000000</td><td>0</td><td>0.0000000</td><td>0.0000000</td></tr>\n",
       "\t<tr><th scope=row>65</th><td>0</td><td>0</td><td>0</td><td>0.000000</td><td>0</td><td>0</td><td>0</td><td>0.000000</td><td>0</td><td>0.0000000</td><td>⋯</td><td>0</td><td>0.000000</td><td>0.000000</td><td>0</td><td>0.0000000</td><td>0</td><td>0.000000</td><td>0</td><td>0.0000000</td><td>0.0000000</td></tr>\n",
       "\t<tr><th scope=row>66</th><td>0</td><td>0</td><td>0</td><td>0.000000</td><td>0</td><td>0</td><td>0</td><td>0.000000</td><td>0</td><td>0.0000000</td><td>⋯</td><td>0</td><td>0.000000</td><td>0.000000</td><td>0</td><td>0.0000000</td><td>0</td><td>0.000000</td><td>0</td><td>0.0000000</td><td>0.0000000</td></tr>\n",
       "\t<tr><th scope=row>67</th><td>0</td><td>0</td><td>0</td><td>1.584963</td><td>0</td><td>0</td><td>0</td><td>0.000000</td><td>0</td><td>0.0000000</td><td>⋯</td><td>0</td><td>0.000000</td><td>0.000000</td><td>0</td><td>0.0000000</td><td>0</td><td>0.000000</td><td>0</td><td>0.0000000</td><td>0.0000000</td></tr>\n",
       "\t<tr><th scope=row>68</th><td>0</td><td>0</td><td>0</td><td>0.000000</td><td>0</td><td>0</td><td>0</td><td>0.000000</td><td>0</td><td>0.0000000</td><td>⋯</td><td>0</td><td>0.000000</td><td>0.000000</td><td>0</td><td>0.0000000</td><td>0</td><td>0.000000</td><td>0</td><td>0.0000000</td><td>0.0000000</td></tr>\n",
       "\t<tr><th scope=row>69</th><td>0</td><td>0</td><td>0</td><td>0.000000</td><td>0</td><td>0</td><td>0</td><td>0.000000</td><td>0</td><td>0.0000000</td><td>⋯</td><td>0</td><td>0.000000</td><td>0.000000</td><td>0</td><td>0.0000000</td><td>0</td><td>0.000000</td><td>0</td><td>0.0000000</td><td>0.0000000</td></tr>\n",
       "\t<tr><th scope=row>70</th><td>0</td><td>0</td><td>0</td><td>0.000000</td><td>0</td><td>0</td><td>0</td><td>0.000000</td><td>0</td><td>0.0000000</td><td>⋯</td><td>0</td><td>0.000000</td><td>0.000000</td><td>0</td><td>0.0000000</td><td>0</td><td>0.000000</td><td>0</td><td>0.0000000</td><td>0.0000000</td></tr>\n",
       "\t<tr><th scope=row>71</th><td>0</td><td>0</td><td>0</td><td>1.584963</td><td>0</td><td>0</td><td>0</td><td>0.000000</td><td>0</td><td>0.0000000</td><td>⋯</td><td>0</td><td>0.000000</td><td>1.779950</td><td>0</td><td>0.0000000</td><td>0</td><td>0.000000</td><td>0</td><td>0.0000000</td><td>0.0000000</td></tr>\n",
       "\t<tr><th scope=row>72</th><td>0</td><td>0</td><td>0</td><td>0.000000</td><td>0</td><td>0</td><td>0</td><td>0.000000</td><td>0</td><td>0.0000000</td><td>⋯</td><td>0</td><td>0.000000</td><td>0.000000</td><td>0</td><td>0.0000000</td><td>0</td><td>0.000000</td><td>0</td><td>0.0000000</td><td>0.0000000</td></tr>\n",
       "\t<tr><th scope=row>73</th><td>0</td><td>0</td><td>0</td><td>0.000000</td><td>0</td><td>0</td><td>0</td><td>0.000000</td><td>0</td><td>0.0000000</td><td>⋯</td><td>0</td><td>0.000000</td><td>0.000000</td><td>0</td><td>0.0000000</td><td>0</td><td>0.000000</td><td>0</td><td>0.0000000</td><td>0.0000000</td></tr>\n",
       "\t<tr><th scope=row>74</th><td>0</td><td>0</td><td>0</td><td>0.000000</td><td>0</td><td>0</td><td>0</td><td>0.000000</td><td>0</td><td>0.0000000</td><td>⋯</td><td>0</td><td>0.000000</td><td>0.000000</td><td>0</td><td>0.0000000</td><td>0</td><td>0.000000</td><td>0</td><td>0.0000000</td><td>0.0000000</td></tr>\n",
       "\t<tr><th scope=row>75</th><td>0</td><td>0</td><td>0</td><td>0.000000</td><td>0</td><td>0</td><td>0</td><td>0.000000</td><td>0</td><td>0.0000000</td><td>⋯</td><td>0</td><td>0.000000</td><td>0.000000</td><td>0</td><td>0.0000000</td><td>0</td><td>0.000000</td><td>0</td><td>0.0000000</td><td>0.0000000</td></tr>\n",
       "\t<tr><th scope=row>76</th><td>0</td><td>0</td><td>0</td><td>0.000000</td><td>0</td><td>0</td><td>0</td><td>0.000000</td><td>0</td><td>0.0000000</td><td>⋯</td><td>0</td><td>0.000000</td><td>0.000000</td><td>0</td><td>0.0000000</td><td>0</td><td>0.000000</td><td>0</td><td>0.0000000</td><td>0.0000000</td></tr>\n",
       "\t<tr><th scope=row>77</th><td>0</td><td>0</td><td>0</td><td>1.188722</td><td>0</td><td>0</td><td>0</td><td>0.000000</td><td>0</td><td>0.0000000</td><td>⋯</td><td>0</td><td>0.000000</td><td>0.000000</td><td>0</td><td>0.0000000</td><td>0</td><td>0.000000</td><td>0</td><td>0.0000000</td><td>0.0000000</td></tr>\n",
       "\t<tr><th scope=row>78</th><td>0</td><td>0</td><td>0</td><td>0.000000</td><td>0</td><td>0</td><td>0</td><td>0.000000</td><td>0</td><td>0.0000000</td><td>⋯</td><td>0</td><td>0.000000</td><td>0.000000</td><td>0</td><td>0.0000000</td><td>0</td><td>0.000000</td><td>0</td><td>0.0000000</td><td>0.0000000</td></tr>\n",
       "\t<tr><th scope=row>79</th><td>0</td><td>0</td><td>0</td><td>0.000000</td><td>0</td><td>0</td><td>0</td><td>0.000000</td><td>0</td><td>0.0000000</td><td>⋯</td><td>0</td><td>0.000000</td><td>0.000000</td><td>0</td><td>0.2066595</td><td>0</td><td>0.000000</td><td>0</td><td>0.0000000</td><td>0.2542786</td></tr>\n",
       "\t<tr><th scope=row>80</th><td>0</td><td>0</td><td>0</td><td>0.000000</td><td>0</td><td>0</td><td>0</td><td>0.000000</td><td>0</td><td>0.0000000</td><td>⋯</td><td>0</td><td>0.000000</td><td>0.000000</td><td>0</td><td>0.0000000</td><td>0</td><td>0.000000</td><td>0</td><td>0.0000000</td><td>0.0000000</td></tr>\n",
       "\t<tr><th scope=row>81</th><td>0</td><td>0</td><td>0</td><td>0.000000</td><td>0</td><td>0</td><td>0</td><td>0.000000</td><td>0</td><td>0.0000000</td><td>⋯</td><td>0</td><td>0.000000</td><td>0.000000</td><td>0</td><td>0.0000000</td><td>0</td><td>0.000000</td><td>0</td><td>0.7924813</td><td>0.0000000</td></tr>\n",
       "</tbody>\n",
       "</table>\n"
      ],
      "text/latex": [
       "A matrix: 81 × 271 of type dbl\n",
       "\\begin{tabular}{r|lllllllllllllllllllll}\n",
       "  & access & accessattend & accessible & address & adult & advance & affects & amount & applicable & approach & ⋯ & updated & use & variety & way & well & wellknown & wide & widely & will & work\\\\\n",
       "\\hline\n",
       "\t1 & 0 & 0.000000 & 0.0000000 & 0 & 0 & 0 & 0 & 0 & 0.0000000 & 0 & ⋯ & 0.0000000 & 0.0000000 & 0 & 0 & 0.0000000 & 0.000000 & 0 & 0.0000000 & 0 & 0\\\\\n",
       "\t2 & 0 & 0.000000 & 0.0000000 & 0 & 0 & 0 & 0 & 0 & 0.0000000 & 0 & ⋯ & 0.0000000 & 0.0000000 & 0 & 0 & 0.0000000 & 0.000000 & 0 & 0.0000000 & 0 & 0\\\\\n",
       "\t3 & 0 & 0.000000 & 0.0000000 & 0 & 0 & 0 & 0 & 0 & 0.0000000 & 0 & ⋯ & 0.0000000 & 0.0000000 & 0 & 0 & 0.0000000 & 0.000000 & 0 & 0.0000000 & 0 & 0\\\\\n",
       "\t4 & 0 & 0.000000 & 0.0000000 & 0 & 0 & 0 & 0 & 0 & 0.0000000 & 0 & ⋯ & 0.0000000 & 0.0000000 & 0 & 0 & 0.0000000 & 0.000000 & 0 & 0.0000000 & 0 & 0\\\\\n",
       "\t5 & 0 & 0.000000 & 0.0000000 & 0 & 0 & 0 & 0 & 0 & 0.0000000 & 0 & ⋯ & 0.0000000 & 0.0000000 & 0 & 0 & 0.0000000 & 0.000000 & 0 & 0.0000000 & 0 & 0\\\\\n",
       "\t6 & 0 & 0.000000 & 0.0000000 & 0 & 0 & 0 & 0 & 0 & 0.0000000 & 0 & ⋯ & 0.0000000 & 0.0000000 & 0 & 0 & 0.0000000 & 0.000000 & 0 & 0.0000000 & 0 & 0\\\\\n",
       "\t7 & 0 & 0.000000 & 0.0000000 & 0 & 0 & 0 & 0 & 0 & 0.0000000 & 0 & ⋯ & 0.0000000 & 0.0000000 & 0 & 0 & 0.0000000 & 0.000000 & 0 & 0.0000000 & 0 & 0\\\\\n",
       "\t8 & 0 & 0.000000 & 0.0000000 & 0 & 0 & 0 & 0 & 0 & 0.0000000 & 0 & ⋯ & 0.0000000 & 0.0000000 & 0 & 0 & 0.0000000 & 1.584963 & 0 & 0.0000000 & 0 & 0\\\\\n",
       "\t9 & 0 & 0.000000 & 0.0000000 & 0 & 0 & 0 & 0 & 0 & 0.0000000 & 0 & ⋯ & 0.0000000 & 0.0000000 & 0 & 0 & 0.0000000 & 0.000000 & 0 & 0.0000000 & 0 & 0\\\\\n",
       "\t10 & 0 & 0.000000 & 0.0000000 & 0 & 0 & 0 & 0 & 0 & 0.0000000 & 0 & ⋯ & 0.0000000 & 0.0000000 & 0 & 0 & 0.0000000 & 0.000000 & 0 & 0.0000000 & 0 & 0\\\\\n",
       "\t11 & 0 & 0.000000 & 0.0000000 & 0 & 0 & 0 & 0 & 0 & 0.0000000 & 0 & ⋯ & 0.0000000 & 0.0000000 & 0 & 0 & 0.0000000 & 0.000000 & 0 & 0.0000000 & 0 & 0\\\\\n",
       "\t12 & 0 & 0.000000 & 0.0000000 & 0 & 0 & 0 & 0 & 0 & 0.0000000 & 0 & ⋯ & 0.0000000 & 0.0000000 & 0 & 0 & 0.0000000 & 0.000000 & 0 & 0.0000000 & 0 & 0\\\\\n",
       "\t13 & 0 & 0.000000 & 0.0000000 & 0 & 0 & 0 & 0 & 0 & 0.0000000 & 0 & ⋯ & 0.0000000 & 0.0000000 & 0 & 0 & 0.0000000 & 0.000000 & 0 & 0.0000000 & 0 & 0\\\\\n",
       "\t14 & 0 & 0.000000 & 0.0000000 & 0 & 0 & 0 & 0 & 0 & 0.0000000 & 0 & ⋯ & 0.0000000 & 0.0000000 & 0 & 0 & 0.0000000 & 0.000000 & 0 & 0.0000000 & 0 & 0\\\\\n",
       "\t15 & 0 & 0.000000 & 0.0000000 & 0 & 0 & 0 & 0 & 0 & 0.0000000 & 0 & ⋯ & 0.9056929 & 0.0000000 & 0 & 0 & 0.0000000 & 0.000000 & 0 & 0.0000000 & 0 & 0\\\\\n",
       "\t16 & 0 & 0.000000 & 0.0000000 & 0 & 0 & 0 & 0 & 0 & 0.0000000 & 0 & ⋯ & 0.0000000 & 0.0000000 & 0 & 0 & 0.0000000 & 0.000000 & 0 & 0.0000000 & 0 & 0\\\\\n",
       "\t17 & 0 & 0.000000 & 0.0000000 & 0 & 0 & 0 & 0 & 0 & 0.0000000 & 0 & ⋯ & 0.0000000 & 0.0000000 & 0 & 0 & 0.0000000 & 0.000000 & 0 & 0.0000000 & 0 & 0\\\\\n",
       "\t18 & 0 & 0.000000 & 0.0000000 & 0 & 0 & 0 & 0 & 0 & 0.0000000 & 0 & ⋯ & 0.0000000 & 0.0000000 & 0 & 0 & 0.0000000 & 0.000000 & 0 & 0.0000000 & 0 & 0\\\\\n",
       "\t19 & 0 & 0.000000 & 0.0000000 & 0 & 0 & 0 & 0 & 0 & 0.0000000 & 0 & ⋯ & 0.0000000 & 0.0000000 & 0 & 0 & 0.0000000 & 0.000000 & 0 & 0.0000000 & 0 & 0\\\\\n",
       "\t20 & 0 & 0.000000 & 0.0000000 & 0 & 0 & 0 & 0 & 0 & 0.0000000 & 0 & ⋯ & 0.0000000 & 0.0000000 & 0 & 0 & 0.0000000 & 0.000000 & 0 & 0.0000000 & 0 & 0\\\\\n",
       "\t21 & 0 & 0.000000 & 0.0000000 & 0 & 0 & 0 & 0 & 0 & 0.0000000 & 0 & ⋯ & 0.0000000 & 0.0000000 & 0 & 0 & 0.0000000 & 0.000000 & 0 & 0.0000000 & 0 & 0\\\\\n",
       "\t22 & 0 & 0.000000 & 0.0000000 & 0 & 0 & 0 & 0 & 0 & 1.1887219 & 0 & ⋯ & 0.0000000 & 0.0000000 & 0 & 0 & 0.0000000 & 0.000000 & 0 & 0.0000000 & 0 & 0\\\\\n",
       "\t23 & 0 & 0.000000 & 0.0000000 & 0 & 0 & 0 & 0 & 0 & 0.0000000 & 0 & ⋯ & 0.0000000 & 0.0000000 & 0 & 0 & 0.0000000 & 0.000000 & 0 & 0.0000000 & 0 & 0\\\\\n",
       "\t24 & 0 & 0.000000 & 0.0000000 & 0 & 0 & 0 & 0 & 0 & 0.0000000 & 0 & ⋯ & 0.0000000 & 0.0000000 & 0 & 0 & 0.0000000 & 0.000000 & 0 & 0.0000000 & 0 & 0\\\\\n",
       "\t25 & 0 & 0.000000 & 0.0000000 & 0 & 0 & 0 & 0 & 0 & 0.0000000 & 0 & ⋯ & 0.0000000 & 0.0000000 & 0 & 0 & 0.0000000 & 0.000000 & 0 & 0.0000000 & 0 & 0\\\\\n",
       "\t26 & 0 & 0.000000 & 0.0000000 & 0 & 0 & 0 & 0 & 0 & 0.3396348 & 0 & ⋯ & 0.0000000 & 0.3396348 & 0 & 0 & 0.0000000 & 0.000000 & 0 & 0.0000000 & 0 & 0\\\\\n",
       "\t27 & 0 & 0.000000 & 0.0000000 & 0 & 0 & 0 & 0 & 0 & 0.6792696 & 0 & ⋯ & 0.0000000 & 0.0000000 & 0 & 0 & 0.0000000 & 0.000000 & 0 & 0.9056929 & 0 & 0\\\\\n",
       "\t28 & 0 & 0.000000 & 0.7628357 & 0 & 0 & 0 & 0 & 0 & 0.0000000 & 0 & ⋯ & 0.0000000 & 0.0000000 & 0 & 0 & 0.6199786 & 0.000000 & 0 & 0.0000000 & 0 & 0\\\\\n",
       "\t29 & 0 & 0.000000 & 1.0679700 & 0 & 0 & 0 & 0 & 0 & 0.0000000 & 0 & ⋯ & 0.0000000 & 0.0000000 & 0 & 0 & 0.0000000 & 0.000000 & 0 & 0.0000000 & 0 & 0\\\\\n",
       "\t30 & 0 & 3.169925 & 0.0000000 & 0 & 0 & 0 & 0 & 0 & 0.0000000 & 0 & ⋯ & 0.0000000 & 0.0000000 & 0 & 0 & 0.0000000 & 0.000000 & 0 & 0.0000000 & 0 & 0\\\\\n",
       "\t⋮ & ⋮ & ⋮ & ⋮ & ⋮ & ⋮ & ⋮ & ⋮ & ⋮ & ⋮ & ⋮ & ⋱ & ⋮ & ⋮ & ⋮ & ⋮ & ⋮ & ⋮ & ⋮ & ⋮ & ⋮ & ⋮\\\\\n",
       "\t52 & 0 & 0 & 0 & 0.000000 & 0 & 0 & 0 & 0.000000 & 0 & 0.0000000 & ⋯ & 0 & 0.000000 & 0.000000 & 0 & 0.3338346 & 0 & 0.000000 & 0 & 0.0000000 & 0.0000000\\\\\n",
       "\t53 & 0 & 0 & 0 & 0.000000 & 0 & 0 & 0 & 0.000000 & 0 & 0.0000000 & ⋯ & 0 & 0.000000 & 0.000000 & 0 & 0.0000000 & 0 & 0.000000 & 0 & 0.0000000 & 0.0000000\\\\\n",
       "\t54 & 0 & 0 & 0 & 0.000000 & 0 & 0 & 0 & 0.000000 & 0 & 0.4226567 & ⋯ & 0 & 0.000000 & 0.000000 & 0 & 0.0000000 & 0 & 0.000000 & 0 & 0.0000000 & 0.0000000\\\\\n",
       "\t55 & 0 & 0 & 0 & 0.000000 & 0 & 0 & 0 & 0.000000 & 0 & 0.0000000 & ⋯ & 0 & 1.188722 & 0.000000 & 0 & 0.0000000 & 0 & 0.000000 & 0 & 0.0000000 & 0.0000000\\\\\n",
       "\t56 & 0 & 0 & 0 & 0.000000 & 0 & 0 & 0 & 0.000000 & 0 & 0.0000000 & ⋯ & 0 & 0.000000 & 0.000000 & 0 & 0.0000000 & 0 & 1.334963 & 0 & 0.0000000 & 0.0000000\\\\\n",
       "\t57 & 0 & 0 & 0 & 0.000000 & 0 & 0 & 0 & 0.000000 & 0 & 0.0000000 & ⋯ & 0 & 0.000000 & 0.000000 & 0 & 0.0000000 & 0 & 0.000000 & 0 & 0.0000000 & 0.0000000\\\\\n",
       "\t58 & 0 & 0 & 0 & 0.000000 & 0 & 0 & 0 & 0.000000 & 0 & 0.0000000 & ⋯ & 0 & 0.000000 & 1.334963 & 0 & 0.0000000 & 0 & 1.334963 & 0 & 0.0000000 & 0.0000000\\\\\n",
       "\t59 & 0 & 0 & 0 & 0.000000 & 0 & 0 & 0 & 0.000000 & 0 & 0.0000000 & ⋯ & 0 & 0.000000 & 0.000000 & 0 & 0.0000000 & 0 & 0.000000 & 0 & 0.0000000 & 0.0000000\\\\\n",
       "\t60 & 0 & 0 & 0 & 0.000000 & 0 & 0 & 0 & 0.000000 & 0 & 0.0000000 & ⋯ & 0 & 0.000000 & 0.000000 & 0 & 1.4466167 & 0 & 0.000000 & 0 & 0.0000000 & 0.0000000\\\\\n",
       "\t61 & 0 & 0 & 0 & 0.000000 & 0 & 0 & 0 & 0.000000 & 0 & 0.0000000 & ⋯ & 0 & 0.000000 & 0.000000 & 0 & 0.0000000 & 0 & 0.000000 & 0 & 0.0000000 & 0.0000000\\\\\n",
       "\t62 & 0 & 0 & 0 & 0.000000 & 0 & 0 & 0 & 0.000000 & 0 & 0.0000000 & ⋯ & 0 & 0.000000 & 0.000000 & 0 & 0.0000000 & 0 & 0.000000 & 0 & 0.0000000 & 0.0000000\\\\\n",
       "\t63 & 0 & 0 & 0 & 0.000000 & 0 & 0 & 0 & 1.584963 & 0 & 0.0000000 & ⋯ & 0 & 0.000000 & 0.000000 & 0 & 0.0000000 & 0 & 0.000000 & 0 & 0.0000000 & 0.0000000\\\\\n",
       "\t64 & 0 & 0 & 0 & 0.000000 & 0 & 0 & 0 & 0.000000 & 0 & 0.0000000 & ⋯ & 0 & 0.000000 & 0.000000 & 0 & 0.0000000 & 0 & 0.000000 & 0 & 0.0000000 & 0.0000000\\\\\n",
       "\t65 & 0 & 0 & 0 & 0.000000 & 0 & 0 & 0 & 0.000000 & 0 & 0.0000000 & ⋯ & 0 & 0.000000 & 0.000000 & 0 & 0.0000000 & 0 & 0.000000 & 0 & 0.0000000 & 0.0000000\\\\\n",
       "\t66 & 0 & 0 & 0 & 0.000000 & 0 & 0 & 0 & 0.000000 & 0 & 0.0000000 & ⋯ & 0 & 0.000000 & 0.000000 & 0 & 0.0000000 & 0 & 0.000000 & 0 & 0.0000000 & 0.0000000\\\\\n",
       "\t67 & 0 & 0 & 0 & 1.584963 & 0 & 0 & 0 & 0.000000 & 0 & 0.0000000 & ⋯ & 0 & 0.000000 & 0.000000 & 0 & 0.0000000 & 0 & 0.000000 & 0 & 0.0000000 & 0.0000000\\\\\n",
       "\t68 & 0 & 0 & 0 & 0.000000 & 0 & 0 & 0 & 0.000000 & 0 & 0.0000000 & ⋯ & 0 & 0.000000 & 0.000000 & 0 & 0.0000000 & 0 & 0.000000 & 0 & 0.0000000 & 0.0000000\\\\\n",
       "\t69 & 0 & 0 & 0 & 0.000000 & 0 & 0 & 0 & 0.000000 & 0 & 0.0000000 & ⋯ & 0 & 0.000000 & 0.000000 & 0 & 0.0000000 & 0 & 0.000000 & 0 & 0.0000000 & 0.0000000\\\\\n",
       "\t70 & 0 & 0 & 0 & 0.000000 & 0 & 0 & 0 & 0.000000 & 0 & 0.0000000 & ⋯ & 0 & 0.000000 & 0.000000 & 0 & 0.0000000 & 0 & 0.000000 & 0 & 0.0000000 & 0.0000000\\\\\n",
       "\t71 & 0 & 0 & 0 & 1.584963 & 0 & 0 & 0 & 0.000000 & 0 & 0.0000000 & ⋯ & 0 & 0.000000 & 1.779950 & 0 & 0.0000000 & 0 & 0.000000 & 0 & 0.0000000 & 0.0000000\\\\\n",
       "\t72 & 0 & 0 & 0 & 0.000000 & 0 & 0 & 0 & 0.000000 & 0 & 0.0000000 & ⋯ & 0 & 0.000000 & 0.000000 & 0 & 0.0000000 & 0 & 0.000000 & 0 & 0.0000000 & 0.0000000\\\\\n",
       "\t73 & 0 & 0 & 0 & 0.000000 & 0 & 0 & 0 & 0.000000 & 0 & 0.0000000 & ⋯ & 0 & 0.000000 & 0.000000 & 0 & 0.0000000 & 0 & 0.000000 & 0 & 0.0000000 & 0.0000000\\\\\n",
       "\t74 & 0 & 0 & 0 & 0.000000 & 0 & 0 & 0 & 0.000000 & 0 & 0.0000000 & ⋯ & 0 & 0.000000 & 0.000000 & 0 & 0.0000000 & 0 & 0.000000 & 0 & 0.0000000 & 0.0000000\\\\\n",
       "\t75 & 0 & 0 & 0 & 0.000000 & 0 & 0 & 0 & 0.000000 & 0 & 0.0000000 & ⋯ & 0 & 0.000000 & 0.000000 & 0 & 0.0000000 & 0 & 0.000000 & 0 & 0.0000000 & 0.0000000\\\\\n",
       "\t76 & 0 & 0 & 0 & 0.000000 & 0 & 0 & 0 & 0.000000 & 0 & 0.0000000 & ⋯ & 0 & 0.000000 & 0.000000 & 0 & 0.0000000 & 0 & 0.000000 & 0 & 0.0000000 & 0.0000000\\\\\n",
       "\t77 & 0 & 0 & 0 & 1.188722 & 0 & 0 & 0 & 0.000000 & 0 & 0.0000000 & ⋯ & 0 & 0.000000 & 0.000000 & 0 & 0.0000000 & 0 & 0.000000 & 0 & 0.0000000 & 0.0000000\\\\\n",
       "\t78 & 0 & 0 & 0 & 0.000000 & 0 & 0 & 0 & 0.000000 & 0 & 0.0000000 & ⋯ & 0 & 0.000000 & 0.000000 & 0 & 0.0000000 & 0 & 0.000000 & 0 & 0.0000000 & 0.0000000\\\\\n",
       "\t79 & 0 & 0 & 0 & 0.000000 & 0 & 0 & 0 & 0.000000 & 0 & 0.0000000 & ⋯ & 0 & 0.000000 & 0.000000 & 0 & 0.2066595 & 0 & 0.000000 & 0 & 0.0000000 & 0.2542786\\\\\n",
       "\t80 & 0 & 0 & 0 & 0.000000 & 0 & 0 & 0 & 0.000000 & 0 & 0.0000000 & ⋯ & 0 & 0.000000 & 0.000000 & 0 & 0.0000000 & 0 & 0.000000 & 0 & 0.0000000 & 0.0000000\\\\\n",
       "\t81 & 0 & 0 & 0 & 0.000000 & 0 & 0 & 0 & 0.000000 & 0 & 0.0000000 & ⋯ & 0 & 0.000000 & 0.000000 & 0 & 0.0000000 & 0 & 0.000000 & 0 & 0.7924813 & 0.0000000\\\\\n",
       "\\end{tabular}\n"
      ],
      "text/markdown": [
       "\n",
       "A matrix: 81 × 271 of type dbl\n",
       "\n",
       "| <!--/--> | access | accessattend | accessible | address | adult | advance | affects | amount | applicable | approach | ⋯ | updated | use | variety | way | well | wellknown | wide | widely | will | work |\n",
       "|---|---|---|---|---|---|---|---|---|---|---|---|---|---|---|---|---|---|---|---|---|---|\n",
       "| 1 | 0 | 0.000000 | 0.0000000 | 0 | 0 | 0 | 0 | 0 | 0.0000000 | 0 | ⋯ | 0.0000000 | 0.0000000 | 0 | 0 | 0.0000000 | 0.000000 | 0 | 0.0000000 | 0 | 0 |\n",
       "| 2 | 0 | 0.000000 | 0.0000000 | 0 | 0 | 0 | 0 | 0 | 0.0000000 | 0 | ⋯ | 0.0000000 | 0.0000000 | 0 | 0 | 0.0000000 | 0.000000 | 0 | 0.0000000 | 0 | 0 |\n",
       "| 3 | 0 | 0.000000 | 0.0000000 | 0 | 0 | 0 | 0 | 0 | 0.0000000 | 0 | ⋯ | 0.0000000 | 0.0000000 | 0 | 0 | 0.0000000 | 0.000000 | 0 | 0.0000000 | 0 | 0 |\n",
       "| 4 | 0 | 0.000000 | 0.0000000 | 0 | 0 | 0 | 0 | 0 | 0.0000000 | 0 | ⋯ | 0.0000000 | 0.0000000 | 0 | 0 | 0.0000000 | 0.000000 | 0 | 0.0000000 | 0 | 0 |\n",
       "| 5 | 0 | 0.000000 | 0.0000000 | 0 | 0 | 0 | 0 | 0 | 0.0000000 | 0 | ⋯ | 0.0000000 | 0.0000000 | 0 | 0 | 0.0000000 | 0.000000 | 0 | 0.0000000 | 0 | 0 |\n",
       "| 6 | 0 | 0.000000 | 0.0000000 | 0 | 0 | 0 | 0 | 0 | 0.0000000 | 0 | ⋯ | 0.0000000 | 0.0000000 | 0 | 0 | 0.0000000 | 0.000000 | 0 | 0.0000000 | 0 | 0 |\n",
       "| 7 | 0 | 0.000000 | 0.0000000 | 0 | 0 | 0 | 0 | 0 | 0.0000000 | 0 | ⋯ | 0.0000000 | 0.0000000 | 0 | 0 | 0.0000000 | 0.000000 | 0 | 0.0000000 | 0 | 0 |\n",
       "| 8 | 0 | 0.000000 | 0.0000000 | 0 | 0 | 0 | 0 | 0 | 0.0000000 | 0 | ⋯ | 0.0000000 | 0.0000000 | 0 | 0 | 0.0000000 | 1.584963 | 0 | 0.0000000 | 0 | 0 |\n",
       "| 9 | 0 | 0.000000 | 0.0000000 | 0 | 0 | 0 | 0 | 0 | 0.0000000 | 0 | ⋯ | 0.0000000 | 0.0000000 | 0 | 0 | 0.0000000 | 0.000000 | 0 | 0.0000000 | 0 | 0 |\n",
       "| 10 | 0 | 0.000000 | 0.0000000 | 0 | 0 | 0 | 0 | 0 | 0.0000000 | 0 | ⋯ | 0.0000000 | 0.0000000 | 0 | 0 | 0.0000000 | 0.000000 | 0 | 0.0000000 | 0 | 0 |\n",
       "| 11 | 0 | 0.000000 | 0.0000000 | 0 | 0 | 0 | 0 | 0 | 0.0000000 | 0 | ⋯ | 0.0000000 | 0.0000000 | 0 | 0 | 0.0000000 | 0.000000 | 0 | 0.0000000 | 0 | 0 |\n",
       "| 12 | 0 | 0.000000 | 0.0000000 | 0 | 0 | 0 | 0 | 0 | 0.0000000 | 0 | ⋯ | 0.0000000 | 0.0000000 | 0 | 0 | 0.0000000 | 0.000000 | 0 | 0.0000000 | 0 | 0 |\n",
       "| 13 | 0 | 0.000000 | 0.0000000 | 0 | 0 | 0 | 0 | 0 | 0.0000000 | 0 | ⋯ | 0.0000000 | 0.0000000 | 0 | 0 | 0.0000000 | 0.000000 | 0 | 0.0000000 | 0 | 0 |\n",
       "| 14 | 0 | 0.000000 | 0.0000000 | 0 | 0 | 0 | 0 | 0 | 0.0000000 | 0 | ⋯ | 0.0000000 | 0.0000000 | 0 | 0 | 0.0000000 | 0.000000 | 0 | 0.0000000 | 0 | 0 |\n",
       "| 15 | 0 | 0.000000 | 0.0000000 | 0 | 0 | 0 | 0 | 0 | 0.0000000 | 0 | ⋯ | 0.9056929 | 0.0000000 | 0 | 0 | 0.0000000 | 0.000000 | 0 | 0.0000000 | 0 | 0 |\n",
       "| 16 | 0 | 0.000000 | 0.0000000 | 0 | 0 | 0 | 0 | 0 | 0.0000000 | 0 | ⋯ | 0.0000000 | 0.0000000 | 0 | 0 | 0.0000000 | 0.000000 | 0 | 0.0000000 | 0 | 0 |\n",
       "| 17 | 0 | 0.000000 | 0.0000000 | 0 | 0 | 0 | 0 | 0 | 0.0000000 | 0 | ⋯ | 0.0000000 | 0.0000000 | 0 | 0 | 0.0000000 | 0.000000 | 0 | 0.0000000 | 0 | 0 |\n",
       "| 18 | 0 | 0.000000 | 0.0000000 | 0 | 0 | 0 | 0 | 0 | 0.0000000 | 0 | ⋯ | 0.0000000 | 0.0000000 | 0 | 0 | 0.0000000 | 0.000000 | 0 | 0.0000000 | 0 | 0 |\n",
       "| 19 | 0 | 0.000000 | 0.0000000 | 0 | 0 | 0 | 0 | 0 | 0.0000000 | 0 | ⋯ | 0.0000000 | 0.0000000 | 0 | 0 | 0.0000000 | 0.000000 | 0 | 0.0000000 | 0 | 0 |\n",
       "| 20 | 0 | 0.000000 | 0.0000000 | 0 | 0 | 0 | 0 | 0 | 0.0000000 | 0 | ⋯ | 0.0000000 | 0.0000000 | 0 | 0 | 0.0000000 | 0.000000 | 0 | 0.0000000 | 0 | 0 |\n",
       "| 21 | 0 | 0.000000 | 0.0000000 | 0 | 0 | 0 | 0 | 0 | 0.0000000 | 0 | ⋯ | 0.0000000 | 0.0000000 | 0 | 0 | 0.0000000 | 0.000000 | 0 | 0.0000000 | 0 | 0 |\n",
       "| 22 | 0 | 0.000000 | 0.0000000 | 0 | 0 | 0 | 0 | 0 | 1.1887219 | 0 | ⋯ | 0.0000000 | 0.0000000 | 0 | 0 | 0.0000000 | 0.000000 | 0 | 0.0000000 | 0 | 0 |\n",
       "| 23 | 0 | 0.000000 | 0.0000000 | 0 | 0 | 0 | 0 | 0 | 0.0000000 | 0 | ⋯ | 0.0000000 | 0.0000000 | 0 | 0 | 0.0000000 | 0.000000 | 0 | 0.0000000 | 0 | 0 |\n",
       "| 24 | 0 | 0.000000 | 0.0000000 | 0 | 0 | 0 | 0 | 0 | 0.0000000 | 0 | ⋯ | 0.0000000 | 0.0000000 | 0 | 0 | 0.0000000 | 0.000000 | 0 | 0.0000000 | 0 | 0 |\n",
       "| 25 | 0 | 0.000000 | 0.0000000 | 0 | 0 | 0 | 0 | 0 | 0.0000000 | 0 | ⋯ | 0.0000000 | 0.0000000 | 0 | 0 | 0.0000000 | 0.000000 | 0 | 0.0000000 | 0 | 0 |\n",
       "| 26 | 0 | 0.000000 | 0.0000000 | 0 | 0 | 0 | 0 | 0 | 0.3396348 | 0 | ⋯ | 0.0000000 | 0.3396348 | 0 | 0 | 0.0000000 | 0.000000 | 0 | 0.0000000 | 0 | 0 |\n",
       "| 27 | 0 | 0.000000 | 0.0000000 | 0 | 0 | 0 | 0 | 0 | 0.6792696 | 0 | ⋯ | 0.0000000 | 0.0000000 | 0 | 0 | 0.0000000 | 0.000000 | 0 | 0.9056929 | 0 | 0 |\n",
       "| 28 | 0 | 0.000000 | 0.7628357 | 0 | 0 | 0 | 0 | 0 | 0.0000000 | 0 | ⋯ | 0.0000000 | 0.0000000 | 0 | 0 | 0.6199786 | 0.000000 | 0 | 0.0000000 | 0 | 0 |\n",
       "| 29 | 0 | 0.000000 | 1.0679700 | 0 | 0 | 0 | 0 | 0 | 0.0000000 | 0 | ⋯ | 0.0000000 | 0.0000000 | 0 | 0 | 0.0000000 | 0.000000 | 0 | 0.0000000 | 0 | 0 |\n",
       "| 30 | 0 | 3.169925 | 0.0000000 | 0 | 0 | 0 | 0 | 0 | 0.0000000 | 0 | ⋯ | 0.0000000 | 0.0000000 | 0 | 0 | 0.0000000 | 0.000000 | 0 | 0.0000000 | 0 | 0 |\n",
       "| ⋮ | ⋮ | ⋮ | ⋮ | ⋮ | ⋮ | ⋮ | ⋮ | ⋮ | ⋮ | ⋮ | ⋱ | ⋮ | ⋮ | ⋮ | ⋮ | ⋮ | ⋮ | ⋮ | ⋮ | ⋮ | ⋮ |\n",
       "| 52 | 0 | 0 | 0 | 0.000000 | 0 | 0 | 0 | 0.000000 | 0 | 0.0000000 | ⋯ | 0 | 0.000000 | 0.000000 | 0 | 0.3338346 | 0 | 0.000000 | 0 | 0.0000000 | 0.0000000 |\n",
       "| 53 | 0 | 0 | 0 | 0.000000 | 0 | 0 | 0 | 0.000000 | 0 | 0.0000000 | ⋯ | 0 | 0.000000 | 0.000000 | 0 | 0.0000000 | 0 | 0.000000 | 0 | 0.0000000 | 0.0000000 |\n",
       "| 54 | 0 | 0 | 0 | 0.000000 | 0 | 0 | 0 | 0.000000 | 0 | 0.4226567 | ⋯ | 0 | 0.000000 | 0.000000 | 0 | 0.0000000 | 0 | 0.000000 | 0 | 0.0000000 | 0.0000000 |\n",
       "| 55 | 0 | 0 | 0 | 0.000000 | 0 | 0 | 0 | 0.000000 | 0 | 0.0000000 | ⋯ | 0 | 1.188722 | 0.000000 | 0 | 0.0000000 | 0 | 0.000000 | 0 | 0.0000000 | 0.0000000 |\n",
       "| 56 | 0 | 0 | 0 | 0.000000 | 0 | 0 | 0 | 0.000000 | 0 | 0.0000000 | ⋯ | 0 | 0.000000 | 0.000000 | 0 | 0.0000000 | 0 | 1.334963 | 0 | 0.0000000 | 0.0000000 |\n",
       "| 57 | 0 | 0 | 0 | 0.000000 | 0 | 0 | 0 | 0.000000 | 0 | 0.0000000 | ⋯ | 0 | 0.000000 | 0.000000 | 0 | 0.0000000 | 0 | 0.000000 | 0 | 0.0000000 | 0.0000000 |\n",
       "| 58 | 0 | 0 | 0 | 0.000000 | 0 | 0 | 0 | 0.000000 | 0 | 0.0000000 | ⋯ | 0 | 0.000000 | 1.334963 | 0 | 0.0000000 | 0 | 1.334963 | 0 | 0.0000000 | 0.0000000 |\n",
       "| 59 | 0 | 0 | 0 | 0.000000 | 0 | 0 | 0 | 0.000000 | 0 | 0.0000000 | ⋯ | 0 | 0.000000 | 0.000000 | 0 | 0.0000000 | 0 | 0.000000 | 0 | 0.0000000 | 0.0000000 |\n",
       "| 60 | 0 | 0 | 0 | 0.000000 | 0 | 0 | 0 | 0.000000 | 0 | 0.0000000 | ⋯ | 0 | 0.000000 | 0.000000 | 0 | 1.4466167 | 0 | 0.000000 | 0 | 0.0000000 | 0.0000000 |\n",
       "| 61 | 0 | 0 | 0 | 0.000000 | 0 | 0 | 0 | 0.000000 | 0 | 0.0000000 | ⋯ | 0 | 0.000000 | 0.000000 | 0 | 0.0000000 | 0 | 0.000000 | 0 | 0.0000000 | 0.0000000 |\n",
       "| 62 | 0 | 0 | 0 | 0.000000 | 0 | 0 | 0 | 0.000000 | 0 | 0.0000000 | ⋯ | 0 | 0.000000 | 0.000000 | 0 | 0.0000000 | 0 | 0.000000 | 0 | 0.0000000 | 0.0000000 |\n",
       "| 63 | 0 | 0 | 0 | 0.000000 | 0 | 0 | 0 | 1.584963 | 0 | 0.0000000 | ⋯ | 0 | 0.000000 | 0.000000 | 0 | 0.0000000 | 0 | 0.000000 | 0 | 0.0000000 | 0.0000000 |\n",
       "| 64 | 0 | 0 | 0 | 0.000000 | 0 | 0 | 0 | 0.000000 | 0 | 0.0000000 | ⋯ | 0 | 0.000000 | 0.000000 | 0 | 0.0000000 | 0 | 0.000000 | 0 | 0.0000000 | 0.0000000 |\n",
       "| 65 | 0 | 0 | 0 | 0.000000 | 0 | 0 | 0 | 0.000000 | 0 | 0.0000000 | ⋯ | 0 | 0.000000 | 0.000000 | 0 | 0.0000000 | 0 | 0.000000 | 0 | 0.0000000 | 0.0000000 |\n",
       "| 66 | 0 | 0 | 0 | 0.000000 | 0 | 0 | 0 | 0.000000 | 0 | 0.0000000 | ⋯ | 0 | 0.000000 | 0.000000 | 0 | 0.0000000 | 0 | 0.000000 | 0 | 0.0000000 | 0.0000000 |\n",
       "| 67 | 0 | 0 | 0 | 1.584963 | 0 | 0 | 0 | 0.000000 | 0 | 0.0000000 | ⋯ | 0 | 0.000000 | 0.000000 | 0 | 0.0000000 | 0 | 0.000000 | 0 | 0.0000000 | 0.0000000 |\n",
       "| 68 | 0 | 0 | 0 | 0.000000 | 0 | 0 | 0 | 0.000000 | 0 | 0.0000000 | ⋯ | 0 | 0.000000 | 0.000000 | 0 | 0.0000000 | 0 | 0.000000 | 0 | 0.0000000 | 0.0000000 |\n",
       "| 69 | 0 | 0 | 0 | 0.000000 | 0 | 0 | 0 | 0.000000 | 0 | 0.0000000 | ⋯ | 0 | 0.000000 | 0.000000 | 0 | 0.0000000 | 0 | 0.000000 | 0 | 0.0000000 | 0.0000000 |\n",
       "| 70 | 0 | 0 | 0 | 0.000000 | 0 | 0 | 0 | 0.000000 | 0 | 0.0000000 | ⋯ | 0 | 0.000000 | 0.000000 | 0 | 0.0000000 | 0 | 0.000000 | 0 | 0.0000000 | 0.0000000 |\n",
       "| 71 | 0 | 0 | 0 | 1.584963 | 0 | 0 | 0 | 0.000000 | 0 | 0.0000000 | ⋯ | 0 | 0.000000 | 1.779950 | 0 | 0.0000000 | 0 | 0.000000 | 0 | 0.0000000 | 0.0000000 |\n",
       "| 72 | 0 | 0 | 0 | 0.000000 | 0 | 0 | 0 | 0.000000 | 0 | 0.0000000 | ⋯ | 0 | 0.000000 | 0.000000 | 0 | 0.0000000 | 0 | 0.000000 | 0 | 0.0000000 | 0.0000000 |\n",
       "| 73 | 0 | 0 | 0 | 0.000000 | 0 | 0 | 0 | 0.000000 | 0 | 0.0000000 | ⋯ | 0 | 0.000000 | 0.000000 | 0 | 0.0000000 | 0 | 0.000000 | 0 | 0.0000000 | 0.0000000 |\n",
       "| 74 | 0 | 0 | 0 | 0.000000 | 0 | 0 | 0 | 0.000000 | 0 | 0.0000000 | ⋯ | 0 | 0.000000 | 0.000000 | 0 | 0.0000000 | 0 | 0.000000 | 0 | 0.0000000 | 0.0000000 |\n",
       "| 75 | 0 | 0 | 0 | 0.000000 | 0 | 0 | 0 | 0.000000 | 0 | 0.0000000 | ⋯ | 0 | 0.000000 | 0.000000 | 0 | 0.0000000 | 0 | 0.000000 | 0 | 0.0000000 | 0.0000000 |\n",
       "| 76 | 0 | 0 | 0 | 0.000000 | 0 | 0 | 0 | 0.000000 | 0 | 0.0000000 | ⋯ | 0 | 0.000000 | 0.000000 | 0 | 0.0000000 | 0 | 0.000000 | 0 | 0.0000000 | 0.0000000 |\n",
       "| 77 | 0 | 0 | 0 | 1.188722 | 0 | 0 | 0 | 0.000000 | 0 | 0.0000000 | ⋯ | 0 | 0.000000 | 0.000000 | 0 | 0.0000000 | 0 | 0.000000 | 0 | 0.0000000 | 0.0000000 |\n",
       "| 78 | 0 | 0 | 0 | 0.000000 | 0 | 0 | 0 | 0.000000 | 0 | 0.0000000 | ⋯ | 0 | 0.000000 | 0.000000 | 0 | 0.0000000 | 0 | 0.000000 | 0 | 0.0000000 | 0.0000000 |\n",
       "| 79 | 0 | 0 | 0 | 0.000000 | 0 | 0 | 0 | 0.000000 | 0 | 0.0000000 | ⋯ | 0 | 0.000000 | 0.000000 | 0 | 0.2066595 | 0 | 0.000000 | 0 | 0.0000000 | 0.2542786 |\n",
       "| 80 | 0 | 0 | 0 | 0.000000 | 0 | 0 | 0 | 0.000000 | 0 | 0.0000000 | ⋯ | 0 | 0.000000 | 0.000000 | 0 | 0.0000000 | 0 | 0.000000 | 0 | 0.0000000 | 0.0000000 |\n",
       "| 81 | 0 | 0 | 0 | 0.000000 | 0 | 0 | 0 | 0.000000 | 0 | 0.0000000 | ⋯ | 0 | 0.000000 | 0.000000 | 0 | 0.0000000 | 0 | 0.000000 | 0 | 0.7924813 | 0.0000000 |\n",
       "\n"
      ],
      "text/plain": [
       "   access accessattend accessible address  adult advance affects amount  \n",
       "1  0      0.000000     0.0000000  0        0     0       0       0       \n",
       "2  0      0.000000     0.0000000  0        0     0       0       0       \n",
       "3  0      0.000000     0.0000000  0        0     0       0       0       \n",
       "4  0      0.000000     0.0000000  0        0     0       0       0       \n",
       "5  0      0.000000     0.0000000  0        0     0       0       0       \n",
       "6  0      0.000000     0.0000000  0        0     0       0       0       \n",
       "7  0      0.000000     0.0000000  0        0     0       0       0       \n",
       "8  0      0.000000     0.0000000  0        0     0       0       0       \n",
       "9  0      0.000000     0.0000000  0        0     0       0       0       \n",
       "10 0      0.000000     0.0000000  0        0     0       0       0       \n",
       "11 0      0.000000     0.0000000  0        0     0       0       0       \n",
       "12 0      0.000000     0.0000000  0        0     0       0       0       \n",
       "13 0      0.000000     0.0000000  0        0     0       0       0       \n",
       "14 0      0.000000     0.0000000  0        0     0       0       0       \n",
       "15 0      0.000000     0.0000000  0        0     0       0       0       \n",
       "16 0      0.000000     0.0000000  0        0     0       0       0       \n",
       "17 0      0.000000     0.0000000  0        0     0       0       0       \n",
       "18 0      0.000000     0.0000000  0        0     0       0       0       \n",
       "19 0      0.000000     0.0000000  0        0     0       0       0       \n",
       "20 0      0.000000     0.0000000  0        0     0       0       0       \n",
       "21 0      0.000000     0.0000000  0        0     0       0       0       \n",
       "22 0      0.000000     0.0000000  0        0     0       0       0       \n",
       "23 0      0.000000     0.0000000  0        0     0       0       0       \n",
       "24 0      0.000000     0.0000000  0        0     0       0       0       \n",
       "25 0      0.000000     0.0000000  0        0     0       0       0       \n",
       "26 0      0.000000     0.0000000  0        0     0       0       0       \n",
       "27 0      0.000000     0.0000000  0        0     0       0       0       \n",
       "28 0      0.000000     0.7628357  0        0     0       0       0       \n",
       "29 0      0.000000     1.0679700  0        0     0       0       0       \n",
       "30 0      3.169925     0.0000000  0        0     0       0       0       \n",
       "⋮  ⋮      ⋮            ⋮          ⋮        ⋮     ⋮       ⋮       ⋮       \n",
       "52 0      0            0          0.000000 0     0       0       0.000000\n",
       "53 0      0            0          0.000000 0     0       0       0.000000\n",
       "54 0      0            0          0.000000 0     0       0       0.000000\n",
       "55 0      0            0          0.000000 0     0       0       0.000000\n",
       "56 0      0            0          0.000000 0     0       0       0.000000\n",
       "57 0      0            0          0.000000 0     0       0       0.000000\n",
       "58 0      0            0          0.000000 0     0       0       0.000000\n",
       "59 0      0            0          0.000000 0     0       0       0.000000\n",
       "60 0      0            0          0.000000 0     0       0       0.000000\n",
       "61 0      0            0          0.000000 0     0       0       0.000000\n",
       "62 0      0            0          0.000000 0     0       0       0.000000\n",
       "63 0      0            0          0.000000 0     0       0       1.584963\n",
       "64 0      0            0          0.000000 0     0       0       0.000000\n",
       "65 0      0            0          0.000000 0     0       0       0.000000\n",
       "66 0      0            0          0.000000 0     0       0       0.000000\n",
       "67 0      0            0          1.584963 0     0       0       0.000000\n",
       "68 0      0            0          0.000000 0     0       0       0.000000\n",
       "69 0      0            0          0.000000 0     0       0       0.000000\n",
       "70 0      0            0          0.000000 0     0       0       0.000000\n",
       "71 0      0            0          1.584963 0     0       0       0.000000\n",
       "72 0      0            0          0.000000 0     0       0       0.000000\n",
       "73 0      0            0          0.000000 0     0       0       0.000000\n",
       "74 0      0            0          0.000000 0     0       0       0.000000\n",
       "75 0      0            0          0.000000 0     0       0       0.000000\n",
       "76 0      0            0          0.000000 0     0       0       0.000000\n",
       "77 0      0            0          1.188722 0     0       0       0.000000\n",
       "78 0      0            0          0.000000 0     0       0       0.000000\n",
       "79 0      0            0          0.000000 0     0       0       0.000000\n",
       "80 0      0            0          0.000000 0     0       0       0.000000\n",
       "81 0      0            0          0.000000 0     0       0       0.000000\n",
       "   applicable approach  ⋯ updated   use       variety  way well      wellknown\n",
       "1  0.0000000  0         ⋯ 0.0000000 0.0000000 0        0   0.0000000 0.000000 \n",
       "2  0.0000000  0         ⋯ 0.0000000 0.0000000 0        0   0.0000000 0.000000 \n",
       "3  0.0000000  0         ⋯ 0.0000000 0.0000000 0        0   0.0000000 0.000000 \n",
       "4  0.0000000  0         ⋯ 0.0000000 0.0000000 0        0   0.0000000 0.000000 \n",
       "5  0.0000000  0         ⋯ 0.0000000 0.0000000 0        0   0.0000000 0.000000 \n",
       "6  0.0000000  0         ⋯ 0.0000000 0.0000000 0        0   0.0000000 0.000000 \n",
       "7  0.0000000  0         ⋯ 0.0000000 0.0000000 0        0   0.0000000 0.000000 \n",
       "8  0.0000000  0         ⋯ 0.0000000 0.0000000 0        0   0.0000000 1.584963 \n",
       "9  0.0000000  0         ⋯ 0.0000000 0.0000000 0        0   0.0000000 0.000000 \n",
       "10 0.0000000  0         ⋯ 0.0000000 0.0000000 0        0   0.0000000 0.000000 \n",
       "11 0.0000000  0         ⋯ 0.0000000 0.0000000 0        0   0.0000000 0.000000 \n",
       "12 0.0000000  0         ⋯ 0.0000000 0.0000000 0        0   0.0000000 0.000000 \n",
       "13 0.0000000  0         ⋯ 0.0000000 0.0000000 0        0   0.0000000 0.000000 \n",
       "14 0.0000000  0         ⋯ 0.0000000 0.0000000 0        0   0.0000000 0.000000 \n",
       "15 0.0000000  0         ⋯ 0.9056929 0.0000000 0        0   0.0000000 0.000000 \n",
       "16 0.0000000  0         ⋯ 0.0000000 0.0000000 0        0   0.0000000 0.000000 \n",
       "17 0.0000000  0         ⋯ 0.0000000 0.0000000 0        0   0.0000000 0.000000 \n",
       "18 0.0000000  0         ⋯ 0.0000000 0.0000000 0        0   0.0000000 0.000000 \n",
       "19 0.0000000  0         ⋯ 0.0000000 0.0000000 0        0   0.0000000 0.000000 \n",
       "20 0.0000000  0         ⋯ 0.0000000 0.0000000 0        0   0.0000000 0.000000 \n",
       "21 0.0000000  0         ⋯ 0.0000000 0.0000000 0        0   0.0000000 0.000000 \n",
       "22 1.1887219  0         ⋯ 0.0000000 0.0000000 0        0   0.0000000 0.000000 \n",
       "23 0.0000000  0         ⋯ 0.0000000 0.0000000 0        0   0.0000000 0.000000 \n",
       "24 0.0000000  0         ⋯ 0.0000000 0.0000000 0        0   0.0000000 0.000000 \n",
       "25 0.0000000  0         ⋯ 0.0000000 0.0000000 0        0   0.0000000 0.000000 \n",
       "26 0.3396348  0         ⋯ 0.0000000 0.3396348 0        0   0.0000000 0.000000 \n",
       "27 0.6792696  0         ⋯ 0.0000000 0.0000000 0        0   0.0000000 0.000000 \n",
       "28 0.0000000  0         ⋯ 0.0000000 0.0000000 0        0   0.6199786 0.000000 \n",
       "29 0.0000000  0         ⋯ 0.0000000 0.0000000 0        0   0.0000000 0.000000 \n",
       "30 0.0000000  0         ⋯ 0.0000000 0.0000000 0        0   0.0000000 0.000000 \n",
       "⋮  ⋮          ⋮         ⋱ ⋮         ⋮         ⋮        ⋮   ⋮         ⋮        \n",
       "52 0          0.0000000 ⋯ 0         0.000000  0.000000 0   0.3338346 0        \n",
       "53 0          0.0000000 ⋯ 0         0.000000  0.000000 0   0.0000000 0        \n",
       "54 0          0.4226567 ⋯ 0         0.000000  0.000000 0   0.0000000 0        \n",
       "55 0          0.0000000 ⋯ 0         1.188722  0.000000 0   0.0000000 0        \n",
       "56 0          0.0000000 ⋯ 0         0.000000  0.000000 0   0.0000000 0        \n",
       "57 0          0.0000000 ⋯ 0         0.000000  0.000000 0   0.0000000 0        \n",
       "58 0          0.0000000 ⋯ 0         0.000000  1.334963 0   0.0000000 0        \n",
       "59 0          0.0000000 ⋯ 0         0.000000  0.000000 0   0.0000000 0        \n",
       "60 0          0.0000000 ⋯ 0         0.000000  0.000000 0   1.4466167 0        \n",
       "61 0          0.0000000 ⋯ 0         0.000000  0.000000 0   0.0000000 0        \n",
       "62 0          0.0000000 ⋯ 0         0.000000  0.000000 0   0.0000000 0        \n",
       "63 0          0.0000000 ⋯ 0         0.000000  0.000000 0   0.0000000 0        \n",
       "64 0          0.0000000 ⋯ 0         0.000000  0.000000 0   0.0000000 0        \n",
       "65 0          0.0000000 ⋯ 0         0.000000  0.000000 0   0.0000000 0        \n",
       "66 0          0.0000000 ⋯ 0         0.000000  0.000000 0   0.0000000 0        \n",
       "67 0          0.0000000 ⋯ 0         0.000000  0.000000 0   0.0000000 0        \n",
       "68 0          0.0000000 ⋯ 0         0.000000  0.000000 0   0.0000000 0        \n",
       "69 0          0.0000000 ⋯ 0         0.000000  0.000000 0   0.0000000 0        \n",
       "70 0          0.0000000 ⋯ 0         0.000000  0.000000 0   0.0000000 0        \n",
       "71 0          0.0000000 ⋯ 0         0.000000  1.779950 0   0.0000000 0        \n",
       "72 0          0.0000000 ⋯ 0         0.000000  0.000000 0   0.0000000 0        \n",
       "73 0          0.0000000 ⋯ 0         0.000000  0.000000 0   0.0000000 0        \n",
       "74 0          0.0000000 ⋯ 0         0.000000  0.000000 0   0.0000000 0        \n",
       "75 0          0.0000000 ⋯ 0         0.000000  0.000000 0   0.0000000 0        \n",
       "76 0          0.0000000 ⋯ 0         0.000000  0.000000 0   0.0000000 0        \n",
       "77 0          0.0000000 ⋯ 0         0.000000  0.000000 0   0.0000000 0        \n",
       "78 0          0.0000000 ⋯ 0         0.000000  0.000000 0   0.0000000 0        \n",
       "79 0          0.0000000 ⋯ 0         0.000000  0.000000 0   0.2066595 0        \n",
       "80 0          0.0000000 ⋯ 0         0.000000  0.000000 0   0.0000000 0        \n",
       "81 0          0.0000000 ⋯ 0         0.000000  0.000000 0   0.0000000 0        \n",
       "   wide     widely    will      work     \n",
       "1  0        0.0000000 0         0        \n",
       "2  0        0.0000000 0         0        \n",
       "3  0        0.0000000 0         0        \n",
       "4  0        0.0000000 0         0        \n",
       "5  0        0.0000000 0         0        \n",
       "6  0        0.0000000 0         0        \n",
       "7  0        0.0000000 0         0        \n",
       "8  0        0.0000000 0         0        \n",
       "9  0        0.0000000 0         0        \n",
       "10 0        0.0000000 0         0        \n",
       "11 0        0.0000000 0         0        \n",
       "12 0        0.0000000 0         0        \n",
       "13 0        0.0000000 0         0        \n",
       "14 0        0.0000000 0         0        \n",
       "15 0        0.0000000 0         0        \n",
       "16 0        0.0000000 0         0        \n",
       "17 0        0.0000000 0         0        \n",
       "18 0        0.0000000 0         0        \n",
       "19 0        0.0000000 0         0        \n",
       "20 0        0.0000000 0         0        \n",
       "21 0        0.0000000 0         0        \n",
       "22 0        0.0000000 0         0        \n",
       "23 0        0.0000000 0         0        \n",
       "24 0        0.0000000 0         0        \n",
       "25 0        0.0000000 0         0        \n",
       "26 0        0.0000000 0         0        \n",
       "27 0        0.9056929 0         0        \n",
       "28 0        0.0000000 0         0        \n",
       "29 0        0.0000000 0         0        \n",
       "30 0        0.0000000 0         0        \n",
       "⋮  ⋮        ⋮         ⋮         ⋮        \n",
       "52 0.000000 0         0.0000000 0.0000000\n",
       "53 0.000000 0         0.0000000 0.0000000\n",
       "54 0.000000 0         0.0000000 0.0000000\n",
       "55 0.000000 0         0.0000000 0.0000000\n",
       "56 1.334963 0         0.0000000 0.0000000\n",
       "57 0.000000 0         0.0000000 0.0000000\n",
       "58 1.334963 0         0.0000000 0.0000000\n",
       "59 0.000000 0         0.0000000 0.0000000\n",
       "60 0.000000 0         0.0000000 0.0000000\n",
       "61 0.000000 0         0.0000000 0.0000000\n",
       "62 0.000000 0         0.0000000 0.0000000\n",
       "63 0.000000 0         0.0000000 0.0000000\n",
       "64 0.000000 0         0.0000000 0.0000000\n",
       "65 0.000000 0         0.0000000 0.0000000\n",
       "66 0.000000 0         0.0000000 0.0000000\n",
       "67 0.000000 0         0.0000000 0.0000000\n",
       "68 0.000000 0         0.0000000 0.0000000\n",
       "69 0.000000 0         0.0000000 0.0000000\n",
       "70 0.000000 0         0.0000000 0.0000000\n",
       "71 0.000000 0         0.0000000 0.0000000\n",
       "72 0.000000 0         0.0000000 0.0000000\n",
       "73 0.000000 0         0.0000000 0.0000000\n",
       "74 0.000000 0         0.0000000 0.0000000\n",
       "75 0.000000 0         0.0000000 0.0000000\n",
       "76 0.000000 0         0.0000000 0.0000000\n",
       "77 0.000000 0         0.0000000 0.0000000\n",
       "78 0.000000 0         0.0000000 0.0000000\n",
       "79 0.000000 0         0.0000000 0.2542786\n",
       "80 0.000000 0         0.0000000 0.0000000\n",
       "81 0.000000 0         0.7924813 0.0000000"
      ]
     },
     "metadata": {},
     "output_type": "display_data"
    }
   ],
   "source": [
    "mat4 <- weightTfIdf(mat)\n",
    "mat4 <- as.matrix(mat4)\n",
    "mat4"
   ]
  },
  {
   "cell_type": "code",
   "execution_count": 18,
   "metadata": {},
   "outputs": [
    {
     "data": {
      "image/png": "[encoded data removed]",
      "text/plain": [
       "plot without title"
      ]
     },
     "metadata": {
      "image/png": {
       "height": 420,
       "width": 420
      }
     },
     "output_type": "display_data"
    }
   ],
   "source": [
    "freq <- rowSums(mat4)\n",
    "freq <- subset(freq, freq >= 5)\n",
    "barplot(freq, las = 2, col = rainbow(25))"
   ]
  },
  {
   "cell_type": "markdown",
   "metadata": {},
   "source": [
    "## K-Means Clustering"
   ]
  },
  {
   "cell_type": "code",
   "execution_count": 21,
   "metadata": {},
   "outputs": [],
   "source": [
    "#install.packages('proxy')"
   ]
  },
  {
   "cell_type": "code",
   "execution_count": 22,
   "metadata": {},
   "outputs": [],
   "source": [
    "dist.matrix = proxy::dist(mat4, method = \"cosine\") "
   ]
  },
  {
   "cell_type": "code",
   "execution_count": 23,
   "metadata": {},
   "outputs": [],
   "source": [
    "norm_eucl <- function(m){\n",
    "    m/apply(m,1,function(x) sum(x^2)^.5)\n",
    "}\n",
    "mat_norm <- norm_eucl(mat4)"
   ]
  },
  {
   "cell_type": "code",
   "execution_count": 24,
   "metadata": {
    "jupyter": {
     "outputs_hidden": true
    }
   },
   "outputs": [
    {
     "data": {
      "text/plain": [
       "K-means clustering with 5 clusters of sizes 6, 7, 5, 58, 5\n",
       "\n",
       "Cluster means:\n",
       "       access accessattend  accessible   address       adult     advance\n",
       "1 0.000000000   0.00000000 0.000000000 0.0000000 0.000000000 0.000000000\n",
       "2 0.000000000   0.00000000 0.055454741 0.0000000 0.000000000 0.000000000\n",
       "3 0.000000000   0.00000000 0.000000000 0.0000000 0.000000000 0.000000000\n",
       "4 0.005045057   0.01318707 0.008374697 0.0278994 0.005045057 0.005864907\n",
       "5 0.000000000   0.00000000 0.000000000 0.0000000 0.000000000 0.000000000\n",
       "     affects      amount applicable    approach appropriate        area\n",
       "1 0.00000000 0.000000000 0.00000000 0.000000000 0.000000000 0.000000000\n",
       "2 0.00000000 0.000000000 0.00000000 0.000000000 0.000000000 0.000000000\n",
       "3 0.00000000 0.000000000 0.00000000 0.000000000 0.000000000 0.000000000\n",
       "4 0.00000000 0.009735746 0.01995729 0.004772354 0.005191141 0.007293644\n",
       "5 0.06982849 0.000000000 0.00000000 0.000000000 0.000000000 0.000000000\n",
       "  attendings   attract  attractive   audience  auditorium      avenue\n",
       "1  0.0000000 0.0000000 0.000000000 0.00000000 0.000000000 0.000000000\n",
       "2  0.0000000 0.0000000 0.000000000 0.00000000 0.000000000 0.000000000\n",
       "3  0.0000000 0.1307118 0.000000000 0.00000000 0.000000000 0.000000000\n",
       "4  0.0000000 0.0000000 0.009531714 0.02000241 0.009954315 0.007151391\n",
       "5  0.1170542 0.0000000 0.000000000 0.00000000 0.000000000 0.000000000\n",
       "         away     based      basic      become       bench  beneficial\n",
       "1 0.000000000 0.1961599 0.00000000 0.000000000 0.000000000 0.000000000\n",
       "2 0.000000000 0.0000000 0.00000000 0.000000000 0.000000000 0.000000000\n",
       "3 0.000000000 0.0000000 0.00000000 0.000000000 0.000000000 0.000000000\n",
       "4 0.005345837 0.0000000 0.01012798 0.009531714 0.004772354 0.007606758\n",
       "5 0.000000000 0.0000000 0.00000000 0.000000000 0.000000000 0.000000000\n",
       "      benefit       best      beyond        bit    bridging      bring\n",
       "1 0.000000000 0.00000000 0.000000000 0.00000000 0.000000000 0.00000000\n",
       "2 0.000000000 0.00000000 0.000000000 0.00000000 0.000000000 0.00000000\n",
       "3 0.000000000 0.00000000 0.000000000 0.00000000 0.000000000 0.00000000\n",
       "4 0.005045057 0.01770447 0.005360447 0.00452439 0.004772354 0.00997606\n",
       "5 0.000000000 0.05185991 0.000000000 0.00000000 0.000000000 0.00000000\n",
       "       broad    building        busy         can        care        case\n",
       "1 0.00000000 0.000000000 0.000000000 0.000000000 0.000000000 0.000000000\n",
       "2 0.00000000 0.000000000 0.000000000 0.000000000 0.000000000 0.000000000\n",
       "3 0.00000000 0.000000000 0.000000000 0.000000000 0.000000000 0.000000000\n",
       "4 0.01829013 0.006330661 0.009943036 0.005345837 0.007887078 0.005191141\n",
       "5 0.00000000 0.000000000 0.000000000 0.000000000 0.095133297 0.000000000\n",
       "        cases      cater       ceus    changes     clearly   clinical\n",
       "1 0.000000000 0.00000000 0.00000000 0.00000000 0.000000000 0.00000000\n",
       "2 0.000000000 0.00000000 0.00000000 0.00000000 0.000000000 0.00000000\n",
       "3 0.000000000 0.00000000 0.00000000 0.00000000 0.000000000 0.00000000\n",
       "4 0.007293644 0.01047452 0.01556757 0.01200273 0.005360447 0.02140767\n",
       "5 0.000000000 0.00000000 0.00000000 0.05237137 0.000000000 0.12727766\n",
       "  clinically clinicaltranslationalbasic   clinician clinicians        come\n",
       "1  0.0000000                0.000000000 0.000000000 0.00000000 0.000000000\n",
       "2  0.3660557                0.000000000 0.088196690 0.00000000 0.000000000\n",
       "3  0.0000000                0.000000000 0.000000000 0.00000000 0.000000000\n",
       "4  0.0000000                0.006330661 0.007286649 0.03207799 0.007996487\n",
       "5  0.0000000                0.000000000 0.000000000 0.00000000 0.000000000\n",
       "      common  community   concisely   continue   continued continuous\n",
       "1 0.08063758 0.00000000 0.000000000 0.09455998 0.000000000 0.00000000\n",
       "2 0.00000000 0.08819669 0.000000000 0.00000000 0.000000000 0.00000000\n",
       "3 0.00000000 0.00000000 0.000000000 0.00000000 0.000000000 0.00000000\n",
       "4 0.00000000 0.01567473 0.005360447 0.00000000 0.005088078 0.01072349\n",
       "5 0.00000000 0.00000000 0.000000000 0.00000000 0.000000000 0.00000000\n",
       "     country      cover    current   cutting cuttingedge      daily      date\n",
       "1 0.00000000 0.00000000 0.00000000 0.0000000  0.00000000 0.00000000 0.0000000\n",
       "2 0.00000000 0.00000000 0.00000000 0.0000000  0.00000000 0.00000000 0.0000000\n",
       "3 0.00000000 0.07568797 0.00000000 0.5477937  0.00000000 0.00000000 0.0000000\n",
       "4 0.01017202 0.02607335 0.02599808 0.0000000  0.01450067 0.00000000 0.0000000\n",
       "5 0.00000000 0.00000000 0.00000000 0.0000000  0.00000000 0.06982849 0.5613261\n",
       "      decide    deliver dermatology   direction   directly disciplines\n",
       "1 0.00000000 0.08511365  0.00000000 0.000000000 0.00000000 0.000000000\n",
       "2 0.00000000 0.00000000  0.04684596 0.000000000 0.00000000 0.000000000\n",
       "3 0.00000000 0.00000000  0.00000000 0.000000000 0.00000000 0.000000000\n",
       "4 0.01001433 0.00000000  0.00000000 0.005864907 0.00000000 0.004772354\n",
       "5 0.00000000 0.00000000  0.00000000 0.000000000 0.06982849 0.000000000\n",
       "    discuss  discussion    disease    diseases disseminating    distance\n",
       "1 0.0000000 0.000000000 0.00000000 0.000000000   0.000000000 0.000000000\n",
       "2 0.0000000 0.000000000 0.04684596 0.000000000   0.000000000 0.000000000\n",
       "3 0.0000000 0.000000000 0.00000000 0.000000000   0.000000000 0.000000000\n",
       "4 0.0000000 0.006159752 0.00000000 0.005864907   0.007151391 0.005045057\n",
       "5 0.1155803 0.000000000 0.00000000 0.000000000   0.000000000 0.000000000\n",
       "    diversity    doctors       easy      edge   educate  education educational\n",
       "1 0.000000000 0.00000000 0.00000000 0.0000000 0.0000000 0.05992801  0.00000000\n",
       "2 0.000000000 0.00000000 0.00000000 0.0000000 0.0000000 0.00000000  0.00000000\n",
       "3 0.000000000 0.00000000 0.00000000 0.5477937 0.0000000 0.00000000  0.00000000\n",
       "4 0.005360447 0.01186647 0.02074147 0.0000000 0.0134886 0.01956467  0.01557649\n",
       "5 0.000000000 0.00000000 0.00000000 0.0000000 0.0000000 0.00000000  0.00000000\n",
       "    encourage     engage   engaging      enough      ensure  everyone evidence\n",
       "1 0.000000000 0.00000000 0.00000000 0.000000000 0.000000000 0.0000000  0.29283\n",
       "2 0.000000000 0.00000000 0.00000000 0.000000000 0.000000000 0.0000000  0.00000\n",
       "3 0.000000000 0.00000000 0.00000000 0.000000000 0.000000000 0.0000000  0.00000\n",
       "4 0.005345837 0.00000000 0.01669412 0.007260688 0.005379384 0.0126331  0.00000\n",
       "5 0.000000000 0.06914655 0.00000000 0.000000000 0.000000000 0.0000000  0.00000\n",
       "  evidencebased  experience     expert   expertise  extensive   fellows\n",
       "1    0.00000000 0.000000000 0.00000000 0.000000000 0.00000000 0.0000000\n",
       "2    0.00000000 0.000000000 0.00000000 0.000000000 0.00000000 0.0000000\n",
       "3    0.00000000 0.000000000 0.00000000 0.000000000 0.00000000 0.0000000\n",
       "4    0.02216396 0.003630344 0.01618878 0.003630344 0.00836598 0.0000000\n",
       "5    0.00000000 0.000000000 0.00000000 0.000000000 0.00000000 0.1170542\n",
       "       field      fields    figures        fine     focus    forwards\n",
       "1 0.00000000 0.000000000 0.00000000 0.000000000 0.0787725 0.000000000\n",
       "2 0.00000000 0.000000000 0.00000000 0.000000000 0.0000000 0.000000000\n",
       "3 0.00000000 0.000000000 0.00000000 0.000000000 0.0000000 0.000000000\n",
       "4 0.02043404 0.008800454 0.00997606 0.004148162 0.0000000 0.008808323\n",
       "5 0.00000000 0.000000000 0.00000000 0.000000000 0.0000000 0.000000000\n",
       "   frequently fundamental     future         gap      geared    general\n",
       "1 0.000000000 0.000000000 0.00000000 0.000000000 0.000000000 0.00000000\n",
       "2 0.000000000 0.000000000 0.00000000 0.000000000 0.000000000 0.00000000\n",
       "3 0.000000000 0.000000000 0.00000000 0.000000000 0.000000000 0.00000000\n",
       "4 0.007293644 0.006159752 0.02316119 0.004772354 0.007779385 0.02144485\n",
       "5 0.000000000 0.000000000 0.00000000 0.000000000 0.000000000 0.00000000\n",
       "  generalists   generally  geographic         get        give       going\n",
       "1  0.00000000 0.000000000 0.000000000 0.000000000 0.000000000 0.000000000\n",
       "2  0.08410943 0.000000000 0.000000000 0.000000000 0.039456831 0.000000000\n",
       "3  0.00000000 0.000000000 0.000000000 0.000000000 0.000000000 0.000000000\n",
       "4  0.01337103 0.005360447 0.007293644 0.009324666 0.008822351 0.008800454\n",
       "5  0.00000000 0.000000000 0.000000000 0.000000000 0.000000000 0.000000000\n",
       "        good groundbreaking guidelines     helpful  highlight        home\n",
       "1 0.00000000    0.000000000 0.06383524 0.000000000 0.00000000 0.000000000\n",
       "2 0.00000000    0.000000000 0.00000000 0.000000000 0.00000000 0.000000000\n",
       "3 0.00000000    0.000000000 0.00000000 0.000000000 0.00000000 0.000000000\n",
       "4 0.01678511    0.008808323 0.01312374 0.005088078 0.01269112 0.005379384\n",
       "5 0.00000000    0.000000000 0.00000000 0.000000000 0.00000000 0.000000000\n",
       "       ideas   identify    illness  illustrate     imaging  immediate\n",
       "1 0.00000000 0.00000000 0.00000000 0.000000000 0.000000000 0.00000000\n",
       "2 0.00000000 0.00000000 0.00000000 0.000000000 0.000000000 0.00000000\n",
       "3 0.00000000 0.00000000 0.00000000 0.000000000 0.000000000 0.00000000\n",
       "4 0.01252237 0.00452439 0.00836598 0.005191141 0.005191141 0.01144225\n",
       "5 0.00000000 0.00000000 0.00000000 0.000000000 0.000000000 0.00000000\n",
       "       impact    impacted  important    include   including incorporate\n",
       "1 0.000000000 0.000000000 0.00000000 0.00000000 0.000000000 0.000000000\n",
       "2 0.000000000 0.000000000 0.00000000 0.00000000 0.000000000 0.000000000\n",
       "3 0.000000000 0.000000000 0.00000000 0.00000000 0.000000000 0.000000000\n",
       "4 0.005721123 0.009659356 0.01705719 0.03379598 0.006159752 0.005045057\n",
       "5 0.000000000 0.000000000 0.00000000 0.00000000 0.000000000 0.000000000\n",
       "  infectious information  innovative    inspire   integrate    intended\n",
       "1 0.00000000  0.00000000 0.000000000 0.00000000 0.000000000 0.000000000\n",
       "2 0.04684596  0.00000000 0.000000000 0.00000000 0.000000000 0.000000000\n",
       "3 0.00000000  0.08839201 0.000000000 0.00000000 0.000000000 0.000000000\n",
       "4 0.00000000  0.02972852 0.008808323 0.00000000 0.003630344 0.009048781\n",
       "5 0.00000000  0.03491425 0.000000000 0.06914655 0.000000000 0.000000000\n",
       "    interest interesting international internationally      invite   involved\n",
       "1 0.00000000  0.00000000    0.00000000     0.000000000 0.000000000 0.00000000\n",
       "2 0.00000000  0.00000000    0.00000000     0.000000000 0.000000000 0.00000000\n",
       "3 0.00000000  0.00000000    0.00000000     0.000000000 0.000000000 0.00000000\n",
       "4 0.01104019  0.02963645    0.01854318     0.008485732 0.004772354 0.01047452\n",
       "5 0.00000000  0.00000000    0.00000000     0.000000000 0.000000000 0.00000000\n",
       "      issues        just        know knowledge      known         lab\n",
       "1 0.00000000 0.000000000 0.000000000 0.0000000 0.00000000 0.000000000\n",
       "2 0.00000000 0.000000000 0.000000000 0.0000000 0.00000000 0.000000000\n",
       "3 0.00000000 0.000000000 0.000000000 0.1105684 0.00000000 0.000000000\n",
       "4 0.02101491 0.003630344 0.005088078 0.0000000 0.01166219 0.004772354\n",
       "5 0.00000000 0.000000000 0.000000000 0.0000000 0.00000000 0.000000000\n",
       "      latest       leads      learn   lectures         led        like\n",
       "1 0.00000000 0.000000000 0.00000000 0.00000000 0.000000000 0.000000000\n",
       "2 0.00000000 0.000000000 0.00000000 0.00000000 0.000000000 0.000000000\n",
       "3 0.00000000 0.000000000 0.00000000 0.00000000 0.000000000 0.000000000\n",
       "4 0.01941361 0.009672976 0.01143868 0.01047452 0.006330661 0.005345837\n",
       "5 0.00000000 0.000000000 0.00000000 0.00000000 0.000000000 0.000000000\n",
       "        limit     little      lively longstanding    majority  management\n",
       "1 0.000000000 0.00000000 0.000000000    0.0000000 0.000000000 0.000000000\n",
       "2 0.000000000 0.00000000 0.000000000    0.0000000 0.000000000 0.000000000\n",
       "3 0.000000000 0.00000000 0.000000000    0.1105684 0.000000000 0.000000000\n",
       "4 0.009735746 0.00452439 0.005345837    0.0000000 0.007606758 0.005864907\n",
       "5 0.000000000 0.00000000 0.000000000    0.0000000 0.000000000 0.000000000\n",
       "       manner  maximizing       meal       means    medicine    messages\n",
       "1 0.000000000 0.000000000 0.00000000 0.000000000 0.000000000 0.000000000\n",
       "2 0.000000000 0.000000000 0.00000000 0.000000000 0.000000000 0.000000000\n",
       "3 0.000000000 0.000000000 0.00000000 0.000000000 0.000000000 0.000000000\n",
       "4 0.007151391 0.005045057 0.01506122 0.004148162 0.005721123 0.005379384\n",
       "5 0.000000000 0.000000000 0.00000000 0.000000000 0.000000000 0.000000000\n",
       "      methods   national  nationally        near        need      new\n",
       "1 0.000000000 0.00000000 0.000000000 0.000000000 0.000000000 0.000000\n",
       "2 0.000000000 0.00000000 0.000000000 0.000000000 0.000000000 0.000000\n",
       "3 0.000000000 0.00000000 0.000000000 0.000000000 0.000000000 0.000000\n",
       "4 0.005045057 0.01625638 0.008485732 0.005721123 0.009954315 0.013237\n",
       "5 0.000000000 0.00000000 0.000000000 0.000000000 0.000000000 0.000000\n",
       "      newest    newnovel    offering    offices      often         old\n",
       "1 0.08511365 0.000000000 0.000000000 0.00000000 0.00000000 0.000000000\n",
       "2 0.00000000 0.000000000 0.000000000 0.06583982 0.00000000 0.000000000\n",
       "3 0.00000000 0.000000000 0.000000000 0.00000000 0.00000000 0.000000000\n",
       "4 0.00000000 0.005379384 0.005045057 0.00000000 0.00452439 0.003630344\n",
       "5 0.00000000 0.000000000 0.000000000 0.00000000 0.00000000 0.000000000\n",
       "        order  oriented outpatient     outside   paradigms  particular\n",
       "1 0.000000000 0.0000000 0.00000000 0.000000000 0.000000000 0.000000000\n",
       "2 0.000000000 0.1696066 0.00000000 0.000000000 0.000000000 0.000000000\n",
       "3 0.000000000 0.0000000 0.00000000 0.000000000 0.000000000 0.000000000\n",
       "4 0.005191141 0.0000000 0.00452439 0.004772354 0.006330661 0.003630344\n",
       "5 0.000000000 0.0000000 0.00000000 0.000000000 0.000000000 0.000000000\n",
       "     patients  pediatrics      people   pertinent  physically       pick\n",
       "1 0.000000000 0.000000000 0.000000000 0.000000000 0.000000000 0.08063758\n",
       "2 0.000000000 0.000000000 0.000000000 0.000000000 0.000000000 0.00000000\n",
       "3 0.000000000 0.000000000 0.000000000 0.000000000 0.000000000 0.00000000\n",
       "4 0.007046394 0.004772354 0.003630344 0.008508084 0.005045057 0.00000000\n",
       "5 0.058239894 0.000000000 0.000000000 0.000000000 0.000000000 0.00000000\n",
       "     planned policymakers practical practicalrelevant   practice   practices\n",
       "1 0.00000000  0.000000000 0.2980648       0.000000000 0.04296195 0.000000000\n",
       "2 0.05545474  0.000000000 0.0000000       0.000000000 0.00000000 0.000000000\n",
       "3 0.00000000  0.000000000 0.0000000       0.000000000 0.00000000 0.000000000\n",
       "4 0.01057032  0.005379384 0.0000000       0.005379384 0.02986711 0.009985436\n",
       "5 0.00000000  0.000000000 0.0000000       0.000000000 0.08423777 0.000000000\n",
       "  practitioners   prescribe    present presentation presentations presentday\n",
       "1    0.00000000 0.000000000 0.00000000  0.000000000    0.00000000 0.00000000\n",
       "2    0.04684596 0.000000000 0.00000000  0.000000000    0.00000000 0.00000000\n",
       "3    0.00000000 0.000000000 0.00000000  0.000000000    0.08283949 0.00000000\n",
       "4    0.00000000 0.003630344 0.03683692  0.005345837    0.01899245 0.00836598\n",
       "5    0.00000000 0.000000000 0.00000000  0.000000000    0.00000000 0.00000000\n",
       "    presented  presenters  presenting     primary  problems professions\n",
       "1 0.000000000 0.000000000 0.000000000 0.000000000 0.1475632  0.00000000\n",
       "2 0.000000000 0.000000000 0.000000000 0.000000000 0.0000000  0.00000000\n",
       "3 0.000000000 0.000000000 0.000000000 0.000000000 0.0000000  0.00000000\n",
       "4 0.005360447 0.005345837 0.003630344 0.005191141 0.0000000  0.01845253\n",
       "5 0.000000000 0.000000000 0.000000000 0.000000000 0.0000000  0.00000000\n",
       "     provide   providers    quality      range        real     recent\n",
       "1 0.08251045 0.000000000 0.00000000 0.00000000 0.000000000 0.00000000\n",
       "2 0.00000000 0.000000000 0.00000000 0.00000000 0.000000000 0.00000000\n",
       "3 0.08415347 0.000000000 0.00000000 0.00000000 0.000000000 0.00000000\n",
       "4 0.03219757 0.005045057 0.01047452 0.01741592 0.003630344 0.01166126\n",
       "5 0.03324005 0.000000000 0.00000000 0.00000000 0.000000000 0.00000000\n",
       "   recipient references    reflect  regarding     related    relevant\n",
       "1 0.00000000  0.0787725 0.00000000 0.00000000 0.000000000 0.000000000\n",
       "2 0.00000000  0.0000000 0.00000000 0.00000000 0.000000000 0.358895839\n",
       "3 0.00000000  0.0000000 0.00000000 0.00000000 0.000000000 0.000000000\n",
       "4 0.01001433  0.0000000 0.01308705 0.01034693 0.005864907 0.003388436\n",
       "5 0.00000000  0.0000000 0.00000000 0.00000000 0.000000000 0.000000000\n",
       "    research  researched researchers residents     review     science\n",
       "1 0.00000000 0.000000000 0.000000000 0.0000000 0.08063758 0.000000000\n",
       "2 0.00000000 0.000000000 0.000000000 0.0000000 0.00000000 0.000000000\n",
       "3 0.04824185 0.000000000 0.000000000 0.0000000 0.00000000 0.000000000\n",
       "4 0.04204962 0.003630344 0.005379384 0.0000000 0.00000000 0.006330661\n",
       "5 0.06817717 0.000000000 0.000000000 0.1170542 0.00000000 0.000000000\n",
       "   scientists     seating       seek        seen        show  situations\n",
       "1 0.000000000 0.000000000 0.00000000 0.000000000 0.000000000 0.000000000\n",
       "2 0.000000000 0.000000000 0.00000000 0.000000000 0.000000000 0.000000000\n",
       "3 0.000000000 0.000000000 0.00000000 0.000000000 0.000000000 0.000000000\n",
       "4 0.004772354 0.009954315 0.00000000 0.007293644 0.006330661 0.003630344\n",
       "5 0.000000000 0.000000000 0.06914655 0.000000000 0.000000000 0.000000000\n",
       "    something       speak    speaker speakerexperts   speakers specialists\n",
       "1 0.000000000 0.000000000 0.00000000    0.000000000 0.00000000 0.000000000\n",
       "2 0.000000000 0.000000000 0.00000000    0.000000000 0.00000000 0.094456863\n",
       "3 0.000000000 0.000000000 0.00000000    0.000000000 0.00000000 0.000000000\n",
       "4 0.003630344 0.004772354 0.01933875    0.009324666 0.01017202 0.008028254\n",
       "5 0.000000000 0.000000000 0.00000000    0.000000000 0.00000000 0.000000000\n",
       "  specialized    specific stakeholders     state      status  students\n",
       "1 0.000000000 0.000000000  0.000000000 0.0000000 0.000000000 0.0000000\n",
       "2 0.000000000 0.000000000  0.000000000 0.0000000 0.000000000 0.0000000\n",
       "3 0.000000000 0.000000000  0.000000000 0.0000000 0.000000000 0.0000000\n",
       "4 0.005088078 0.009735746  0.005379384 0.0000000 0.006159752 0.0000000\n",
       "5 0.000000000 0.000000000  0.000000000 0.1155803 0.000000000 0.1170542\n",
       "     studies   subjects subspecialist subspecialists  successful     superb\n",
       "1 0.00000000 0.00000000    0.00000000     0.00000000 0.000000000 0.00000000\n",
       "2 0.00000000 0.04684596    0.00000000     0.00000000 0.000000000 0.05545474\n",
       "3 0.00000000 0.00000000    0.00000000     0.00000000 0.000000000 0.00000000\n",
       "4 0.01038228 0.00000000    0.00452439     0.01453405 0.004772354 0.01057032\n",
       "5 0.00000000 0.00000000    0.00000000     0.00000000 0.000000000 0.00000000\n",
       "    suspected        take        talk       talks  technology       think\n",
       "1 0.000000000 0.000000000 0.000000000 0.000000000 0.000000000 0.000000000\n",
       "2 0.000000000 0.000000000 0.000000000 0.000000000 0.000000000 0.000000000\n",
       "3 0.000000000 0.000000000 0.000000000 0.000000000 0.000000000 0.000000000\n",
       "4 0.005360447 0.005379384 0.004148162 0.004148162 0.005045057 0.004148162\n",
       "5 0.000000000 0.000000000 0.000000000 0.000000000 0.000000000 0.000000000\n",
       "       timely       topic     topics translational  treatments    unclear\n",
       "1 0.000000000 0.000000000 0.00000000   0.000000000 0.000000000 0.00000000\n",
       "2 0.000000000 0.000000000 0.00000000   0.000000000 0.000000000 0.00000000\n",
       "3 0.000000000 0.000000000 0.00000000   0.000000000 0.000000000 0.00000000\n",
       "4 0.007151391 0.009659356 0.04124384   0.008838316 0.009870827 0.00452439\n",
       "5 0.000000000 0.000000000 0.00000000   0.000000000 0.000000000 0.00000000\n",
       "       update     updated        use    variety         way       well\n",
       "1 0.000000000 0.000000000 0.00000000 0.00000000 0.000000000 0.00000000\n",
       "2 0.078913662 0.000000000 0.00000000 0.00000000 0.000000000 0.04506967\n",
       "3 0.000000000 0.000000000 0.00000000 0.00000000 0.000000000 0.00000000\n",
       "4 0.008313878 0.007151391 0.01422121 0.02018636 0.003630344 0.01564693\n",
       "5 0.000000000 0.000000000 0.00000000 0.00000000 0.000000000 0.00000000\n",
       "   wellknown       wide      widely        will        work\n",
       "1 0.00000000 0.00000000 0.000000000 0.000000000 0.000000000\n",
       "2 0.00000000 0.00000000 0.000000000 0.000000000 0.000000000\n",
       "3 0.00000000 0.00000000 0.000000000 0.000000000 0.000000000\n",
       "4 0.01073474 0.01973919 0.008508084 0.007606758 0.007779385\n",
       "5 0.00000000 0.00000000 0.000000000 0.000000000 0.000000000\n",
       "\n",
       "Clustering vector:\n",
       " 1  2  3  4  5  6  7  8  9 10 11 12 13 14 15 16 17 18 19 20 21 22 23 24 25 26 \n",
       " 4  4  4  4  4  4  4  4  1  1  4  4  1  4  4  3  3  3  3  3  1  4  4  1  1  4 \n",
       "27 28 29 30 31 32 33 34 35 36 37 38 39 40 41 42 43 44 45 46 47 48 49 50 51 52 \n",
       " 4  2  4  4  4  4  4  4  4  4  2  4  2  2  5  5  4  4  4  5  4  4  4  4  4  4 \n",
       "53 54 55 56 57 58 59 60 61 62 63 64 65 66 67 68 69 70 71 72 73 74 75 76 77 78 \n",
       " 4  4  4  4  2  4  4  4  4  4  4  4  5  4  4  5  2  4  4  4  4  4  4  4  4  2 \n",
       "79 80 81 \n",
       " 4  4  4 \n",
       "\n",
       "Within cluster sum of squares by cluster:\n",
       "[1]  4.160919  4.497696  1.642472 55.982649  2.631374\n",
       " (between_SS / total_SS =  12.2 %)\n",
       "\n",
       "Available components:\n",
       "\n",
       "[1] \"cluster\"      \"centers\"      \"totss\"        \"withinss\"     \"tot.withinss\"\n",
       "[6] \"betweenss\"    \"size\"         \"iter\"         \"ifault\"      "
      ]
     },
     "metadata": {},
     "output_type": "display_data"
    },
    {
     "data": {
      "text/html": [
       "<dl class=dl-horizontal>\n",
       "\t<dt>1</dt>\n",
       "\t\t<dd>4</dd>\n",
       "\t<dt>2</dt>\n",
       "\t\t<dd>4</dd>\n",
       "\t<dt>3</dt>\n",
       "\t\t<dd>4</dd>\n",
       "\t<dt>4</dt>\n",
       "\t\t<dd>4</dd>\n",
       "\t<dt>5</dt>\n",
       "\t\t<dd>4</dd>\n",
       "\t<dt>6</dt>\n",
       "\t\t<dd>4</dd>\n",
       "</dl>\n"
      ],
      "text/latex": [
       "\\begin{description*}\n",
       "\\item[1] 4\n",
       "\\item[2] 4\n",
       "\\item[3] 4\n",
       "\\item[4] 4\n",
       "\\item[5] 4\n",
       "\\item[6] 4\n",
       "\\end{description*}\n"
      ],
      "text/markdown": [
       "1\n",
       ":   42\n",
       ":   43\n",
       ":   44\n",
       ":   45\n",
       ":   46\n",
       ":   4\n",
       "\n"
      ],
      "text/plain": [
       "1 2 3 4 5 6 \n",
       "4 4 4 4 4 4 "
      ]
     },
     "metadata": {},
     "output_type": "display_data"
    }
   ],
   "source": [
    "set.seed(5)\n",
    "k <- 5 # number of cluster groups\n",
    "kmeansResult <- kmeans(mat_norm, k)\n",
    "kmeansResult\n",
    "head(kmeansResult$cluster)"
   ]
  },
  {
   "cell_type": "code",
   "execution_count": 25,
   "metadata": {},
   "outputs": [
    {
     "data": {
      "text/plain": [
       "   Min. 1st Qu.  Median    Mean 3rd Qu.    Max. \n",
       "  1.000   4.000   4.000   3.605   4.000   5.000 "
      ]
     },
     "metadata": {},
     "output_type": "display_data"
    }
   ],
   "source": [
    "summary(kmeansResult$cluster)"
   ]
  },
  {
   "cell_type": "code",
   "execution_count": 26,
   "metadata": {},
   "outputs": [],
   "source": [
    "points <- cmdscale(dist.matrix, k = 2) "
   ]
  },
  {
   "cell_type": "code",
   "execution_count": 27,
   "metadata": {},
   "outputs": [
    {
     "data": {
      "image/png": "[encoded data removed]",
      "text/plain": [
       "Plot with title “K-means Clustering”"
      ]
     },
     "metadata": {
      "image/png": {
       "height": 420,
       "width": 420
      }
     },
     "output_type": "display_data"
    }
   ],
   "source": [
    "plot(points,col = as.factor(kmeansResult$cluster), main = 'K-means Clustering',mai = c(0, 0, 0, 0), mar = c(0, 0, 0, 0), \n",
    "     xaxt = 'n', yaxt = 'n', xlab = '', ylab = '')"
   ]
  },
  {
   "cell_type": "markdown",
   "metadata": {},
   "source": [
    "## Hierarchical Clustering"
   ]
  },
  {
   "cell_type": "code",
   "execution_count": 28,
   "metadata": {},
   "outputs": [
    {
     "data": {
      "image/png": "[encoded data removed]",
      "text/plain": [
       "Plot with title “Cluster Dendrogram”"
      ]
     },
     "metadata": {
      "image/png": {
       "height": 420,
       "width": 420
      }
     },
     "output_type": "display_data"
    }
   ],
   "source": [
    "distance <- dist(scale(mat4))\n",
    "#print(distance, digits = 2)\n",
    "hc <- hclust(distance, method = \"ward.D\")\n",
    "plot(hc)\n",
    "rect.hclust(hc, k = 5)"
   ]
  },
  {
   "cell_type": "markdown",
   "metadata": {},
   "source": [
    "# Model Performance"
   ]
  },
  {
   "cell_type": "code",
   "execution_count": 29,
   "metadata": {},
   "outputs": [
    {
     "data": {
      "text/html": [
       "<table>\n",
       "<caption>A data.frame: 6 × 2</caption>\n",
       "<thead>\n",
       "\t<tr><th></th><th scope=col>actual</th><th scope=col>predicted</th></tr>\n",
       "\t<tr><th></th><th scope=col>&lt;fct&gt;</th><th scope=col>&lt;int&gt;</th></tr>\n",
       "</thead>\n",
       "<tbody>\n",
       "\t<tr><th scope=row>1</th><td>Be interesting and easy to learn from.          </td><td>4</td></tr>\n",
       "\t<tr><th scope=row>2</th><td>Give quality lectures                           </td><td>4</td></tr>\n",
       "\t<tr><th scope=row>3</th><td>Have an engaging speaker.                       </td><td>4</td></tr>\n",
       "\t<tr><th scope=row>4</th><td>Bring national figures to present               </td><td>4</td></tr>\n",
       "\t<tr><th scope=row>5</th><td>Get national and international speaker/experts  </td><td>4</td></tr>\n",
       "\t<tr><th scope=row>6</th><td>Include some of the best speakers in the country</td><td>4</td></tr>\n",
       "</tbody>\n",
       "</table>\n"
      ],
      "text/latex": [
       "A data.frame: 6 × 2\n",
       "\\begin{tabular}{r|ll}\n",
       "  & actual & predicted\\\\\n",
       "  & <fct> & <int>\\\\\n",
       "\\hline\n",
       "\t1 & Be interesting and easy to learn from.           & 4\\\\\n",
       "\t2 & Give quality lectures                            & 4\\\\\n",
       "\t3 & Have an engaging speaker.                        & 4\\\\\n",
       "\t4 & Bring national figures to present                & 4\\\\\n",
       "\t5 & Get national and international speaker/experts   & 4\\\\\n",
       "\t6 & Include some of the best speakers in the country & 4\\\\\n",
       "\\end{tabular}\n"
      ],
      "text/markdown": [
       "\n",
       "A data.frame: 6 × 2\n",
       "\n",
       "| <!--/--> | actual &lt;fct&gt; | predicted &lt;int&gt; |\n",
       "|---|---|---|\n",
       "| 1 | Be interesting and easy to learn from.           | 4 |\n",
       "| 2 | Give quality lectures                            | 4 |\n",
       "| 3 | Have an engaging speaker.                        | 4 |\n",
       "| 4 | Bring national figures to present                | 4 |\n",
       "| 5 | Get national and international speaker/experts   | 4 |\n",
       "| 6 | Include some of the best speakers in the country | 4 |\n",
       "\n"
      ],
      "text/plain": [
       "  actual                                           predicted\n",
       "1 Be interesting and easy to learn from.           4        \n",
       "2 Give quality lectures                            4        \n",
       "3 Have an engaging speaker.                        4        \n",
       "4 Bring national figures to present                4        \n",
       "5 Get national and international speaker/experts   4        \n",
       "6 Include some of the best speakers in the country 4        "
      ]
     },
     "metadata": {},
     "output_type": "display_data"
    }
   ],
   "source": [
    "result <- data.frame('actual' = unsorted$unsorted_content, 'predicted' = kmeansResult$cluster)\n",
    "head(result)"
   ]
  },
  {
   "cell_type": "code",
   "execution_count": 30,
   "metadata": {},
   "outputs": [
    {
     "data": {
      "text/html": [
       "<table>\n",
       "<caption>A data.frame: 6 × 2</caption>\n",
       "<thead>\n",
       "\t<tr><th></th><th scope=col>actual</th><th scope=col>predicted</th></tr>\n",
       "\t<tr><th></th><th scope=col>&lt;fct&gt;</th><th scope=col>&lt;int&gt;</th></tr>\n",
       "</thead>\n",
       "<tbody>\n",
       "\t<tr><th scope=row>71</th><td>Address a variety of professions                                             </td><td>4</td></tr>\n",
       "\t<tr><th scope=row>77</th><td>Address general clinical issues                                              </td><td>4</td></tr>\n",
       "\t<tr><th scope=row>67</th><td>Address important issues.                                                    </td><td>4</td></tr>\n",
       "\t<tr><th scope=row>19</th><td>Attract more presentations with cutting edge research.                       </td><td>3</td></tr>\n",
       "\t<tr><th scope=row>29</th><td>Be accessible to busy clinicians and have good topics                        </td><td>4</td></tr>\n",
       "\t<tr><th scope=row>15</th><td>Be an avenue for disseminating updated clinical guidelines in a timely manner</td><td>4</td></tr>\n",
       "</tbody>\n",
       "</table>\n"
      ],
      "text/latex": [
       "A data.frame: 6 × 2\n",
       "\\begin{tabular}{r|ll}\n",
       "  & actual & predicted\\\\\n",
       "  & <fct> & <int>\\\\\n",
       "\\hline\n",
       "\t71 & Address a variety of professions                                              & 4\\\\\n",
       "\t77 & Address general clinical issues                                               & 4\\\\\n",
       "\t67 & Address important issues.                                                     & 4\\\\\n",
       "\t19 & Attract more presentations with cutting edge research.                        & 3\\\\\n",
       "\t29 & Be accessible to busy clinicians and have good topics                         & 4\\\\\n",
       "\t15 & Be an avenue for disseminating updated clinical guidelines in a timely manner & 4\\\\\n",
       "\\end{tabular}\n"
      ],
      "text/markdown": [
       "\n",
       "A data.frame: 6 × 2\n",
       "\n",
       "| <!--/--> | actual &lt;fct&gt; | predicted &lt;int&gt; |\n",
       "|---|---|---|\n",
       "| 71 | Address a variety of professions                                              | 4 |\n",
       "| 77 | Address general clinical issues                                               | 4 |\n",
       "| 67 | Address important issues.                                                     | 4 |\n",
       "| 19 | Attract more presentations with cutting edge research.                        | 3 |\n",
       "| 29 | Be accessible to busy clinicians and have good topics                         | 4 |\n",
       "| 15 | Be an avenue for disseminating updated clinical guidelines in a timely manner | 4 |\n",
       "\n"
      ],
      "text/plain": [
       "   actual                                                                       \n",
       "71 Address a variety of professions                                             \n",
       "77 Address general clinical issues                                              \n",
       "67 Address important issues.                                                    \n",
       "19 Attract more presentations with cutting edge research.                       \n",
       "29 Be accessible to busy clinicians and have good topics                        \n",
       "15 Be an avenue for disseminating updated clinical guidelines in a timely manner\n",
       "   predicted\n",
       "71 4        \n",
       "77 4        \n",
       "67 4        \n",
       "19 3        \n",
       "29 4        \n",
       "15 4        "
      ]
     },
     "metadata": {},
     "output_type": "display_data"
    }
   ],
   "source": [
    "result <- result[order(result[,1]),]\n",
    "head(result)"
   ]
  },
  {
   "cell_type": "code",
   "execution_count": 31,
   "metadata": {},
   "outputs": [
    {
     "data": {
      "text/html": [
       "<table>\n",
       "<caption>A data.frame: 6 × 3</caption>\n",
       "<thead>\n",
       "\t<tr><th></th><th scope=col>actual</th><th scope=col>predicted</th><th scope=col>counter</th></tr>\n",
       "\t<tr><th></th><th scope=col>&lt;fct&gt;</th><th scope=col>&lt;int&gt;</th><th scope=col>&lt;dbl&gt;</th></tr>\n",
       "</thead>\n",
       "<tbody>\n",
       "\t<tr><th scope=row>1</th><td>Be evidence based                                            </td><td>1</td><td>-1</td></tr>\n",
       "\t<tr><th scope=row>2</th><td>Be evidence based and deliver the newest guidelines          </td><td>1</td><td>-1</td></tr>\n",
       "\t<tr><th scope=row>3</th><td>Be practical                                                 </td><td>1</td><td>-1</td></tr>\n",
       "\t<tr><th scope=row>4</th><td>Be practical. Pick common problems for review.               </td><td>1</td><td>-1</td></tr>\n",
       "\t<tr><th scope=row>5</th><td>Continue to provide practical education to practice problems.</td><td>1</td><td>-1</td></tr>\n",
       "\t<tr><th scope=row>6</th><td>Focus on evidence and provide references to that evidence.   </td><td>1</td><td>-1</td></tr>\n",
       "</tbody>\n",
       "</table>\n"
      ],
      "text/latex": [
       "A data.frame: 6 × 3\n",
       "\\begin{tabular}{r|lll}\n",
       "  & actual & predicted & counter\\\\\n",
       "  & <fct> & <int> & <dbl>\\\\\n",
       "\\hline\n",
       "\t1 & Be evidence based                                             & 1 & -1\\\\\n",
       "\t2 & Be evidence based and deliver the newest guidelines           & 1 & -1\\\\\n",
       "\t3 & Be practical                                                  & 1 & -1\\\\\n",
       "\t4 & Be practical. Pick common problems for review.                & 1 & -1\\\\\n",
       "\t5 & Continue to provide practical education to practice problems. & 1 & -1\\\\\n",
       "\t6 & Focus on evidence and provide references to that evidence.    & 1 & -1\\\\\n",
       "\\end{tabular}\n"
      ],
      "text/markdown": [
       "\n",
       "A data.frame: 6 × 3\n",
       "\n",
       "| <!--/--> | actual &lt;fct&gt; | predicted &lt;int&gt; | counter &lt;dbl&gt; |\n",
       "|---|---|---|---|\n",
       "| 1 | Be evidence based                                             | 1 | -1 |\n",
       "| 2 | Be evidence based and deliver the newest guidelines           | 1 | -1 |\n",
       "| 3 | Be practical                                                  | 1 | -1 |\n",
       "| 4 | Be practical. Pick common problems for review.                | 1 | -1 |\n",
       "| 5 | Continue to provide practical education to practice problems. | 1 | -1 |\n",
       "| 6 | Focus on evidence and provide references to that evidence.    | 1 | -1 |\n",
       "\n"
      ],
      "text/plain": [
       "  actual                                                        predicted\n",
       "1 Be evidence based                                             1        \n",
       "2 Be evidence based and deliver the newest guidelines           1        \n",
       "3 Be practical                                                  1        \n",
       "4 Be practical. Pick common problems for review.                1        \n",
       "5 Continue to provide practical education to practice problems. 1        \n",
       "6 Focus on evidence and provide references to that evidence.    1        \n",
       "  counter\n",
       "1 -1     \n",
       "2 -1     \n",
       "3 -1     \n",
       "4 -1     \n",
       "5 -1     \n",
       "6 -1     "
      ]
     },
     "metadata": {},
     "output_type": "display_data"
    }
   ],
   "source": [
    "result$counter <- -1\n",
    "result.agg <- aggregate(counter ~ actual + predicted, data = result, FUN = 'sum')\n",
    "head(result.agg)"
   ]
  },
  {
   "cell_type": "code",
   "execution_count": 32,
   "metadata": {},
   "outputs": [
    {
     "data": {
      "image/png": "[encoded data removed]",
      "text/plain": [
       "plot without title"
      ]
     },
     "metadata": {
      "image/png": {
       "height": 420,
       "width": 420
      }
     },
     "output_type": "display_data"
    }
   ],
   "source": [
    "ggplot(data = result.agg, aes(x=actual, y=predicted, size = counter)) + geom_point()"
   ]
  },
  {
   "cell_type": "markdown",
   "metadata": {},
   "source": [
    "## Supervised Analysis"
   ]
  },
  {
   "cell_type": "code",
   "execution_count": 33,
   "metadata": {},
   "outputs": [
    {
     "data": {
      "text/html": [
       "<table>\n",
       "<caption>A tibble: 6 × 2</caption>\n",
       "<thead>\n",
       "\t<tr><th scope=col>CLU5</th><th scope=col>item_text</th></tr>\n",
       "\t<tr><th scope=col>&lt;dbl&gt;</th><th scope=col>&lt;chr&gt;</th></tr>\n",
       "</thead>\n",
       "<tbody>\n",
       "\t<tr><td>1</td><td>1. Challenge the audience to question their practice                                                                                                             </td></tr>\n",
       "\t<tr><td>2</td><td>2. Cover novel therapies, techniques, and concepts                                                                                                               </td></tr>\n",
       "\t<tr><td>3</td><td>3. Provide a forum for topics of  health and education that are relevant to this organization and to the community at large.                                     </td></tr>\n",
       "\t<tr><td>1</td><td>4. Presentations in which clinical issues are discussed in a case presentation format by specialists and allowing for the opportunity for comments and questions.</td></tr>\n",
       "\t<tr><td>4</td><td>5. Cover areas from this organization's strategic plan.                                                                                                          </td></tr>\n",
       "\t<tr><td>2</td><td>6. Present speakers and ideas that are \"out of the box\" such as the recent one about the beauty of patients with chronic medical problems.                       </td></tr>\n",
       "</tbody>\n",
       "</table>\n"
      ],
      "text/latex": [
       "A tibble: 6 × 2\n",
       "\\begin{tabular}{ll}\n",
       " CLU5 & item\\_text\\\\\n",
       " <dbl> & <chr>\\\\\n",
       "\\hline\n",
       "\t 1 & 1. Challenge the audience to question their practice                                                                                                             \\\\\n",
       "\t 2 & 2. Cover novel therapies, techniques, and concepts                                                                                                               \\\\\n",
       "\t 3 & 3. Provide a forum for topics of  health and education that are relevant to this organization and to the community at large.                                     \\\\\n",
       "\t 1 & 4. Presentations in which clinical issues are discussed in a case presentation format by specialists and allowing for the opportunity for comments and questions.\\\\\n",
       "\t 4 & 5. Cover areas from this organization's strategic plan.                                                                                                          \\\\\n",
       "\t 2 & 6. Present speakers and ideas that are \"out of the box\" such as the recent one about the beauty of patients with chronic medical problems.                       \\\\\n",
       "\\end{tabular}\n"
      ],
      "text/markdown": [
       "\n",
       "A tibble: 6 × 2\n",
       "\n",
       "| CLU5 &lt;dbl&gt; | item_text &lt;chr&gt; |\n",
       "|---|---|\n",
       "| 1 | 1. Challenge the audience to question their practice                                                                                                              |\n",
       "| 2 | 2. Cover novel therapies, techniques, and concepts                                                                                                                |\n",
       "| 3 | 3. Provide a forum for topics of  health and education that are relevant to this organization and to the community at large.                                      |\n",
       "| 1 | 4. Presentations in which clinical issues are discussed in a case presentation format by specialists and allowing for the opportunity for comments and questions. |\n",
       "| 4 | 5. Cover areas from this organization's strategic plan.                                                                                                           |\n",
       "| 2 | 6. Present speakers and ideas that are \"out of the box\" such as the recent one about the beauty of patients with chronic medical problems.                        |\n",
       "\n"
      ],
      "text/plain": [
       "  CLU5\n",
       "1 1   \n",
       "2 2   \n",
       "3 3   \n",
       "4 1   \n",
       "5 4   \n",
       "6 2   \n",
       "  item_text                                                                                                                                                        \n",
       "1 1. Challenge the audience to question their practice                                                                                                             \n",
       "2 2. Cover novel therapies, techniques, and concepts                                                                                                               \n",
       "3 3. Provide a forum for topics of  health and education that are relevant to this organization and to the community at large.                                     \n",
       "4 4. Presentations in which clinical issues are discussed in a case presentation format by specialists and allowing for the opportunity for comments and questions.\n",
       "5 5. Cover areas from this organization's strategic plan.                                                                                                          \n",
       "6 6. Present speakers and ideas that are \"out of the box\" such as the recent one about the beauty of patients with chronic medical problems.                       "
      ]
     },
     "metadata": {},
     "output_type": "display_data"
    }
   ],
   "source": [
    "output_data <- output[, c(13, 15)]\n",
    "head(output_data)"
   ]
  },
  {
   "cell_type": "code",
   "execution_count": 34,
   "metadata": {},
   "outputs": [
    {
     "data": {
      "text/html": [
       "<table>\n",
       "<caption>A tibble: 6 × 2</caption>\n",
       "<thead>\n",
       "\t<tr><th scope=col>CLU5</th><th scope=col>item_text</th></tr>\n",
       "\t<tr><th scope=col>&lt;dbl&gt;</th><th scope=col>&lt;chr&gt;</th></tr>\n",
       "</thead>\n",
       "<tbody>\n",
       "\t<tr><td>2</td><td>85. Present state of the art clinical care - new findings, great projects demonstrating outcomes and important psychosocial / professional issues.                                                </td></tr>\n",
       "\t<tr><td>4</td><td>86. Be free from political and/or organizational agendas or what senior management has determined to be the latest catch phrase, trend, or \"in\" thing.                                            </td></tr>\n",
       "\t<tr><td>1</td><td>87. Stimulate the audience to make changes in their practice, for instance a recent grand rounds helped me to see that my usual cheery entrance into an exam room may threaten a sensitive patient</td></tr>\n",
       "\t<tr><td>1</td><td>88. Be accessible in offices                                                                                                                                                                      </td></tr>\n",
       "\t<tr><td>4</td><td>89. Cover topics that call for community and multidisciplinary involvement                                                                                                                        </td></tr>\n",
       "\t<tr><td>4</td><td>90. Identify colleagues involved in similar issue, practices, and projects.                                                                                                                       </td></tr>\n",
       "</tbody>\n",
       "</table>\n"
      ],
      "text/latex": [
       "A tibble: 6 × 2\n",
       "\\begin{tabular}{ll}\n",
       " CLU5 & item\\_text\\\\\n",
       " <dbl> & <chr>\\\\\n",
       "\\hline\n",
       "\t 2 & 85. Present state of the art clinical care - new findings, great projects demonstrating outcomes and important psychosocial / professional issues.                                                \\\\\n",
       "\t 4 & 86. Be free from political and/or organizational agendas or what senior management has determined to be the latest catch phrase, trend, or \"in\" thing.                                            \\\\\n",
       "\t 1 & 87. Stimulate the audience to make changes in their practice, for instance a recent grand rounds helped me to see that my usual cheery entrance into an exam room may threaten a sensitive patient\\\\\n",
       "\t 1 & 88. Be accessible in offices                                                                                                                                                                      \\\\\n",
       "\t 4 & 89. Cover topics that call for community and multidisciplinary involvement                                                                                                                        \\\\\n",
       "\t 4 & 90. Identify colleagues involved in similar issue, practices, and projects.                                                                                                                       \\\\\n",
       "\\end{tabular}\n"
      ],
      "text/markdown": [
       "\n",
       "A tibble: 6 × 2\n",
       "\n",
       "| CLU5 &lt;dbl&gt; | item_text &lt;chr&gt; |\n",
       "|---|---|\n",
       "| 2 | 85. Present state of the art clinical care - new findings, great projects demonstrating outcomes and important psychosocial / professional issues.                                                 |\n",
       "| 4 | 86. Be free from political and/or organizational agendas or what senior management has determined to be the latest catch phrase, trend, or \"in\" thing.                                             |\n",
       "| 1 | 87. Stimulate the audience to make changes in their practice, for instance a recent grand rounds helped me to see that my usual cheery entrance into an exam room may threaten a sensitive patient |\n",
       "| 1 | 88. Be accessible in offices                                                                                                                                                                       |\n",
       "| 4 | 89. Cover topics that call for community and multidisciplinary involvement                                                                                                                         |\n",
       "| 4 | 90. Identify colleagues involved in similar issue, practices, and projects.                                                                                                                        |\n",
       "\n"
      ],
      "text/plain": [
       "  CLU5\n",
       "1 2   \n",
       "2 4   \n",
       "3 1   \n",
       "4 1   \n",
       "5 4   \n",
       "6 4   \n",
       "  item_text                                                                                                                                                                                         \n",
       "1 85. Present state of the art clinical care - new findings, great projects demonstrating outcomes and important psychosocial / professional issues.                                                \n",
       "2 86. Be free from political and/or organizational agendas or what senior management has determined to be the latest catch phrase, trend, or \"in\" thing.                                            \n",
       "3 87. Stimulate the audience to make changes in their practice, for instance a recent grand rounds helped me to see that my usual cheery entrance into an exam room may threaten a sensitive patient\n",
       "4 88. Be accessible in offices                                                                                                                                                                      \n",
       "5 89. Cover topics that call for community and multidisciplinary involvement                                                                                                                        \n",
       "6 90. Identify colleagues involved in similar issue, practices, and projects.                                                                                                                       "
      ]
     },
     "metadata": {},
     "output_type": "display_data"
    }
   ],
   "source": [
    "tail(output_data)"
   ]
  },
  {
   "cell_type": "markdown",
   "metadata": {},
   "source": [
    "## Pre-Process "
   ]
  },
  {
   "cell_type": "code",
   "execution_count": 35,
   "metadata": {},
   "outputs": [],
   "source": [
    "corpus_output <- VCorpus(VectorSource(output_data$item_text))"
   ]
  },
  {
   "cell_type": "code",
   "execution_count": 36,
   "metadata": {},
   "outputs": [
    {
     "data": {
      "text/html": [
       "'challenge audience question practice'"
      ],
      "text/latex": [
       "'challenge audience question practice'"
      ],
      "text/markdown": [
       "'challenge audience question practice'"
      ],
      "text/plain": [
       "[1] \"challenge audience question practice\""
      ]
     },
     "metadata": {},
     "output_type": "display_data"
    }
   ],
   "source": [
    "corpus_output <- tm_map(corpus_output, content_transformer(tolower))\n",
    "corpus_output <- tm_map(corpus_output, removeNumbers)\n",
    "corpus_output <- tm_map(corpus_output, removePunctuation)\n",
    "corpus_output <- tm_map(corpus_output,stripWhitespace)\n",
    "corpus_output <- tm_map(corpus_output, removeWords, stopwords('english'))\n",
    "strwrap(corpus_output[[1]])"
   ]
  },
  {
   "cell_type": "code",
   "execution_count": 37,
   "metadata": {},
   "outputs": [
    {
     "data": {
      "text/plain": [
       "<<DocumentTermMatrix (documents: 90, terms: 356)>>\n",
       "Non-/sparse entries: 666/31374\n",
       "Sparsity           : 98%\n",
       "Maximal term length: 18\n",
       "Weighting          : term frequency (tf)"
      ]
     },
     "metadata": {},
     "output_type": "display_data"
    }
   ],
   "source": [
    "frequencies <- DocumentTermMatrix(corpus_output,\n",
    "                                 control = list(tolower = TRUE,\n",
    "                                            removeNumbers = TRUE,\n",
    "                                            stopwords = TRUE,\n",
    "                                            removePunctuation = TRUE,\n",
    "                                            stemming = TRUE))\n",
    "frequencies"
   ]
  },
  {
   "cell_type": "markdown",
   "metadata": {},
   "source": [
    "## Sparse"
   ]
  },
  {
   "cell_type": "code",
   "execution_count": 38,
   "metadata": {},
   "outputs": [
    {
     "name": "stdout",
     "output_type": "stream",
     "text": [
      "<<DocumentTermMatrix (documents: 90, terms: 356)>>\n",
      "Non-/sparse entries: 666/31374\n",
      "Sparsity           : 98%\n",
      "Maximal term length: 18\n",
      "Weighting          : term frequency (tf)\n",
      "Sample             :\n",
      "    Terms\n",
      "Docs care clinic clinician cover inform organ practic present provid topic\n",
      "  10    0      1         0     0      0     0       0       0      0     0\n",
      "  11    0      0         1     0      1     0       0       1      1     0\n",
      "  39    2      1         0     0      0     0       0       0      0     1\n",
      "  4     0      1         0     0      0     0       0       2      0     0\n",
      "  41    0      0         2     0      0     0       0       0      0     0\n",
      "  58    1      0         1     0      1     0       0       0      1     0\n",
      "  83    1      0         1     0      0     0       0       0      1     0\n",
      "  85    1      1         0     0      0     0       0       1      0     0\n",
      "  86    0      0         0     0      0     0       0       0      0     0\n",
      "  87    0      0         0     0      0     0       1       0      0     0\n"
     ]
    }
   ],
   "source": [
    "inspect(frequencies)"
   ]
  },
  {
   "cell_type": "code",
   "execution_count": 39,
   "metadata": {},
   "outputs": [
    {
     "data": {
      "text/html": [
       "<ol class=list-inline>\n",
       "\t<li>'care'</li>\n",
       "\t<li>'clinic'</li>\n",
       "\t<li>'clinician'</li>\n",
       "\t<li>'inform'</li>\n",
       "\t<li>'organ'</li>\n",
       "\t<li>'practic'</li>\n",
       "\t<li>'present'</li>\n",
       "\t<li>'provid'</li>\n",
       "\t<li>'topic'</li>\n",
       "</ol>\n"
      ],
      "text/latex": [
       "\\begin{enumerate*}\n",
       "\\item 'care'\n",
       "\\item 'clinic'\n",
       "\\item 'clinician'\n",
       "\\item 'inform'\n",
       "\\item 'organ'\n",
       "\\item 'practic'\n",
       "\\item 'present'\n",
       "\\item 'provid'\n",
       "\\item 'topic'\n",
       "\\end{enumerate*}\n"
      ],
      "text/markdown": [
       "1. 'care'\n",
       "2. 'clinic'\n",
       "3. 'clinician'\n",
       "4. 'inform'\n",
       "5. 'organ'\n",
       "6. 'practic'\n",
       "7. 'present'\n",
       "8. 'provid'\n",
       "9. 'topic'\n",
       "\n",
       "\n"
      ],
      "text/plain": [
       "[1] \"care\"      \"clinic\"    \"clinician\" \"inform\"    \"organ\"     \"practic\"  \n",
       "[7] \"present\"   \"provid\"    \"topic\"    "
      ]
     },
     "metadata": {},
     "output_type": "display_data"
    }
   ],
   "source": [
    "findFreqTerms(frequencies, lowfreq = 10)"
   ]
  },
  {
   "cell_type": "markdown",
   "metadata": {},
   "source": [
    "So out of 356 words in our matrix only 9 words appear at least 10 times in our data. \n",
    "* the number of terms is an issue for 2 main reasons: \n",
    "    1. more terms means more independent variables, which means it takes longer to build our models. \n",
    "    2. The ration of independent variables to observations will affect how good the model will generelaize. "
   ]
  },
  {
   "cell_type": "code",
   "execution_count": 40,
   "metadata": {},
   "outputs": [
    {
     "data": {
      "text/plain": [
       "<<DocumentTermMatrix (documents: 90, terms: 356)>>\n",
       "Non-/sparse entries: 666/31374\n",
       "Sparsity           : 98%\n",
       "Maximal term length: 18\n",
       "Weighting          : term frequency (tf)"
      ]
     },
     "metadata": {},
     "output_type": "display_data"
    }
   ],
   "source": [
    "sparse <- removeSparseTerms(frequencies, 0.995)\n",
    "sparse"
   ]
  },
  {
   "cell_type": "code",
   "execution_count": 41,
   "metadata": {},
   "outputs": [
    {
     "data": {
      "text/html": [
       "<table>\n",
       "<caption>A data.frame: 6 × 356</caption>\n",
       "<thead>\n",
       "\t<tr><th></th><th scope=col>academ</th><th scope=col>access</th><th scope=col>achiev</th><th scope=col>adopt</th><th scope=col>adult</th><th scope=col>advoc</th><th scope=col>agenda</th><th scope=col>agent</th><th scope=col>align</th><th scope=col>allow</th><th scope=col>⋯</th><th scope=col>well</th><th scope=col>whole</th><th scope=col>wide</th><th scope=col>will</th><th scope=col>work</th><th scope=col>world</th><th scope=col>worldrenown</th><th scope=col>worldwid</th><th scope=col>year</th><th scope=col>younger</th></tr>\n",
       "\t<tr><th></th><th scope=col>&lt;dbl&gt;</th><th scope=col>&lt;dbl&gt;</th><th scope=col>&lt;dbl&gt;</th><th scope=col>&lt;dbl&gt;</th><th scope=col>&lt;dbl&gt;</th><th scope=col>&lt;dbl&gt;</th><th scope=col>&lt;dbl&gt;</th><th scope=col>&lt;dbl&gt;</th><th scope=col>&lt;dbl&gt;</th><th scope=col>&lt;dbl&gt;</th><th scope=col>⋯</th><th scope=col>&lt;dbl&gt;</th><th scope=col>&lt;dbl&gt;</th><th scope=col>&lt;dbl&gt;</th><th scope=col>&lt;dbl&gt;</th><th scope=col>&lt;dbl&gt;</th><th scope=col>&lt;dbl&gt;</th><th scope=col>&lt;dbl&gt;</th><th scope=col>&lt;dbl&gt;</th><th scope=col>&lt;dbl&gt;</th><th scope=col>&lt;dbl&gt;</th></tr>\n",
       "</thead>\n",
       "<tbody>\n",
       "\t<tr><th scope=row>1</th><td>0</td><td>0</td><td>0</td><td>0</td><td>0</td><td>0</td><td>0</td><td>0</td><td>0</td><td>0</td><td>⋯</td><td>0</td><td>0</td><td>0</td><td>0</td><td>0</td><td>0</td><td>0</td><td>0</td><td>0</td><td>0</td></tr>\n",
       "\t<tr><th scope=row>2</th><td>0</td><td>0</td><td>0</td><td>0</td><td>0</td><td>0</td><td>0</td><td>0</td><td>0</td><td>0</td><td>⋯</td><td>0</td><td>0</td><td>0</td><td>0</td><td>0</td><td>0</td><td>0</td><td>0</td><td>0</td><td>0</td></tr>\n",
       "\t<tr><th scope=row>3</th><td>0</td><td>0</td><td>0</td><td>0</td><td>0</td><td>0</td><td>0</td><td>0</td><td>0</td><td>0</td><td>⋯</td><td>0</td><td>0</td><td>0</td><td>0</td><td>0</td><td>0</td><td>0</td><td>0</td><td>0</td><td>0</td></tr>\n",
       "\t<tr><th scope=row>4</th><td>0</td><td>0</td><td>0</td><td>0</td><td>0</td><td>0</td><td>0</td><td>0</td><td>0</td><td>1</td><td>⋯</td><td>0</td><td>0</td><td>0</td><td>0</td><td>0</td><td>0</td><td>0</td><td>0</td><td>0</td><td>0</td></tr>\n",
       "\t<tr><th scope=row>5</th><td>0</td><td>0</td><td>0</td><td>0</td><td>0</td><td>0</td><td>0</td><td>0</td><td>0</td><td>0</td><td>⋯</td><td>0</td><td>0</td><td>0</td><td>0</td><td>0</td><td>0</td><td>0</td><td>0</td><td>0</td><td>0</td></tr>\n",
       "\t<tr><th scope=row>6</th><td>0</td><td>0</td><td>0</td><td>0</td><td>0</td><td>0</td><td>0</td><td>0</td><td>0</td><td>0</td><td>⋯</td><td>0</td><td>0</td><td>0</td><td>0</td><td>0</td><td>0</td><td>0</td><td>0</td><td>0</td><td>0</td></tr>\n",
       "</tbody>\n",
       "</table>\n"
      ],
      "text/latex": [
       "A data.frame: 6 × 356\n",
       "\\begin{tabular}{r|lllllllllllllllllllll}\n",
       "  & academ & access & achiev & adopt & adult & advoc & agenda & agent & align & allow & ⋯ & well & whole & wide & will & work & world & worldrenown & worldwid & year & younger\\\\\n",
       "  & <dbl> & <dbl> & <dbl> & <dbl> & <dbl> & <dbl> & <dbl> & <dbl> & <dbl> & <dbl> & ⋯ & <dbl> & <dbl> & <dbl> & <dbl> & <dbl> & <dbl> & <dbl> & <dbl> & <dbl> & <dbl>\\\\\n",
       "\\hline\n",
       "\t1 & 0 & 0 & 0 & 0 & 0 & 0 & 0 & 0 & 0 & 0 & ⋯ & 0 & 0 & 0 & 0 & 0 & 0 & 0 & 0 & 0 & 0\\\\\n",
       "\t2 & 0 & 0 & 0 & 0 & 0 & 0 & 0 & 0 & 0 & 0 & ⋯ & 0 & 0 & 0 & 0 & 0 & 0 & 0 & 0 & 0 & 0\\\\\n",
       "\t3 & 0 & 0 & 0 & 0 & 0 & 0 & 0 & 0 & 0 & 0 & ⋯ & 0 & 0 & 0 & 0 & 0 & 0 & 0 & 0 & 0 & 0\\\\\n",
       "\t4 & 0 & 0 & 0 & 0 & 0 & 0 & 0 & 0 & 0 & 1 & ⋯ & 0 & 0 & 0 & 0 & 0 & 0 & 0 & 0 & 0 & 0\\\\\n",
       "\t5 & 0 & 0 & 0 & 0 & 0 & 0 & 0 & 0 & 0 & 0 & ⋯ & 0 & 0 & 0 & 0 & 0 & 0 & 0 & 0 & 0 & 0\\\\\n",
       "\t6 & 0 & 0 & 0 & 0 & 0 & 0 & 0 & 0 & 0 & 0 & ⋯ & 0 & 0 & 0 & 0 & 0 & 0 & 0 & 0 & 0 & 0\\\\\n",
       "\\end{tabular}\n"
      ],
      "text/markdown": [
       "\n",
       "A data.frame: 6 × 356\n",
       "\n",
       "| <!--/--> | academ &lt;dbl&gt; | access &lt;dbl&gt; | achiev &lt;dbl&gt; | adopt &lt;dbl&gt; | adult &lt;dbl&gt; | advoc &lt;dbl&gt; | agenda &lt;dbl&gt; | agent &lt;dbl&gt; | align &lt;dbl&gt; | allow &lt;dbl&gt; | ⋯ ⋯ | well &lt;dbl&gt; | whole &lt;dbl&gt; | wide &lt;dbl&gt; | will &lt;dbl&gt; | work &lt;dbl&gt; | world &lt;dbl&gt; | worldrenown &lt;dbl&gt; | worldwid &lt;dbl&gt; | year &lt;dbl&gt; | younger &lt;dbl&gt; |\n",
       "|---|---|---|---|---|---|---|---|---|---|---|---|---|---|---|---|---|---|---|---|---|---|\n",
       "| 1 | 0 | 0 | 0 | 0 | 0 | 0 | 0 | 0 | 0 | 0 | ⋯ | 0 | 0 | 0 | 0 | 0 | 0 | 0 | 0 | 0 | 0 |\n",
       "| 2 | 0 | 0 | 0 | 0 | 0 | 0 | 0 | 0 | 0 | 0 | ⋯ | 0 | 0 | 0 | 0 | 0 | 0 | 0 | 0 | 0 | 0 |\n",
       "| 3 | 0 | 0 | 0 | 0 | 0 | 0 | 0 | 0 | 0 | 0 | ⋯ | 0 | 0 | 0 | 0 | 0 | 0 | 0 | 0 | 0 | 0 |\n",
       "| 4 | 0 | 0 | 0 | 0 | 0 | 0 | 0 | 0 | 0 | 1 | ⋯ | 0 | 0 | 0 | 0 | 0 | 0 | 0 | 0 | 0 | 0 |\n",
       "| 5 | 0 | 0 | 0 | 0 | 0 | 0 | 0 | 0 | 0 | 0 | ⋯ | 0 | 0 | 0 | 0 | 0 | 0 | 0 | 0 | 0 | 0 |\n",
       "| 6 | 0 | 0 | 0 | 0 | 0 | 0 | 0 | 0 | 0 | 0 | ⋯ | 0 | 0 | 0 | 0 | 0 | 0 | 0 | 0 | 0 | 0 |\n",
       "\n"
      ],
      "text/plain": [
       "  academ access achiev adopt adult advoc agenda agent align allow ⋯ well whole\n",
       "1 0      0      0      0     0     0     0      0     0     0     ⋯ 0    0    \n",
       "2 0      0      0      0     0     0     0      0     0     0     ⋯ 0    0    \n",
       "3 0      0      0      0     0     0     0      0     0     0     ⋯ 0    0    \n",
       "4 0      0      0      0     0     0     0      0     0     1     ⋯ 0    0    \n",
       "5 0      0      0      0     0     0     0      0     0     0     ⋯ 0    0    \n",
       "6 0      0      0      0     0     0     0      0     0     0     ⋯ 0    0    \n",
       "  wide will work world worldrenown worldwid year younger\n",
       "1 0    0    0    0     0           0        0    0      \n",
       "2 0    0    0    0     0           0        0    0      \n",
       "3 0    0    0    0     0           0        0    0      \n",
       "4 0    0    0    0     0           0        0    0      \n",
       "5 0    0    0    0     0           0        0    0      \n",
       "6 0    0    0    0     0           0        0    0      "
      ]
     },
     "metadata": {},
     "output_type": "display_data"
    }
   ],
   "source": [
    "output_sparse <- as.data.frame(as.matrix(sparse))\n",
    "head(output_sparse)"
   ]
  },
  {
   "cell_type": "code",
   "execution_count": 42,
   "metadata": {},
   "outputs": [],
   "source": [
    "colnames(output_sparse) <- make.names(colnames(output_sparse))"
   ]
  },
  {
   "cell_type": "code",
   "execution_count": 43,
   "metadata": {},
   "outputs": [
    {
     "data": {
      "text/html": [
       "<table>\n",
       "<caption>A data.frame: 6 × 357</caption>\n",
       "<thead>\n",
       "\t<tr><th></th><th scope=col>academ</th><th scope=col>access</th><th scope=col>achiev</th><th scope=col>adopt</th><th scope=col>adult</th><th scope=col>advoc</th><th scope=col>agenda</th><th scope=col>agent</th><th scope=col>align</th><th scope=col>allow</th><th scope=col>⋯</th><th scope=col>whole</th><th scope=col>wide</th><th scope=col>will</th><th scope=col>work</th><th scope=col>world</th><th scope=col>worldrenown</th><th scope=col>worldwid</th><th scope=col>year</th><th scope=col>younger</th><th scope=col>clusters</th></tr>\n",
       "\t<tr><th></th><th scope=col>&lt;dbl&gt;</th><th scope=col>&lt;dbl&gt;</th><th scope=col>&lt;dbl&gt;</th><th scope=col>&lt;dbl&gt;</th><th scope=col>&lt;dbl&gt;</th><th scope=col>&lt;dbl&gt;</th><th scope=col>&lt;dbl&gt;</th><th scope=col>&lt;dbl&gt;</th><th scope=col>&lt;dbl&gt;</th><th scope=col>&lt;dbl&gt;</th><th scope=col>⋯</th><th scope=col>&lt;dbl&gt;</th><th scope=col>&lt;dbl&gt;</th><th scope=col>&lt;dbl&gt;</th><th scope=col>&lt;dbl&gt;</th><th scope=col>&lt;dbl&gt;</th><th scope=col>&lt;dbl&gt;</th><th scope=col>&lt;dbl&gt;</th><th scope=col>&lt;dbl&gt;</th><th scope=col>&lt;dbl&gt;</th><th scope=col>&lt;fct&gt;</th></tr>\n",
       "</thead>\n",
       "<tbody>\n",
       "\t<tr><th scope=row>1</th><td>0</td><td>0</td><td>0</td><td>0</td><td>0</td><td>0</td><td>0</td><td>0</td><td>0</td><td>0</td><td>⋯</td><td>0</td><td>0</td><td>0</td><td>0</td><td>0</td><td>0</td><td>0</td><td>0</td><td>0</td><td>1</td></tr>\n",
       "\t<tr><th scope=row>2</th><td>0</td><td>0</td><td>0</td><td>0</td><td>0</td><td>0</td><td>0</td><td>0</td><td>0</td><td>0</td><td>⋯</td><td>0</td><td>0</td><td>0</td><td>0</td><td>0</td><td>0</td><td>0</td><td>0</td><td>0</td><td>2</td></tr>\n",
       "\t<tr><th scope=row>3</th><td>0</td><td>0</td><td>0</td><td>0</td><td>0</td><td>0</td><td>0</td><td>0</td><td>0</td><td>0</td><td>⋯</td><td>0</td><td>0</td><td>0</td><td>0</td><td>0</td><td>0</td><td>0</td><td>0</td><td>0</td><td>3</td></tr>\n",
       "\t<tr><th scope=row>4</th><td>0</td><td>0</td><td>0</td><td>0</td><td>0</td><td>0</td><td>0</td><td>0</td><td>0</td><td>1</td><td>⋯</td><td>0</td><td>0</td><td>0</td><td>0</td><td>0</td><td>0</td><td>0</td><td>0</td><td>0</td><td>1</td></tr>\n",
       "\t<tr><th scope=row>5</th><td>0</td><td>0</td><td>0</td><td>0</td><td>0</td><td>0</td><td>0</td><td>0</td><td>0</td><td>0</td><td>⋯</td><td>0</td><td>0</td><td>0</td><td>0</td><td>0</td><td>0</td><td>0</td><td>0</td><td>0</td><td>4</td></tr>\n",
       "\t<tr><th scope=row>6</th><td>0</td><td>0</td><td>0</td><td>0</td><td>0</td><td>0</td><td>0</td><td>0</td><td>0</td><td>0</td><td>⋯</td><td>0</td><td>0</td><td>0</td><td>0</td><td>0</td><td>0</td><td>0</td><td>0</td><td>0</td><td>2</td></tr>\n",
       "</tbody>\n",
       "</table>\n"
      ],
      "text/latex": [
       "A data.frame: 6 × 357\n",
       "\\begin{tabular}{r|lllllllllllllllllllll}\n",
       "  & academ & access & achiev & adopt & adult & advoc & agenda & agent & align & allow & ⋯ & whole & wide & will & work & world & worldrenown & worldwid & year & younger & clusters\\\\\n",
       "  & <dbl> & <dbl> & <dbl> & <dbl> & <dbl> & <dbl> & <dbl> & <dbl> & <dbl> & <dbl> & ⋯ & <dbl> & <dbl> & <dbl> & <dbl> & <dbl> & <dbl> & <dbl> & <dbl> & <dbl> & <fct>\\\\\n",
       "\\hline\n",
       "\t1 & 0 & 0 & 0 & 0 & 0 & 0 & 0 & 0 & 0 & 0 & ⋯ & 0 & 0 & 0 & 0 & 0 & 0 & 0 & 0 & 0 & 1\\\\\n",
       "\t2 & 0 & 0 & 0 & 0 & 0 & 0 & 0 & 0 & 0 & 0 & ⋯ & 0 & 0 & 0 & 0 & 0 & 0 & 0 & 0 & 0 & 2\\\\\n",
       "\t3 & 0 & 0 & 0 & 0 & 0 & 0 & 0 & 0 & 0 & 0 & ⋯ & 0 & 0 & 0 & 0 & 0 & 0 & 0 & 0 & 0 & 3\\\\\n",
       "\t4 & 0 & 0 & 0 & 0 & 0 & 0 & 0 & 0 & 0 & 1 & ⋯ & 0 & 0 & 0 & 0 & 0 & 0 & 0 & 0 & 0 & 1\\\\\n",
       "\t5 & 0 & 0 & 0 & 0 & 0 & 0 & 0 & 0 & 0 & 0 & ⋯ & 0 & 0 & 0 & 0 & 0 & 0 & 0 & 0 & 0 & 4\\\\\n",
       "\t6 & 0 & 0 & 0 & 0 & 0 & 0 & 0 & 0 & 0 & 0 & ⋯ & 0 & 0 & 0 & 0 & 0 & 0 & 0 & 0 & 0 & 2\\\\\n",
       "\\end{tabular}\n"
      ],
      "text/markdown": [
       "\n",
       "A data.frame: 6 × 357\n",
       "\n",
       "| <!--/--> | academ &lt;dbl&gt; | access &lt;dbl&gt; | achiev &lt;dbl&gt; | adopt &lt;dbl&gt; | adult &lt;dbl&gt; | advoc &lt;dbl&gt; | agenda &lt;dbl&gt; | agent &lt;dbl&gt; | align &lt;dbl&gt; | allow &lt;dbl&gt; | ⋯ ⋯ | whole &lt;dbl&gt; | wide &lt;dbl&gt; | will &lt;dbl&gt; | work &lt;dbl&gt; | world &lt;dbl&gt; | worldrenown &lt;dbl&gt; | worldwid &lt;dbl&gt; | year &lt;dbl&gt; | younger &lt;dbl&gt; | clusters &lt;fct&gt; |\n",
       "|---|---|---|---|---|---|---|---|---|---|---|---|---|---|---|---|---|---|---|---|---|---|\n",
       "| 1 | 0 | 0 | 0 | 0 | 0 | 0 | 0 | 0 | 0 | 0 | ⋯ | 0 | 0 | 0 | 0 | 0 | 0 | 0 | 0 | 0 | 1 |\n",
       "| 2 | 0 | 0 | 0 | 0 | 0 | 0 | 0 | 0 | 0 | 0 | ⋯ | 0 | 0 | 0 | 0 | 0 | 0 | 0 | 0 | 0 | 2 |\n",
       "| 3 | 0 | 0 | 0 | 0 | 0 | 0 | 0 | 0 | 0 | 0 | ⋯ | 0 | 0 | 0 | 0 | 0 | 0 | 0 | 0 | 0 | 3 |\n",
       "| 4 | 0 | 0 | 0 | 0 | 0 | 0 | 0 | 0 | 0 | 1 | ⋯ | 0 | 0 | 0 | 0 | 0 | 0 | 0 | 0 | 0 | 1 |\n",
       "| 5 | 0 | 0 | 0 | 0 | 0 | 0 | 0 | 0 | 0 | 0 | ⋯ | 0 | 0 | 0 | 0 | 0 | 0 | 0 | 0 | 0 | 4 |\n",
       "| 6 | 0 | 0 | 0 | 0 | 0 | 0 | 0 | 0 | 0 | 0 | ⋯ | 0 | 0 | 0 | 0 | 0 | 0 | 0 | 0 | 0 | 2 |\n",
       "\n"
      ],
      "text/plain": [
       "  academ access achiev adopt adult advoc agenda agent align allow ⋯ whole wide\n",
       "1 0      0      0      0     0     0     0      0     0     0     ⋯ 0     0   \n",
       "2 0      0      0      0     0     0     0      0     0     0     ⋯ 0     0   \n",
       "3 0      0      0      0     0     0     0      0     0     0     ⋯ 0     0   \n",
       "4 0      0      0      0     0     0     0      0     0     1     ⋯ 0     0   \n",
       "5 0      0      0      0     0     0     0      0     0     0     ⋯ 0     0   \n",
       "6 0      0      0      0     0     0     0      0     0     0     ⋯ 0     0   \n",
       "  will work world worldrenown worldwid year younger clusters\n",
       "1 0    0    0     0           0        0    0       1       \n",
       "2 0    0    0     0           0        0    0       2       \n",
       "3 0    0    0     0           0        0    0       3       \n",
       "4 0    0    0     0           0        0    0       1       \n",
       "5 0    0    0     0           0        0    0       4       \n",
       "6 0    0    0     0           0        0    0       2       "
      ]
     },
     "metadata": {},
     "output_type": "display_data"
    }
   ],
   "source": [
    "output_sparse$clusters <- as.factor(output$CLU5)\n",
    "head(output_sparse)"
   ]
  },
  {
   "cell_type": "markdown",
   "metadata": {},
   "source": [
    "## Split Data into Training & Testing "
   ]
  },
  {
   "cell_type": "code",
   "execution_count": 44,
   "metadata": {},
   "outputs": [
    {
     "name": "stdout",
     "output_type": "stream",
     "text": [
      "\n",
      "The downloaded binary packages are in\n",
      "\t/var/folders/d5/g3x3m16j4g77jkr7m0s_qgtm0000gn/T//RtmpTkiH9n/downloaded_packages\n"
     ]
    }
   ],
   "source": [
    "#install.packages(c('caTools', 'rpart','rpart.plot'))"
   ]
  },
  {
   "cell_type": "code",
   "execution_count": 45,
   "metadata": {},
   "outputs": [],
   "source": [
    "library(caTools)\n",
    "library(rpart)\n",
    "library(rpart.plot)"
   ]
  },
  {
   "cell_type": "code",
   "execution_count": 46,
   "metadata": {},
   "outputs": [],
   "source": [
    "set.seed(123)\n",
    "split <- sample.split(output_sparse$clusters, SplitRatio = 0.7)\n",
    "\n",
    "trainSparse <- subset(output_sparse, split == TRUE)\n",
    "testSparse <- subset(output_sparse, split == FALSE)"
   ]
  },
  {
   "cell_type": "markdown",
   "metadata": {},
   "source": [
    "## CART Model"
   ]
  },
  {
   "cell_type": "code",
   "execution_count": 47,
   "metadata": {},
   "outputs": [
    {
     "ename": "ERROR",
     "evalue": "Error in rpart(clusters ~ ., data = trainSparse, type = \"class\"): Argument type not matched\n",
     "output_type": "error",
     "traceback": [
      "Error in rpart(clusters ~ ., data = trainSparse, type = \"class\"): Argument type not matched\nTraceback:\n",
      "1. rpart(clusters ~ ., data = trainSparse, type = \"class\")",
      "2. stop(gettextf(\"Argument %s not matched\", names(extraArgs)[indx == \n .     0L]), domain = NA)"
     ]
    }
   ],
   "source": [
    "# Build a CART model\n",
    "\n",
    "outputCART <- rpart(clusters ~ ., data = trainSparse, type = \"class\")\n",
    "prp(outputCART)"
   ]
  },
  {
   "cell_type": "code",
   "execution_count": 48,
   "metadata": {},
   "outputs": [
    {
     "ename": "ERROR",
     "evalue": "Error in predict(outputCART, newdata = testSparse, type = \"class\"): object 'outputCART' not found\n",
     "output_type": "error",
     "traceback": [
      "Error in predict(outputCART, newdata = testSparse, type = \"class\"): object 'outputCART' not found\nTraceback:\n",
      "1. predict(outputCART, newdata = testSparse, type = \"class\")"
     ]
    }
   ],
   "source": [
    "# Evaluate the performance of the model\n",
    "predictCART = predict(outputCART, newdata=testSparse, type=\"class\")\n",
    "\n",
    "table(testSparse$clusters, predictCART)\n"
   ]
  },
  {
   "cell_type": "markdown",
   "metadata": {},
   "source": [
    "## Random Forest Classification"
   ]
  },
  {
   "cell_type": "code",
   "execution_count": 50,
   "metadata": {},
   "outputs": [],
   "source": [
    "#install.packages('randomForest')\n",
    "library(randomForest)"
   ]
  },
  {
   "cell_type": "code",
   "execution_count": 51,
   "metadata": {},
   "outputs": [],
   "source": [
    "set.seed(123)\n",
    "\n",
    "outputRF <- randomForest(clusters ~ ., data = trainSparse)"
   ]
  },
  {
   "cell_type": "code",
   "execution_count": 57,
   "metadata": {},
   "outputs": [
    {
     "data": {
      "text/plain": [
       "\n",
       "Call:\n",
       " randomForest(formula = clusters ~ ., data = trainSparse) \n",
       "               Type of random forest: classification\n",
       "                     Number of trees: 500\n",
       "No. of variables tried at each split: 18\n",
       "\n",
       "        OOB estimate of  error rate: 69.35%\n",
       "Confusion matrix:\n",
       "  1 2 3  4 5 class.error\n",
       "1 2 3 0  8 0   0.8461538\n",
       "2 0 2 0 13 0   0.8666667\n",
       "3 0 0 0  8 0   1.0000000\n",
       "4 2 4 1 13 0   0.3500000\n",
       "5 0 0 0  4 2   0.6666667"
      ]
     },
     "metadata": {},
     "output_type": "display_data"
    }
   ],
   "source": [
    "outputRF"
   ]
  },
  {
   "cell_type": "code",
   "execution_count": 52,
   "metadata": {},
   "outputs": [
    {
     "data": {
      "text/plain": [
       "\n",
       "1 2 3 4 5 \n",
       "6 6 4 9 3 "
      ]
     },
     "metadata": {},
     "output_type": "display_data"
    }
   ],
   "source": [
    "# compare with baseline model\n",
    "table(testSparse$clusters)"
   ]
  },
  {
   "cell_type": "code",
   "execution_count": 53,
   "metadata": {},
   "outputs": [
    {
     "data": {
      "text/plain": [
       "   predictRF\n",
       "    1 2 3 4 5\n",
       "  1 3 1 0 2 0\n",
       "  2 0 0 0 6 0\n",
       "  3 0 2 0 2 0\n",
       "  4 0 0 0 9 0\n",
       "  5 0 0 0 2 1"
      ]
     },
     "metadata": {},
     "output_type": "display_data"
    }
   ],
   "source": [
    "# Make Predictions\n",
    "\n",
    "predictRF <- predict(outputRF, newdata = testSparse)\n",
    "table(testSparse$clusters, predictRF)"
   ]
  },
  {
   "cell_type": "code",
   "execution_count": 54,
   "metadata": {},
   "outputs": [
    {
     "data": {
      "text/html": [
       "0.464285714285714"
      ],
      "text/latex": [
       "0.464285714285714"
      ],
      "text/markdown": [
       "0.464285714285714"
      ],
      "text/plain": [
       "[1] 0.4642857"
      ]
     },
     "metadata": {},
     "output_type": "display_data"
    }
   ],
   "source": [
    "# Accuracy \n",
    "(3+0+0+9+1)/(3+1+2+6+2+2+9+2+1)"
   ]
  },
  {
   "cell_type": "markdown",
   "metadata": {},
   "source": [
    "## --- CLOSE ---"
   ]
  },
  {
   "cell_type": "code",
   "execution_count": 316,
   "metadata": {},
   "outputs": [
    {
     "data": {
      "text/plain": [
       "<<DocumentTermMatrix (documents: 90, terms: 356)>>\n",
       "Non-/sparse entries: 666/31374\n",
       "Sparsity           : 98%\n",
       "Maximal term length: 18\n",
       "Weighting          : term frequency - inverse document frequency (normalized) (tf-idf)"
      ]
     },
     "metadata": {},
     "output_type": "display_data"
    }
   ],
   "source": [
    "mat4_output <- weightTfIdf(mat_output)\n",
    "mat4_output"
   ]
  },
  {
   "cell_type": "code",
   "execution_count": 317,
   "metadata": {},
   "outputs": [
    {
     "data": {
      "text/html": [
       "<ol class=list-inline>\n",
       "\t<li>90</li>\n",
       "\t<li>356</li>\n",
       "</ol>\n"
      ],
      "text/latex": [
       "\\begin{enumerate*}\n",
       "\\item 90\n",
       "\\item 356\n",
       "\\end{enumerate*}\n"
      ],
      "text/markdown": [
       "1. 90\n",
       "2. 356\n",
       "\n",
       "\n"
      ],
      "text/plain": [
       "[1]  90 356"
      ]
     },
     "metadata": {},
     "output_type": "display_data"
    },
    {
     "data": {
      "text/html": [
       "<table>\n",
       "<caption>A matrix: 6 × 356 of type dbl</caption>\n",
       "<thead>\n",
       "\t<tr><th scope=col>academ</th><th scope=col>access</th><th scope=col>achiev</th><th scope=col>adopt</th><th scope=col>adult</th><th scope=col>advoc</th><th scope=col>agenda</th><th scope=col>agent</th><th scope=col>align</th><th scope=col>allow</th><th scope=col>⋯</th><th scope=col>well</th><th scope=col>whole</th><th scope=col>wide</th><th scope=col>will</th><th scope=col>work</th><th scope=col>world</th><th scope=col>worldrenown</th><th scope=col>worldwid</th><th scope=col>year</th><th scope=col>younger</th></tr>\n",
       "</thead>\n",
       "<tbody>\n",
       "\t<tr><td>0</td><td>0</td><td>0</td><td>0</td><td>0</td><td>0</td><td>0</td><td>0</td><td>0</td><td>0.0000000</td><td>⋯</td><td>0</td><td>0</td><td>0</td><td>0</td><td>0</td><td>0</td><td>0</td><td>0</td><td>0</td><td>0</td></tr>\n",
       "\t<tr><td>0</td><td>0</td><td>0</td><td>0</td><td>0</td><td>0</td><td>0</td><td>0</td><td>0</td><td>0.0000000</td><td>⋯</td><td>0</td><td>0</td><td>0</td><td>0</td><td>0</td><td>0</td><td>0</td><td>0</td><td>0</td><td>0</td></tr>\n",
       "\t<tr><td>0</td><td>0</td><td>0</td><td>0</td><td>0</td><td>0</td><td>0</td><td>0</td><td>0</td><td>0.0000000</td><td>⋯</td><td>0</td><td>0</td><td>0</td><td>0</td><td>0</td><td>0</td><td>0</td><td>0</td><td>0</td><td>0</td></tr>\n",
       "\t<tr><td>0</td><td>0</td><td>0</td><td>0</td><td>0</td><td>0</td><td>0</td><td>0</td><td>0</td><td>0.5409878</td><td>⋯</td><td>0</td><td>0</td><td>0</td><td>0</td><td>0</td><td>0</td><td>0</td><td>0</td><td>0</td><td>0</td></tr>\n",
       "\t<tr><td>0</td><td>0</td><td>0</td><td>0</td><td>0</td><td>0</td><td>0</td><td>0</td><td>0</td><td>0.0000000</td><td>⋯</td><td>0</td><td>0</td><td>0</td><td>0</td><td>0</td><td>0</td><td>0</td><td>0</td><td>0</td><td>0</td></tr>\n",
       "\t<tr><td>0</td><td>0</td><td>0</td><td>0</td><td>0</td><td>0</td><td>0</td><td>0</td><td>0</td><td>0.0000000</td><td>⋯</td><td>0</td><td>0</td><td>0</td><td>0</td><td>0</td><td>0</td><td>0</td><td>0</td><td>0</td><td>0</td></tr>\n",
       "</tbody>\n",
       "</table>\n"
      ],
      "text/latex": [
       "A matrix: 6 × 356 of type dbl\n",
       "\\begin{tabular}{r|llllllllllllllllllllllllllllllllllllllllllllllllllllllllllllllllllllllllllllllllllllllllllllllllllllllllllllllllllllllllllllllllllllllllllllllllllllllllllllllllllllllllllllllllllllllllllllllllllllllllllllllllllllllllllllllllllllllllllllllllllllllllllllllllllllllllllllllllllllllllllllllllllllllllllllllllllllllllllllllllllllllllllllllllllllllllllllllllllll}\n",
       " academ & access & achiev & adopt & adult & advoc & agenda & agent & align & allow & altern & among & ancillari & andor & answer & appeal & appli & applic & approach & archiv & area & areassystem & around & art & aspect & attend & attent & audienc & audiolog & avail & avenu & awar & base & beauti & bench & benefit & beyond & bleed & blend & box & brief & bring & build & call & can & care & case & catch & certif & challeng & chang & cheeri & chronic & cite & citi & clinic & clinician & colleagu & comment & communiti & comprehens & concept & condit & conferenc & consid & contact & content & controversi & convey & correct & countri & cover & creat & credit & critic & current & cut & cycl & date & day & demand & demonstr & detect & determin & develop & differ & direct & disciplin & discoveri & discuss & diseas & disord & dissemin & divers & divid & divis & domain & done & dont & due & dynam & earli & easier & edg & educ & effect & embrac & enabl & engag & enhanc & entranc & etc & ethic & evid & evidencebas & exam & exampl & excit & expand & experi & experienc & expert & extens & faculti & famili & featur & feed & fewer & field & find & focus & follow & format & forum & free & fulli & gear & general & generat & get & global & good & grand & great & group & gtube & guidelin & health & healthcar & help & high & highlight & histor & idea & identifi & ill & impact & impart & import & improv & includ & increas & individu & infecti & influenc & inform & initi & inner & innov & insight & insist & inspir & instanc & institut & interact & interest & intern & internet & invit & involv & issu & just & key & know & knowledg & known & landscap & larg & latest & leader & learn & lectur & level & liabil & licensur & like & local & locat & maintain & mainten & make & manag & map & may & medic & meet & mental & method & mix & month & multicultur & multidimension & multidisciplinari & must & nation & necessarili & need & new & novel & offic & one & opportun & organ & organiz & organizationput & outcom & particip & patient & peopl & percentag & person & pertin & phase & phrase & physician & place & plan & point & polici & polit & portion & practic & practition & present & primari & probe & problem & profession & program & progress & project & protocol & provid & providersclinician & provok & psycholog & psychosoci & public & put & question & rang & rate & real & recent & recertif & recogn & refer & referenc & reflect & reform & rehabilit & relat & relev & remind & research & resid & respect & review & rise & room & round & scientif & scope & see & senior & sensit & servic & session & show & showoff & signific & similar & sleep & social & sort & sourc & speak & speaker & specialist & specialti & specif & staff & star & state & stateofth & stateoftheart & stimul & strateg & studi & subject & subspecialti & support & surgeri & surviv & tackl & team & techniqu & theme & therapi & thing & think & thought & threaten & time & topic & touchyfe & toward & trach & tradit & train & traine & translat & tremend & trench & trend & understand & uptod & use & usual & varieti & via & video & view & visit & way & welcom & well & whole & wide & will & work & world & worldrenown & worldwid & year & younger\\\\\n",
       "\\hline\n",
       "\t 0 & 0 & 0 & 0 & 0 & 0 & 0 & 0 & 0 & 0.0000000 & 0 & 0 & 0 & 0 & 0 & 0 & 0 & 0 & 0 & 0 & 0.000000 & 0 & 0 & 0 & 0 & 0 & 0 & 0.8729633 & 0 & 0 & 0 & 0 & 0 & 0.0000000 & 0 & 0 & 0 & 0 & 0 & 0.0000000 & 0 & 0 & 0 & 0 & 0 & 0 & 0.0000000 & 0 & 0 & 1.372963 & 0 & 0 & 0.0000000 & 0 & 0 & 0.0000000 & 0 & 0 & 0.0000000 & 0.0000000 & 0 & 0.000000 & 0 & 0 & 0 & 0 & 0 & 0 & 0 & 0 & 0 & 0.0000000 & 0 & 0 & 0 & 0 & 0 & 0 & 0 & 0 & 0 & 0 & 0 & 0 & 0 & 0 & 0 & 0 & 0 & 0.0000000 & 0 & 0 & 0 & 0 & 0 & 0 & 0 & 0 & 0 & 0 & 0 & 0 & 0 & 0 & 0.0000000 & 0 & 0 & 0 & 0 & 0 & 0 & 0 & 0 & 0 & 0 & 0 & 0 & 0 & 0 & 0 & 0 & 0 & 0 & 0 & 0 & 0 & 0 & 0 & 0 & 0 & 0 & 0 & 0.0000000 & 0.000000 & 0 & 0 & 0 & 0 & 0 & 0 & 0 & 0 & 0 & 0 & 0 & 0 & 0 & 0.0000000 & 0 & 0 & 0 & 0 & 0 & 0.0000000 & 0 & 0 & 0 & 0 & 0 & 0 & 0 & 0 & 0 & 0 & 0 & 0 & 0 & 0 & 0 & 0 & 0 & 0 & 0 & 0 & 0 & 0 & 0 & 0 & 0 & 0 & 0.0000000 & 0 & 0 & 0 & 0 & 0 & 0 & 0.0000000 & 0 & 0 & 0 & 0 & 0 & 0 & 0 & 0 & 0 & 0 & 0 & 0 & 0 & 0 & 0 & 0 & 0.0000000 & 0 & 0 & 0 & 0 & 0 & 0 & 0 & 0 & 0 & 0 & 0 & 0 & 0 & 0.000000 & 0 & 0.0000000 & 0.0000000 & 0.0000000 & 0 & 0 & 0 & 0 & 0.0000000 & 0 & 0 & 0 & 0 & 0 & 0 & 0 & 0 & 0.0000000 & 0 & 0 & 0 & 0 & 0.7581054 & 0 & 0.0000000 & 0 & 0 & 0.0000000 & 0 & 0 & 0 & 0 & 0 & 0.0000000 & 0 & 0 & 0 & 0 & 0 & 0 & 1.2267226 & 0 & 0 & 0 & 0.0000000 & 0 & 0 & 0 & 0 & 0 & 0 & 0 & 0 & 0.000000 & 0 & 0 & 0 & 0 & 0 & 0 & 0 & 0 & 0 & 0 & 0 & 0 & 0 & 0 & 0 & 0 & 0 & 0 & 0 & 0 & 0 & 0 & 0 & 0 & 0.0000000 & 0.0000000 & 0 & 0 & 0 & 0 & 0 & 0 & 0 & 0 & 0.000000 & 0 & 0 & 0 & 0 & 0 & 0 & 0 & 0 & 0.000000 & 0 & 0.000000 & 0 & 0 & 0 & 0 & 0 & 0.0000000 & 0 & 0 & 0 & 0 & 0 & 0 & 0 & 0 & 0 & 0 & 0 & 0 & 0 & 0 & 0 & 0 & 0 & 0 & 0 & 0 & 0 & 0 & 0 & 0 & 0 & 0 & 0 & 0 & 0 & 0 & 0\\\\\n",
       "\t 0 & 0 & 0 & 0 & 0 & 0 & 0 & 0 & 0 & 0.0000000 & 0 & 0 & 0 & 0 & 0 & 0 & 0 & 0 & 0 & 0 & 0.000000 & 0 & 0 & 0 & 0 & 0 & 0 & 0.0000000 & 0 & 0 & 0 & 0 & 0 & 0.0000000 & 0 & 0 & 0 & 0 & 0 & 0.0000000 & 0 & 0 & 0 & 0 & 0 & 0 & 0.0000000 & 0 & 0 & 0.000000 & 0 & 0 & 0.0000000 & 0 & 0 & 0.0000000 & 0 & 0 & 0.0000000 & 0.0000000 & 0 & 1.098371 & 0 & 0 & 0 & 0 & 0 & 0 & 0 & 0 & 0 & 0.6643856 & 0 & 0 & 0 & 0 & 0 & 0 & 0 & 0 & 0 & 0 & 0 & 0 & 0 & 0 & 0 & 0 & 0 & 0.0000000 & 0 & 0 & 0 & 0 & 0 & 0 & 0 & 0 & 0 & 0 & 0 & 0 & 0 & 0 & 0.0000000 & 0 & 0 & 0 & 0 & 0 & 0 & 0 & 0 & 0 & 0 & 0 & 0 & 0 & 0 & 0 & 0 & 0 & 0 & 0 & 0 & 0 & 0 & 0 & 0 & 0 & 0 & 0 & 0.0000000 & 0.000000 & 0 & 0 & 0 & 0 & 0 & 0 & 0 & 0 & 0 & 0 & 0 & 0 & 0 & 0.0000000 & 0 & 0 & 0 & 0 & 0 & 0.0000000 & 0 & 0 & 0 & 0 & 0 & 0 & 0 & 0 & 0 & 0 & 0 & 0 & 0 & 0 & 0 & 0 & 0 & 0 & 0 & 0 & 0 & 0 & 0 & 0 & 0 & 0 & 0.0000000 & 0 & 0 & 0 & 0 & 0 & 0 & 0.0000000 & 0 & 0 & 0 & 0 & 0 & 0 & 0 & 0 & 0 & 0 & 0 & 0 & 0 & 0 & 0 & 0 & 0.0000000 & 0 & 0 & 0 & 0 & 0 & 0 & 0 & 0 & 0 & 0 & 0 & 0 & 0 & 1.298371 & 0 & 0.0000000 & 0.0000000 & 0.0000000 & 0 & 0 & 0 & 0 & 0.0000000 & 0 & 0 & 0 & 0 & 0 & 0 & 0 & 0 & 0.0000000 & 0 & 0 & 0 & 0 & 0.0000000 & 0 & 0.0000000 & 0 & 0 & 0.0000000 & 0 & 0 & 0 & 0 & 0 & 0.0000000 & 0 & 0 & 0 & 0 & 0 & 0 & 0.0000000 & 0 & 0 & 0 & 0.0000000 & 0 & 0 & 0 & 0 & 0 & 0 & 0 & 0 & 0.000000 & 0 & 0 & 0 & 0 & 0 & 0 & 0 & 0 & 0 & 0 & 0 & 0 & 0 & 0 & 0 & 0 & 0 & 0 & 0 & 0 & 0 & 0 & 0 & 0 & 0.0000000 & 0.0000000 & 0 & 0 & 0 & 0 & 0 & 0 & 0 & 0 & 0.000000 & 0 & 0 & 0 & 0 & 0 & 0 & 0 & 0 & 1.298371 & 0 & 1.098371 & 0 & 0 & 0 & 0 & 0 & 0.0000000 & 0 & 0 & 0 & 0 & 0 & 0 & 0 & 0 & 0 & 0 & 0 & 0 & 0 & 0 & 0 & 0 & 0 & 0 & 0 & 0 & 0 & 0 & 0 & 0 & 0 & 0 & 0 & 0 & 0 & 0 & 0\\\\\n",
       "\t 0 & 0 & 0 & 0 & 0 & 0 & 0 & 0 & 0 & 0.0000000 & 0 & 0 & 0 & 0 & 0 & 0 & 0 & 0 & 0 & 0 & 0.000000 & 0 & 0 & 0 & 0 & 0 & 0 & 0.0000000 & 0 & 0 & 0 & 0 & 0 & 0.0000000 & 0 & 0 & 0 & 0 & 0 & 0.0000000 & 0 & 0 & 0 & 0 & 0 & 0 & 0.0000000 & 0 & 0 & 0.000000 & 0 & 0 & 0.0000000 & 0 & 0 & 0.0000000 & 0 & 0 & 0.0000000 & 0.3879837 & 0 & 0.000000 & 0 & 0 & 0 & 0 & 0 & 0 & 0 & 0 & 0 & 0.0000000 & 0 & 0 & 0 & 0 & 0 & 0 & 0 & 0 & 0 & 0 & 0 & 0 & 0 & 0 & 0 & 0 & 0 & 0.0000000 & 0 & 0 & 0 & 0 & 0 & 0 & 0 & 0 & 0 & 0 & 0 & 0 & 0 & 0 & 0.6102059 & 0 & 0 & 0 & 0 & 0 & 0 & 0 & 0 & 0 & 0 & 0 & 0 & 0 & 0 & 0 & 0 & 0 & 0 & 0 & 0 & 0 & 0 & 0 & 0 & 0 & 0 & 0 & 0.0000000 & 0.721317 & 0 & 0 & 0 & 0 & 0 & 0 & 0 & 0 & 0 & 0 & 0 & 0 & 0 & 0.4990948 & 0 & 0 & 0 & 0 & 0 & 0.0000000 & 0 & 0 & 0 & 0 & 0 & 0 & 0 & 0 & 0 & 0 & 0 & 0 & 0 & 0 & 0 & 0 & 0 & 0 & 0 & 0 & 0 & 0 & 0 & 0 & 0 & 0 & 0.0000000 & 0 & 0 & 0 & 0 & 0 & 0 & 0.5452101 & 0 & 0 & 0 & 0 & 0 & 0 & 0 & 0 & 0 & 0 & 0 & 0 & 0 & 0 & 0 & 0 & 0.0000000 & 0 & 0 & 0 & 0 & 0 & 0 & 0 & 0 & 0 & 0 & 0 & 0 & 0 & 0.000000 & 0 & 0.0000000 & 0.0000000 & 0.3522139 & 0 & 0 & 0 & 0 & 0.0000000 & 0 & 0 & 0 & 0 & 0 & 0 & 0 & 0 & 0.0000000 & 0 & 0 & 0 & 0 & 0.0000000 & 0 & 0.0000000 & 0 & 0 & 0.0000000 & 0 & 0 & 0 & 0 & 0 & 0.2982776 & 0 & 0 & 0 & 0 & 0 & 0 & 0.0000000 & 0 & 0 & 0 & 0.0000000 & 0 & 0 & 0 & 0 & 0 & 0 & 0 & 0 & 0.463325 & 0 & 0 & 0 & 0 & 0 & 0 & 0 & 0 & 0 & 0 & 0 & 0 & 0 & 0 & 0 & 0 & 0 & 0 & 0 & 0 & 0 & 0 & 0 & 0 & 0.0000000 & 0.0000000 & 0 & 0 & 0 & 0 & 0 & 0 & 0 & 0 & 0.000000 & 0 & 0 & 0 & 0 & 0 & 0 & 0 & 0 & 0.000000 & 0 & 0.000000 & 0 & 0 & 0 & 0 & 0 & 0.2332817 & 0 & 0 & 0 & 0 & 0 & 0 & 0 & 0 & 0 & 0 & 0 & 0 & 0 & 0 & 0 & 0 & 0 & 0 & 0 & 0 & 0 & 0 & 0 & 0 & 0 & 0 & 0 & 0 & 0 & 0 & 0\\\\\n",
       "\t 0 & 0 & 0 & 0 & 0 & 0 & 0 & 0 & 0 & 0.5409878 & 0 & 0 & 0 & 0 & 0 & 0 & 0 & 0 & 0 & 0 & 0.000000 & 0 & 0 & 0 & 0 & 0 & 0 & 0.0000000 & 0 & 0 & 0 & 0 & 0 & 0.0000000 & 0 & 0 & 0 & 0 & 0 & 0.0000000 & 0 & 0 & 0 & 0 & 0 & 0 & 0.5409878 & 0 & 0 & 0.000000 & 0 & 0 & 0.0000000 & 0 & 0 & 0.2422409 & 0 & 0 & 0.5409878 & 0.0000000 & 0 & 0.000000 & 0 & 0 & 0 & 0 & 0 & 0 & 0 & 0 & 0 & 0.0000000 & 0 & 0 & 0 & 0 & 0 & 0 & 0 & 0 & 0 & 0 & 0 & 0 & 0 & 0 & 0 & 0 & 0 & 0.4089075 & 0 & 0 & 0 & 0 & 0 & 0 & 0 & 0 & 0 & 0 & 0 & 0 & 0 & 0 & 0.0000000 & 0 & 0 & 0 & 0 & 0 & 0 & 0 & 0 & 0 & 0 & 0 & 0 & 0 & 0 & 0 & 0 & 0 & 0 & 0 & 0 & 0 & 0 & 0 & 0 & 0 & 0 & 0 & 0.4089075 & 0.000000 & 0 & 0 & 0 & 0 & 0 & 0 & 0 & 0 & 0 & 0 & 0 & 0 & 0 & 0.0000000 & 0 & 0 & 0 & 0 & 0 & 0.0000000 & 0 & 0 & 0 & 0 & 0 & 0 & 0 & 0 & 0 & 0 & 0 & 0 & 0 & 0 & 0 & 0 & 0 & 0 & 0 & 0 & 0 & 0 & 0 & 0 & 0 & 0 & 0.3474938 & 0 & 0 & 0 & 0 & 0 & 0 & 0.0000000 & 0 & 0 & 0 & 0 & 0 & 0 & 0 & 0 & 0 & 0 & 0 & 0 & 0 & 0 & 0 & 0 & 0.0000000 & 0 & 0 & 0 & 0 & 0 & 0 & 0 & 0 & 0 & 0 & 0 & 0 & 0 & 0.000000 & 0 & 0.0000000 & 0.4576544 & 0.0000000 & 0 & 0 & 0 & 0 & 0.0000000 & 0 & 0 & 0 & 0 & 0 & 0 & 0 & 0 & 0.0000000 & 0 & 0 & 0 & 0 & 0.0000000 & 0 & 0.3280485 & 0 & 0 & 0.0000000 & 0 & 0 & 0 & 0 & 0 & 0.0000000 & 0 & 0 & 0 & 0 & 0 & 0 & 0.4089075 & 0 & 0 & 0 & 0.0000000 & 0 & 0 & 0 & 0 & 0 & 0 & 0 & 0 & 0.000000 & 0 & 0 & 0 & 0 & 0 & 0 & 0 & 0 & 0 & 0 & 0 & 0 & 0 & 0 & 0 & 0 & 0 & 0 & 0 & 0 & 0 & 0 & 0 & 0 & 0.0000000 & 0.4576544 & 0 & 0 & 0 & 0 & 0 & 0 & 0 & 0 & 0.000000 & 0 & 0 & 0 & 0 & 0 & 0 & 0 & 0 & 0.000000 & 0 & 0.000000 & 0 & 0 & 0 & 0 & 0 & 0.0000000 & 0 & 0 & 0 & 0 & 0 & 0 & 0 & 0 & 0 & 0 & 0 & 0 & 0 & 0 & 0 & 0 & 0 & 0 & 0 & 0 & 0 & 0 & 0 & 0 & 0 & 0 & 0 & 0 & 0 & 0 & 0\\\\\n",
       "\t 0 & 0 & 0 & 0 & 0 & 0 & 0 & 0 & 0 & 0.0000000 & 0 & 0 & 0 & 0 & 0 & 0 & 0 & 0 & 0 & 0 & 1.098371 & 0 & 0 & 0 & 0 & 0 & 0 & 0.0000000 & 0 & 0 & 0 & 0 & 0 & 0.0000000 & 0 & 0 & 0 & 0 & 0 & 0.0000000 & 0 & 0 & 0 & 0 & 0 & 0 & 0.0000000 & 0 & 0 & 0.000000 & 0 & 0 & 0.0000000 & 0 & 0 & 0.0000000 & 0 & 0 & 0.0000000 & 0.0000000 & 0 & 0.000000 & 0 & 0 & 0 & 0 & 0 & 0 & 0 & 0 & 0 & 0.6643856 & 0 & 0 & 0 & 0 & 0 & 0 & 0 & 0 & 0 & 0 & 0 & 0 & 0 & 0 & 0 & 0 & 0 & 0.0000000 & 0 & 0 & 0 & 0 & 0 & 0 & 0 & 0 & 0 & 0 & 0 & 0 & 0 & 0 & 0.0000000 & 0 & 0 & 0 & 0 & 0 & 0 & 0 & 0 & 0 & 0 & 0 & 0 & 0 & 0 & 0 & 0 & 0 & 0 & 0 & 0 & 0 & 0 & 0 & 0 & 0 & 0 & 0 & 0.0000000 & 0.000000 & 0 & 0 & 0 & 0 & 0 & 0 & 0 & 0 & 0 & 0 & 0 & 0 & 0 & 0.0000000 & 0 & 0 & 0 & 0 & 0 & 0.0000000 & 0 & 0 & 0 & 0 & 0 & 0 & 0 & 0 & 0 & 0 & 0 & 0 & 0 & 0 & 0 & 0 & 0 & 0 & 0 & 0 & 0 & 0 & 0 & 0 & 0 & 0 & 0.0000000 & 0 & 0 & 0 & 0 & 0 & 0 & 0.0000000 & 0 & 0 & 0 & 0 & 0 & 0 & 0 & 0 & 0 & 0 & 0 & 0 & 0 & 0 & 0 & 0 & 0.0000000 & 0 & 0 & 0 & 0 & 0 & 0 & 0 & 0 & 0 & 0 & 0 & 0 & 0 & 0.000000 & 0 & 0.0000000 & 0.0000000 & 0.6339850 & 0 & 0 & 0 & 0 & 0.0000000 & 0 & 0 & 0 & 0 & 0 & 0 & 0 & 0 & 0.9813781 & 0 & 0 & 0 & 0 & 0.0000000 & 0 & 0.0000000 & 0 & 0 & 0.0000000 & 0 & 0 & 0 & 0 & 0 & 0.0000000 & 0 & 0 & 0 & 0 & 0 & 0 & 0.0000000 & 0 & 0 & 0 & 0.0000000 & 0 & 0 & 0 & 0 & 0 & 0 & 0 & 0 & 0.000000 & 0 & 0 & 0 & 0 & 0 & 0 & 0 & 0 & 0 & 0 & 0 & 0 & 0 & 0 & 0 & 0 & 0 & 0 & 0 & 0 & 0 & 0 & 0 & 0 & 0.0000000 & 0.0000000 & 0 & 0 & 0 & 0 & 0 & 0 & 0 & 0 & 1.098371 & 0 & 0 & 0 & 0 & 0 & 0 & 0 & 0 & 0.000000 & 0 & 0.000000 & 0 & 0 & 0 & 0 & 0 & 0.0000000 & 0 & 0 & 0 & 0 & 0 & 0 & 0 & 0 & 0 & 0 & 0 & 0 & 0 & 0 & 0 & 0 & 0 & 0 & 0 & 0 & 0 & 0 & 0 & 0 & 0 & 0 & 0 & 0 & 0 & 0 & 0\\\\\n",
       "\t 0 & 0 & 0 & 0 & 0 & 0 & 0 & 0 & 0 & 0.0000000 & 0 & 0 & 0 & 0 & 0 & 0 & 0 & 0 & 0 & 0 & 0.000000 & 0 & 0 & 0 & 0 & 0 & 0 & 0.0000000 & 0 & 0 & 0 & 0 & 0 & 0.5901685 & 0 & 0 & 0 & 0 & 0 & 0.5901685 & 0 & 0 & 0 & 0 & 0 & 0 & 0.0000000 & 0 & 0 & 0.000000 & 0 & 0 & 0.5901685 & 0 & 0 & 0.0000000 & 0 & 0 & 0.0000000 & 0.0000000 & 0 & 0.000000 & 0 & 0 & 0 & 0 & 0 & 0 & 0 & 0 & 0 & 0.0000000 & 0 & 0 & 0 & 0 & 0 & 0 & 0 & 0 & 0 & 0 & 0 & 0 & 0 & 0 & 0 & 0 & 0 & 0.0000000 & 0 & 0 & 0 & 0 & 0 & 0 & 0 & 0 & 0 & 0 & 0 & 0 & 0 & 0 & 0.0000000 & 0 & 0 & 0 & 0 & 0 & 0 & 0 & 0 & 0 & 0 & 0 & 0 & 0 & 0 & 0 & 0 & 0 & 0 & 0 & 0 & 0 & 0 & 0 & 0 & 0 & 0 & 0 & 0.0000000 & 0.000000 & 0 & 0 & 0 & 0 & 0 & 0 & 0 & 0 & 0 & 0 & 0 & 0 & 0 & 0.0000000 & 0 & 0 & 0 & 0 & 0 & 0.5901685 & 0 & 0 & 0 & 0 & 0 & 0 & 0 & 0 & 0 & 0 & 0 & 0 & 0 & 0 & 0 & 0 & 0 & 0 & 0 & 0 & 0 & 0 & 0 & 0 & 0 & 0 & 0.0000000 & 0 & 0 & 0 & 0 & 0 & 0 & 0.0000000 & 0 & 0 & 0 & 0 & 0 & 0 & 0 & 0 & 0 & 0 & 0 & 0 & 0 & 0 & 0 & 0 & 0.5901685 & 0 & 0 & 0 & 0 & 0 & 0 & 0 & 0 & 0 & 0 & 0 & 0 & 0 & 0.000000 & 0 & 0.4992594 & 0.0000000 & 0.0000000 & 0 & 0 & 0 & 0 & 0.3551719 & 0 & 0 & 0 & 0 & 0 & 0 & 0 & 0 & 0.0000000 & 0 & 0 & 0 & 0 & 0.0000000 & 0 & 0.1789356 & 0 & 0 & 0.5901685 & 0 & 0 & 0 & 0 & 0 & 0.0000000 & 0 & 0 & 0 & 0 & 0 & 0 & 0.0000000 & 0 & 0 & 0 & 0.4992594 & 0 & 0 & 0 & 0 & 0 & 0 & 0 & 0 & 0.000000 & 0 & 0 & 0 & 0 & 0 & 0 & 0 & 0 & 0 & 0 & 0 & 0 & 0 & 0 & 0 & 0 & 0 & 0 & 0 & 0 & 0 & 0 & 0 & 0 & 0.3551719 & 0.0000000 & 0 & 0 & 0 & 0 & 0 & 0 & 0 & 0 & 0.000000 & 0 & 0 & 0 & 0 & 0 & 0 & 0 & 0 & 0.000000 & 0 & 0.000000 & 0 & 0 & 0 & 0 & 0 & 0.0000000 & 0 & 0 & 0 & 0 & 0 & 0 & 0 & 0 & 0 & 0 & 0 & 0 & 0 & 0 & 0 & 0 & 0 & 0 & 0 & 0 & 0 & 0 & 0 & 0 & 0 & 0 & 0 & 0 & 0 & 0 & 0\\\\\n",
       "\\end{tabular}\n"
      ],
      "text/markdown": [
       "\n",
       "A matrix: 6 × 356 of type dbl\n",
       "\n",
       "| academ | access | achiev | adopt | adult | advoc | agenda | agent | align | allow | ⋯ | well | whole | wide | will | work | world | worldrenown | worldwid | year | younger |\n",
       "|---|---|---|---|---|---|---|---|---|---|---|---|---|---|---|---|---|---|---|---|---|\n",
       "| 0 | 0 | 0 | 0 | 0 | 0 | 0 | 0 | 0 | 0.0000000 | ⋯ | 0 | 0 | 0 | 0 | 0 | 0 | 0 | 0 | 0 | 0 |\n",
       "| 0 | 0 | 0 | 0 | 0 | 0 | 0 | 0 | 0 | 0.0000000 | ⋯ | 0 | 0 | 0 | 0 | 0 | 0 | 0 | 0 | 0 | 0 |\n",
       "| 0 | 0 | 0 | 0 | 0 | 0 | 0 | 0 | 0 | 0.0000000 | ⋯ | 0 | 0 | 0 | 0 | 0 | 0 | 0 | 0 | 0 | 0 |\n",
       "| 0 | 0 | 0 | 0 | 0 | 0 | 0 | 0 | 0 | 0.5409878 | ⋯ | 0 | 0 | 0 | 0 | 0 | 0 | 0 | 0 | 0 | 0 |\n",
       "| 0 | 0 | 0 | 0 | 0 | 0 | 0 | 0 | 0 | 0.0000000 | ⋯ | 0 | 0 | 0 | 0 | 0 | 0 | 0 | 0 | 0 | 0 |\n",
       "| 0 | 0 | 0 | 0 | 0 | 0 | 0 | 0 | 0 | 0.0000000 | ⋯ | 0 | 0 | 0 | 0 | 0 | 0 | 0 | 0 | 0 | 0 |\n",
       "\n"
      ],
      "text/plain": [
       "  academ access achiev adopt adult advoc agenda agent align allow     ⋯ well\n",
       "1 0      0      0      0     0     0     0      0     0     0.0000000 ⋯ 0   \n",
       "2 0      0      0      0     0     0     0      0     0     0.0000000 ⋯ 0   \n",
       "3 0      0      0      0     0     0     0      0     0     0.0000000 ⋯ 0   \n",
       "4 0      0      0      0     0     0     0      0     0     0.5409878 ⋯ 0   \n",
       "5 0      0      0      0     0     0     0      0     0     0.0000000 ⋯ 0   \n",
       "6 0      0      0      0     0     0     0      0     0     0.0000000 ⋯ 0   \n",
       "  whole wide will work world worldrenown worldwid year younger\n",
       "1 0     0    0    0    0     0           0        0    0      \n",
       "2 0     0    0    0    0     0           0        0    0      \n",
       "3 0     0    0    0    0     0           0        0    0      \n",
       "4 0     0    0    0    0     0           0        0    0      \n",
       "5 0     0    0    0    0     0           0        0    0      \n",
       "6 0     0    0    0    0     0           0        0    0      "
      ]
     },
     "metadata": {},
     "output_type": "display_data"
    }
   ],
   "source": [
    "mat4_output <- as.matrix(mat4_output)\n",
    "dim(mat4_output)\n",
    "head(mat4_output)"
   ]
  },
  {
   "cell_type": "markdown",
   "metadata": {},
   "source": [
    "## 1. NaiveBayes classifier"
   ]
  },
  {
   "cell_type": "code",
   "execution_count": 318,
   "metadata": {},
   "outputs": [],
   "source": [
    "library(e1071)\n",
    "#library(topicmodels) \n",
    "#require(plyr)\n",
    "#library(RTextTools, lib.loc = 'Library/Frameworks/R.framework/Versions/3.6/Resources/library/RTextTools-master/')"
   ]
  },
  {
   "cell_type": "markdown",
   "metadata": {},
   "source": [
    "## Functions from RTextTools"
   ]
  },
  {
   "cell_type": "code",
   "execution_count": 319,
   "metadata": {
    "jupyter": {
     "source_hidden": true
    }
   },
   "outputs": [],
   "source": [
    "recall_accuracy <- function(true_labels, predicted_labels) \n",
    "{\n",
    "    true_labels <- as.vector(true_labels)\n",
    "    predicted_labels <- as.vector(predicted_labels,mode=class(true_labels))\n",
    "    analyze <- predicted_labels == true_labels\n",
    "\n",
    "    accuracy <- length(analyze[analyze == TRUE])/length(true_labels)\n",
    "    return(accuracy)\n",
    "}\n",
    "\n",
    "create_container <- function(matrix,labels,trainSize=NULL,testSize=NULL,virgin) {\n",
    "    if (is.null(trainSize) && is.null(testSize)) stop(\"You must specify either a trainSize or testSize parameter, or both.\")\n",
    "    if (is.null(trainSize)) trainSize <- testSize\n",
    "    if (is.null(testSize)) testSize <- trainSize\n",
    "\n",
    "    totalSize <- sort(unique(append(trainSize,testSize)))\n",
    "    column_names <- colnames(matrix)\n",
    "    data_matrix <- as.compressed.matrix(matrix[totalSize])\n",
    "    \n",
    "    matrix_train_predict <- data_matrix[trainSize,]\n",
    "    matrix_test_predict <- data_matrix[testSize,]\n",
    "\n",
    "    train_code <- as.factor(labels[trainSize])\n",
    "    if (length(unique(is.na(train_code))) > 1) stop(\"All data in the training set must have corresponding codes.\")\n",
    "    \n",
    "    test_code <- as.factor(labels[testSize])\n",
    "    if (virgin == FALSE && length(unique(is.na(test_code))) > 1) stop(\"The data to be classified does not have corresponding codes. To treat this data set as virgin data, set virgin=TRUE.\")\n",
    "    \n",
    "    container <- new(\"matrix_container\", training_matrix=matrix_train_predict, classification_matrix=matrix_test_predict, training_codes=train_code, testing_codes=test_code, column_names=column_names, virgin=virgin)\n",
    "    \n",
    "    gc()\n",
    "    return(container)\n",
    "}\n",
    "\n",
    "train_model <- function(container, algorithm=c(\"SVM\",\"SLDA\",\"BOOSTING\",\"BAGGING\",\"RF\",\"GLMNET\",\"TREE\",\"NNET\",\"MAXENT\"), ...) {\n",
    "        \n",
    "        # CLEAN UP FROM PREVIOUS MODEL TRAINED\n",
    "        gc()\n",
    "        \n",
    "        # CONDITIONAL TRAINING OF MODEL\n",
    "        if (algorithm==\"SVM\") {\n",
    "\t\t\tmodel <- svm(x=container@training_matrix, y=container@training_codes, probability=TRUE, ...)\n",
    "\t\t} else if (algorithm==\"SLDA\") {\n",
    "           model <- slda(container.training_codes ~ ., data=data.frame(as.matrix(container@training_matrix),container@training_codes), ...)\n",
    "        } else if (algorithm==\"BOOSTING\") {\n",
    "            model <- LogitBoost(xlearn=as.matrix(container@training_matrix), ylearn=container@training_codes, ...)\n",
    "        } else if (algorithm==\"BAGGING\") {\n",
    "            model <- bagging(container.training_codes ~ ., data=data.frame(as.matrix(container@training_matrix),container@training_codes), ...)\n",
    "        } else if (algorithm==\"RF\") {\n",
    "            model <- randomForest(x=as.matrix(container@training_matrix), y=container@training_codes, ...)\n",
    "        } else if (algorithm==\"GLMNET\") {\n",
    "\t\t\ttraining_matrix <- as(container@training_matrix,\"sparseMatrix\")\n",
    "            model <- glmnet(x=training_matrix, y=container@training_codes, family=\"multinomial\", ...)\n",
    "        } else if (algorithm==\"TREE\") {\n",
    "            model <- tree(container.training_codes ~ ., data=data.frame(as.matrix(container@training_matrix),container@training_codes), ...)\n",
    "        } else if (algorithm==\"NNET\") {\n",
    "            model <- nnet(container.training_codes ~ ., data=data.frame(as.matrix(container@training_matrix),container@training_codes), ...)\n",
    "        } else if (algorithm==\"MAXENT\") {\n",
    "\t\t\tmodel <- maxent(container@training_matrix,as.vector(container@training_codes), ...)\n",
    "\t\t} else {\n",
    "\t\t\tstop(\"ERROR: Invalid algorithm specified. Type print_algorithms() for a list of available algorithms.\")\n",
    "\t\t}\n",
    "\t\t\n",
    "\t\t# RETURN TRAINED MODEL\n",
    "\t\tgc() # CLEAN UP AFTER MODEL\n",
    "\t\treturn(model)\n",
    "}\n",
    "\n",
    "classify_model <-\n",
    "function(container, model, s=0.01, ...) {\n",
    "\n",
    "\tgc()\n",
    "    extract_maximum_prob <- function(x) return(x[which.max(x)])\n",
    "    extract_label_from_prob <- function(x) return(which.max(x))\n",
    "\textract_label_from_prob_names <- function(x) return(rownames(as.matrix(which.max(x))))\n",
    "    \n",
    "    if (pmatch(\"svm\",class(model),nomatch=0) > 0){\n",
    "        svm_results <- predict(model,container@classification_matrix, prob=TRUE, ...) #Extract Label\n",
    "        svm_pred <- svm_results[1:length(svm_results)]\n",
    "        svm_prob <- apply(attr(svm_results,\"prob\"),1,extract_maximum_prob)\n",
    "\n",
    "        results_table <- data.frame(as.character(svm_pred),svm_prob) #need to chang svm_pred to numeric for agreescore creation\n",
    "        colnames(results_table)[1] <- \"SVM_LABEL\"\n",
    "        colnames(results_table)[2] <- \"SVM_PROB\"\n",
    "    } else\n",
    "    \n",
    "    if (pmatch(\"slda\",class(model),nomatch=0) > 0){\n",
    "        slda_results <- predict(model,data.frame(as.matrix(container@classification_matrix)),...)\n",
    "\t\tslda_pred <- apply(slda_results$posterior,1,extract_label_from_prob_names) #Extract Label Based on Probability\n",
    "\t\tslda_prob <- apply(slda_results$posterior,1,extract_maximum_prob) #Extract Highest Probability\n",
    "        \n",
    "        results_table <- data.frame(as.character(slda_pred),slda_prob)\n",
    "        colnames(results_table)[1] <- \"SLDA_LABEL\"\n",
    "\t\tcolnames(results_table)[2] <- \"SLDA_PROB\"\n",
    "    } else\n",
    "\n",
    "    if (pmatch(\"LogitBoost\",class(model),nomatch=0) > 0) {\n",
    "        lboost_results <- predict(model,xtest=as.matrix(container@classification_matrix),type=\"raw\",...) #Probability\n",
    "        lboost_pred <- apply(lboost_results,1,extract_label_from_prob_names) #Extract Label Based on Probability\n",
    "        lboost_prob <- apply(lboost_results,1,extract_maximum_prob) #Extract Highest Probability\n",
    "        \n",
    "        results_table <- data.frame(as.character(lboost_pred),lboost_prob)\n",
    "        colnames(results_table)[1] <- \"LOGITBOOST_LABEL\"\n",
    "        colnames(results_table)[2] <- \"LOGITBOOST_PROB\"\n",
    "    } else\n",
    "    \n",
    "    if (pmatch(\"classbagg\",class(model),nomatch=0) > 0) {\n",
    "        bagging_results <- predict(model,newdata=data.frame(as.matrix(container@classification_matrix)), type=c(\"prob\"),...)\n",
    "        bagging_pred <- apply(bagging_results,1,extract_label_from_prob_names) #Extract Label Based on Probability\n",
    "        bagging_prob <- apply(bagging_results,1,extract_maximum_prob) \n",
    "        \n",
    "        results_table <- data.frame(as.character(bagging_pred),bagging_prob)\n",
    "        colnames(results_table)[1] <- \"BAGGING_LABEL\"\n",
    "        colnames(results_table)[2] <- \"BAGGING_PROB\"\n",
    "    } else\n",
    "    \n",
    "    if (pmatch(\"randomForest\",class(model),nomatch=0) > 0){\n",
    "        rf_results <- predict(model,newdata=as.matrix(container@classification_matrix),type=\"prob\",...)\n",
    "\t\trf_pred <- apply(rf_results,1,extract_label_from_prob_names)\n",
    "        rf_prob <- apply(rf_results,1,extract_maximum_prob)\n",
    "\n",
    "        results_table <- data.frame(as.character(rf_pred),rf_prob)\n",
    "        colnames(results_table)[1] <- \"FORESTS_LABEL\"\n",
    "        colnames(results_table)[2] <- \"FORESTS_PROB\"\n",
    "    } else\n",
    "    \n",
    "    if (pmatch(\"glmnet\",class(model),nomatch=0) > 0){\n",
    "\t\tclassification_matrix <- as(as.matrix.csc(container@classification_matrix),\"dgCMatrix\")\n",
    "\t\t#colnames(classification_matrix) <- container@column_names\n",
    "        glmnet_results <- predict(model,newx=classification_matrix,s=s,type=\"response\",...)\n",
    "        glmnet_pred <- apply(glmnet_results[,,1],1,extract_label_from_prob_names) \n",
    "        glmnet_prob <- apply(glmnet_results,1,extract_maximum_prob) \n",
    "        \n",
    "        results_table <- data.frame(as.character(glmnet_pred),glmnet_prob)\n",
    "        colnames(results_table)[1] <- \"GLMNET_LABEL\"\n",
    "        colnames(results_table)[2] <- \"GLMNET_PROB\"\n",
    "    } else\n",
    "    \n",
    "    if (pmatch(\"tree\",class(model),nomatch=0) > 0){\n",
    "        tree_results <- predict(model,newdata=data.frame(as.matrix(container@classification_matrix)), type=\"vector\",...)\n",
    "        tree_pred <- apply(tree_results,1,extract_label_from_prob_names)\n",
    "        tree_prob <- apply(tree_results,1,extract_maximum_prob) \n",
    "        \n",
    "        results_table <- data.frame(as.character(tree_pred),tree_prob)\n",
    "        colnames(results_table)[1] <- \"TREE_LABEL\"\n",
    "        colnames(results_table)[2] <- \"TREE_PROB\"\n",
    "    } else\n",
    "\n",
    "    if (pmatch(\"nnet\",class(model),nomatch=0) > 0){\n",
    "        nnet_results <- predict(model,newdata=data.frame(as.matrix(container@classification_matrix)),...) #probabilities\n",
    "        nnet_pred <- apply(nnet_results,1,extract_label_from_prob_names) #Extract Highest Probability Score\n",
    "        nnet_prob <- apply(nnet_results,1,extract_maximum_prob) #Extract Probability\n",
    "        \n",
    "        results_table <- data.frame(as.character(nnet_pred),nnet_prob)\n",
    "        colnames(results_table)[1] <- \"NNETWORK_LABEL\"\n",
    "        colnames(results_table)[2] <- \"NNETWORK_PROB\"\n",
    "    } else\n",
    "\t\t\t\t\t\t\t   \n",
    "\tif (pmatch(\"maxent\",class(model),nomatch=0) > 0) {\n",
    "\t\tmaxent_results <- predict(model,container@classification_matrix,...)\n",
    "\t\tmaxent_pred <- maxent_results[,1]\n",
    "\t\tmaxent_prob <- apply(maxent_results[,-1],1,extract_maximum_prob)\n",
    "\t\t\n",
    "\t\tresults_table <- data.frame(as.character(maxent_pred),as.vector(maxent_prob,mode=\"numeric\"))\n",
    "\t\tcolnames(results_table)[1] <- \"MAXENTROPY_LABEL\"\n",
    "\t\tcolnames(results_table)[2] <- \"MAXENTROPY_PROB\"\n",
    "\t}\n",
    "\t\n",
    "\treturn(results_table)\n",
    "}\n"
   ]
  },
  {
   "cell_type": "code",
   "execution_count": 320,
   "metadata": {},
   "outputs": [],
   "source": [
    "y <- output_data[sample(1:nrow(output_data)),]\n",
    "y <- y$CLU5"
   ]
  },
  {
   "cell_type": "code",
   "execution_count": 321,
   "metadata": {},
   "outputs": [],
   "source": [
    "classifier <- naiveBayes(mat4_output[1:60,], y[1:60])\n",
    "predicted <- predict(classifier, as.matrix(mat4_output[61:90,]))\n"
   ]
  },
  {
   "cell_type": "code",
   "execution_count": 322,
   "metadata": {},
   "outputs": [
    {
     "ename": "ERROR",
     "evalue": "Error in table(predicted, output_data$CLU5[61:90]): all arguments must have the same length\n",
     "output_type": "error",
     "traceback": [
      "Error in table(predicted, output_data$CLU5[61:90]): all arguments must have the same length\nTraceback:\n",
      "1. table(predicted, output_data$CLU5[61:90])",
      "2. stop(\"all arguments must have the same length\")"
     ]
    }
   ],
   "source": [
    "table(predicted,output_data$CLU5[61:90])"
   ]
  },
  {
   "cell_type": "code",
   "execution_count": 323,
   "metadata": {},
   "outputs": [
    {
     "ename": "ERROR",
     "evalue": "Error in as.compressed.matrix(matrix[totalSize]): could not find function \"as.compressed.matrix\"\n",
     "output_type": "error",
     "traceback": [
      "Error in as.compressed.matrix(matrix[totalSize]): could not find function \"as.compressed.matrix\"\nTraceback:\n",
      "1. create_container(sparse, output_data$CLU5, trainSize = 1:60, \n .     testSize = 61:90, virgin = FALSE)"
     ]
    }
   ],
   "source": [
    "container <- create_container(sparse, output_data$CLU5, trainSize = 1:60, testSize = 61:90, virgin = FALSE)\n",
    "container"
   ]
  },
  {
   "cell_type": "code",
   "execution_count": null,
   "metadata": {},
   "outputs": [],
   "source": []
  }
 ],
 "metadata": {
  "kernelspec": {
   "display_name": "R",
   "language": "R",
   "name": "ir"
  },
  "language_info": {
   "codemirror_mode": "r",
   "file_extension": ".r",
   "mimetype": "text/x-r-source",
   "name": "R",
   "pygments_lexer": "r",
   "version": "3.6.2"
  }
 },
 "nbformat": 4,
 "nbformat_minor": 4
}
